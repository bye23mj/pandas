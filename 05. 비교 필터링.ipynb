{
 "cells": [
  {
   "cell_type": "markdown",
   "id": "65936651",
   "metadata": {},
   "source": [
    "### 05-01. 초과, 미만, 이상, 이하, 같음, 다름 (gt, lt, ge, le, eq, ne)"
   ]
  },
  {
   "cell_type": "markdown",
   "id": "90f382cd",
   "metadata": {},
   "source": [
    "pandas.DataFrame.gt(other, axis='columns', level=None) >   grater than </br>\n",
    "pandas.DataFrame.lt(other, axis='columns', level=None) <   less than </br>\n",
    "pandas.DataFrame.ge(other, axis='columns', level=None) >=  grater equal </br>\n",
    "pandas.DataFrame.le(other, axis='columns', level=None) <=  less equal </br>\n",
    "pandas.DataFrame.eq(other, axis='columns', level=None) ==  equal</br>\n",
    "pandas.DataFrame.ne(other, axis='columns', level=None) !=  not equal</br>\n",
    "\n",
    "less than, grater than, less equal, grater equal, equal, not equal  </br>\n",
    "\n",
    "other : 스칼라, 시퀀스, Series, DataFrame, list등이 올 수 있습니다. 비교하고자 하는 값입니다. </br>\n",
    "axis : {0 : index / 1 : columns} 비교할 레이블 입니다.  </br>\n",
    "level : 멀티인덱스 사용시 비교할 레이블의 레벨입니다.  </br>"
   ]
  },
  {
   "cell_type": "code",
   "execution_count": 3,
   "id": "0c9cf703",
   "metadata": {},
   "outputs": [],
   "source": [
    "import pandas as pd\n",
    "\n",
    "col = ['col1','col2','col3']\n",
    "row = ['A','B','C']\n",
    "df = pd.DataFrame(data=[[10,20,10],\n",
    "                        [80,30,60],\n",
    "                        [20,10,70]],index=row,columns=col)"
   ]
  },
  {
   "cell_type": "code",
   "execution_count": 4,
   "id": "eb89f14b",
   "metadata": {},
   "outputs": [
    {
     "name": "stdout",
     "output_type": "stream",
     "text": [
      "    col1   col2   col3\n",
      "A   True  False   True\n",
      "B  False  False  False\n",
      "C  False   True  False\n"
     ]
    }
   ],
   "source": [
    "print(df.eq(10)) "
   ]
  },
  {
   "cell_type": "code",
   "execution_count": 6,
   "id": "73fb5c83",
   "metadata": {},
   "outputs": [
    {
     "name": "stdout",
     "output_type": "stream",
     "text": [
      "    col1   col2  col3\n",
      "A   True  False  True\n",
      "B   True   True  True\n",
      "C  False   True  True\n"
     ]
    }
   ],
   "source": [
    "print(df.ne(20)) "
   ]
  },
  {
   "cell_type": "code",
   "execution_count": 8,
   "id": "ea3dbdbe",
   "metadata": {},
   "outputs": [
    {
     "name": "stdout",
     "output_type": "stream",
     "text": [
      "    col1   col2   col3\n",
      "A  False  False  False\n",
      "B   True  False   True\n",
      "C   True  False   True\n"
     ]
    }
   ],
   "source": [
    "# col1에서 10이상, col3에서 30이상이면 True\n",
    "s1 = pd.Series([10,30],index=[\"col1\",\"col3\"])\n",
    "print(df.gt(s1))"
   ]
  },
  {
   "cell_type": "code",
   "execution_count": 9,
   "id": "3338dc6c",
   "metadata": {},
   "outputs": [
    {
     "name": "stdout",
     "output_type": "stream",
     "text": [
      "    col1   col2   col3   col4\n",
      "A  False  False  False  False\n",
      "B  False  False  False  False\n",
      "C  False  False  False  False\n"
     ]
    }
   ],
   "source": [
    "# df에는 col4가 없기 때문에 col4가 브로드캐스트 됩니다.\n",
    "s2 = pd.Series([10],index=[\"col4\"])\n",
    "print(df.lt(s2)) "
   ]
  },
  {
   "cell_type": "code",
   "execution_count": 10,
   "id": "a1096f3b",
   "metadata": {},
   "outputs": [
    {
     "name": "stdout",
     "output_type": "stream",
     "text": [
      "    col1   col2   col3\n",
      "A   True   True   True\n",
      "B  False  False  False\n",
      "C  False   True  False\n"
     ]
    }
   ],
   "source": [
    "# 열 기준으로 비교했을때 각각 10, 20, 30 이하면 True\n",
    "print(df.le([10,20,30], axis=\"columns\")) "
   ]
  },
  {
   "cell_type": "code",
   "execution_count": 11,
   "id": "a12d3db7",
   "metadata": {},
   "outputs": [
    {
     "name": "stdout",
     "output_type": "stream",
     "text": [
      "    col1   col2   col3\n",
      "A   True  False   True\n",
      "B  False  False  False\n",
      "C   True   True  False\n"
     ]
    }
   ],
   "source": [
    "# 행 기준으로 비교했을때 각각 10,20,30 이하면 True\n",
    "print(df.le([10,20,30], axis=\"index\")) "
   ]
  },
  {
   "cell_type": "code",
   "execution_count": 12,
   "id": "36626dec",
   "metadata": {},
   "outputs": [
    {
     "name": "stdout",
     "output_type": "stream",
     "text": [
      "   col1\n",
      "A    50\n",
      "B    50\n",
      "C    50\n"
     ]
    }
   ],
   "source": [
    "df2 = pd.DataFrame([[50],[50],[50]],index=row,columns=['col1'])\n",
    "print(df2)"
   ]
  },
  {
   "cell_type": "code",
   "execution_count": 15,
   "id": "8035cc30",
   "metadata": {},
   "outputs": [
    {
     "name": "stdout",
     "output_type": "stream",
     "text": [
      "    col1   col2   col3\n",
      "A  False  False  False\n",
      "B   True  False  False\n",
      "C  False  False  False\n"
     ]
    }
   ],
   "source": [
    "# col1에 대해서 각각50, 50, 50 이상이면 True\n",
    "print(df.ge(df2)) "
   ]
  },
  {
   "cell_type": "code",
   "execution_count": 17,
   "id": "08231979",
   "metadata": {},
   "outputs": [
    {
     "name": "stdout",
     "output_type": "stream",
     "text": [
      "     col1  col2  col3\n",
      "U A    10    20    10\n",
      "  B    80    30    60\n",
      "  C    20    10    70\n",
      "D A    30    70    60\n",
      "  B    10    90    40\n",
      "  C    50    30    80\n"
     ]
    }
   ],
   "source": [
    "row_mul = [['U','U','U','D','D','D'],['A','B','C','A','B','C']]\n",
    "df_mul = pd.DataFrame(data=[[10,20,10],\n",
    "                            [80,30,60],\n",
    "                            [20,10,70],\n",
    "                            [30,70,60],\n",
    "                            [10,90,40],\n",
    "                            [50,30,80]],index=row_mul,columns=col)\n",
    "print(df_mul)"
   ]
  },
  {
   "cell_type": "code",
   "execution_count": 19,
   "id": "26e35ba6",
   "metadata": {},
   "outputs": [
    {
     "name": "stdout",
     "output_type": "stream",
     "text": [
      "      col1   col2   col3\n",
      "U A   True   True   True\n",
      "  B   True   True   True\n",
      "  C   True   True   True\n",
      "D A  False  False  False\n",
      "  B   True  False   True\n",
      "  C  False  False  False\n"
     ]
    }
   ],
   "source": [
    "# level=1이기 때문에 A, B, C를 index로하는 두 DataFrame과의 비교처럼\n",
    "# 진행됩니다.\n",
    "print(df.ge(df_mul,level=1)) "
   ]
  },
  {
   "cell_type": "markdown",
   "id": "c4688710",
   "metadata": {},
   "source": [
    "### 05-02. dtype기반 열 선택 (select_dtyps)"
   ]
  },
  {
   "cell_type": "markdown",
   "id": "694a0af6",
   "metadata": {},
   "source": [
    "DataFrame.select_dtypes(include=None, exclude=None)\n",
    "\n",
    "select_dtypes 함수는 열에 포함된 데이터들을 type 기준으로 인덱싱 할 수 있도록 합니다.</br>\n",
    "select_dtypes(include=None, exclude=None) 형태를 가지며, include에 넣은값을 포함하고\n",
    "exclude에 넣은 값을 제외한 columns(열)을 DaraFrame 형태로 반환합니다.</br>\n",
    "\n",
    "기본 사용법\n",
    "df.dtypes</br>\n",
    "* include 및 exclude는 비어있거나 겹치면 안되며(에러발생), 스칼라나 list형태의 입력값이 가능합니다.</br>\n",
    "자료형</br>\n",
    "1. 숫자형(numeric)은 np.number 또는 'number'</br>\n",
    "2. 문자형(str)은 'object'</br>\n",
    "3. 날짜,시간(datetimes)을 선택하려면 np.datetime64, 'datetime' 또는 'datetime64'</br>\n",
    "4. timedeltas는 np.timedelta64, 'timedelta' or 'timedelta64'</br>\n",
    "5. Pandas의 categorical 타입은 'category'</br>"
   ]
  },
  {
   "cell_type": "code",
   "execution_count": 21,
   "id": "89bdc7de",
   "metadata": {},
   "outputs": [
    {
     "name": "stdout",
     "output_type": "stream",
     "text": [
      "   col1   col2  col3   col4\n",
      "0     1    one   1.5   True\n",
      "1     2    two   2.5  False\n",
      "2     3  three   3.5  False\n",
      "3     4   four   4.5   True\n",
      "4     5   five   5.5   True\n"
     ]
    }
   ],
   "source": [
    "col1 = [1, 2, 3, 4, 5]\n",
    "col2 = ['one', 'two', 'three', 'four', 'five']\n",
    "col3 = [1.5, 2.5, 3.5, 4.5, 5.5]\n",
    "col4 = [True, False, False, True, True]\n",
    "df = pd.DataFrame({\"col1\": col1, \"col2\": col2, \"col3\": col3, \"col4\": col4})\n",
    "print(df)"
   ]
  },
  {
   "cell_type": "code",
   "execution_count": 23,
   "id": "b25ec59a",
   "metadata": {},
   "outputs": [
    {
     "name": "stdout",
     "output_type": "stream",
     "text": [
      "col1      int64\n",
      "col2     object\n",
      "col3    float64\n",
      "col4       bool\n",
      "dtype: object\n"
     ]
    }
   ],
   "source": [
    "print(df.dtypes)"
   ]
  },
  {
   "cell_type": "code",
   "execution_count": 29,
   "id": "0a03fcbc",
   "metadata": {},
   "outputs": [
    {
     "name": "stdout",
     "output_type": "stream",
     "text": [
      "   col3   col4\n",
      "0   1.5   True\n",
      "1   2.5  False\n",
      "2   3.5  False\n",
      "3   4.5   True\n",
      "4   5.5   True\n"
     ]
    }
   ],
   "source": [
    "result = df.select_dtypes(include=[bool,float])\n",
    "print(result)"
   ]
  },
  {
   "cell_type": "code",
   "execution_count": 32,
   "id": "0f2c65a3",
   "metadata": {},
   "outputs": [
    {
     "name": "stdout",
     "output_type": "stream",
     "text": [
      "    col2  col3   col4\n",
      "0    one   1.5   True\n",
      "1    two   2.5  False\n",
      "2  three   3.5  False\n",
      "3   four   4.5   True\n",
      "4   five   5.5   True\n"
     ]
    }
   ],
   "source": [
    "result = df.select_dtypes(exclude=['int64'])\n",
    "print(result)"
   ]
  },
  {
   "cell_type": "code",
   "execution_count": 33,
   "id": "4445fd0d",
   "metadata": {},
   "outputs": [
    {
     "name": "stdout",
     "output_type": "stream",
     "text": [
      "    col2  col3\n",
      "0    one   1.5\n",
      "1    two   2.5\n",
      "2  three   3.5\n",
      "3   four   4.5\n",
      "4   five   5.5\n"
     ]
    }
   ],
   "source": [
    "result = df.select_dtypes(include =[float,object], exclude=['int64'])\n",
    "print(result)"
   ]
  },
  {
   "cell_type": "markdown",
   "id": "ef8cfcc2",
   "metadata": {},
   "source": [
    "### 05-03. 임계값 적용 (clip)"
   ]
  },
  {
   "cell_type": "markdown",
   "id": "4cf861fc",
   "metadata": {},
   "source": [
    "DataFrame.clip(lower=None, upper=None, axis=None, inplace=False, args, kwargs)\n",
    "\n",
    "clip 메서드는 Series나 DataFrame에 대해서 요소들의 범위를 제한하는 메서드입니다,</br>\n",
    "즉, 상한선과 하한선을 임계값으로 정해서 임계값 밖의 값을 임계값으로 변경합니다.</br>\n",
    "NA의 경우 변경하지 않습니다.</br>\n",
    "\n",
    "lower : 하한값입니다. 이 이하의 값은 이 값으로 변경됩니다.</br>\n",
    "upper : 상한값입니다. 이 이상의 값은 이 값으로 변경됩니다.</br>\n",
    "axis : 계산할 기준이되는 레이블입니다.</br>\n",
    "inplace : 제자리에서 계산할지 여부 입니다.</br>\n",
    "\n",
    "inplace의 개념은 간단합니다. 우리가 만약 print(df.dropna())로 df에서 NA를 제거한다고 가정해봅니다.</br>\n",
    "그럼 NA가 사라진 데이터가 출력되겠지만, 다시 print(df)할 경우 df는 변경되어있지 않을 것입니다.</br>\n",
    "이때 print(df.dropna(inplace=True))를 수행한다면 print(df) 실행 시 df에도 NA가 삭제되어있는것을\n",
    "확인할 수 있습니다. 물론 dropna뿐만 아니라 clip처럼 inplace 인수를 가진 모든 함수에서 동일합니다.</br>\n",
    "즉, df.dropna(inplace=True)는 df = df.dropna( )와 같은 효과를 가집니다.</br>"
   ]
  },
  {
   "cell_type": "code",
   "execution_count": 34,
   "id": "ce2b01ea",
   "metadata": {},
   "outputs": [
    {
     "name": "stdout",
     "output_type": "stream",
     "text": [
      "      col1  col2  col3\n",
      "row1    -7     3     9\n",
      "row2     6    -8     1\n",
      "row3    -3     0    -7\n"
     ]
    }
   ],
   "source": [
    "col  = ['col1','col2','col3']\n",
    "row  = ['row1','row2','row3']\n",
    "data = [[-7,3,9],\n",
    "        [6,-8,1],\n",
    "        [-3,0,-7]]\n",
    "df = pd.DataFrame(data,row,col)\n",
    "print(df)"
   ]
  },
  {
   "cell_type": "code",
   "execution_count": 36,
   "id": "1821f908",
   "metadata": {},
   "outputs": [
    {
     "name": "stdout",
     "output_type": "stream",
     "text": [
      "      col1  col2  col3\n",
      "row1    -4     3     5\n",
      "row2     5    -4     1\n",
      "row3    -3     0    -4\n"
     ]
    }
   ],
   "source": [
    "print(df.clip(-4,5))"
   ]
  },
  {
   "cell_type": "code",
   "execution_count": 37,
   "id": "b3a4a120",
   "metadata": {},
   "outputs": [
    {
     "name": "stdout",
     "output_type": "stream",
     "text": [
      "row1    1\n",
      "row2    2\n",
      "row3    3\n",
      "dtype: int64\n"
     ]
    }
   ],
   "source": [
    "s = pd.Series(data=[1,2,3],index=row)\n",
    "print(s)"
   ]
  },
  {
   "cell_type": "code",
   "execution_count": 40,
   "id": "1c5ed4eb",
   "metadata": {},
   "outputs": [
    {
     "name": "stdout",
     "output_type": "stream",
     "text": [
      "      col1  col2  col3\n",
      "row1    -1     1     1\n",
      "row2     2    -2     1\n",
      "row3    -3     0    -3\n"
     ]
    }
   ],
   "source": [
    "print(df.clip(-s,s,axis=0))"
   ]
  },
  {
   "cell_type": "markdown",
   "id": "0a1860ed",
   "metadata": {},
   "source": [
    "### 05-04. 레이블 필터링 (filter)"
   ]
  },
  {
   "cell_type": "markdown",
   "id": "974de1d6",
   "metadata": {},
   "source": [
    "DataFrame.filter(items=None, like=None, regex=None, axis=None)\n",
    "\n",
    "filter 메서드는 레이블에 대해서 조건에 맞는 레이블만 필터링하는 메서드입니다.</br>\n",
    "내용물이 아니라 레이블에 대해서만 필터링하는것을 유의하세요.</br>\n",
    "특정 레이블을 이름으로 필터링하거나, 포함된 문자열을 통해 필터링하거나, 정규표현식으로 필터링이 가능합니다.</br>\n",
    "정규표현식(regular expression)의 경우 regex라고도 하며 파이썬에서는 re 메서드가 지원하는 내용과 동일합니다.</br>\n",
    "※ 정규표현식의경우 웹상에 자료가 방대하므로 이 페이지에서는 설명하지 않겠습니다. 추후 별도 페이지로 생성 예정입니다.</br>\n",
    "\n",
    "기본 사용법\n",
    "df.filter(items=None, like=None, regex=None, axis=None)</br>\n",
    "items : 이름으로 필터링하는 경우입니다. 리스트형태로 입력합니다.</br>\n",
    "like : str로 필터링합니다. 해당 문자열이 포함된 경우를 반환합니다.</br>\n",
    "regex : 정규표현식을 이용해 필터링합니다. re.search(regex, label) == True에서 사용되는 경우와 동일합니다.</br>\n",
    "axis : {0 : index / 1 : columns} 필터링할 레이블입니다. 0은 행, 1은 열 입니다.</br>"
   ]
  },
  {
   "cell_type": "code",
   "execution_count": 41,
   "id": "6aec34ed",
   "metadata": {},
   "outputs": [
    {
     "name": "stdout",
     "output_type": "stream",
     "text": [
      "        alpha  beta  gamma  delta  epsilon\n",
      "sigma       1     2      3      4        5\n",
      "omega       6     7      8      9       10\n",
      "lambda     11    12     13     14       15\n"
     ]
    }
   ],
   "source": [
    "col  = ['alpha','beta','gamma','delta','epsilon']\n",
    "row  = ['sigma','omega','lambda']\n",
    "data = [[1,2,3,4,5],[6,7,8,9,10],[11,12,13,14,15]]\n",
    "df = pd.DataFrame(data,row,col)\n",
    "print(df)"
   ]
  },
  {
   "cell_type": "code",
   "execution_count": 43,
   "id": "944576c2",
   "metadata": {},
   "outputs": [
    {
     "name": "stdout",
     "output_type": "stream",
     "text": [
      "        alpha  delta\n",
      "sigma       1      4\n",
      "omega       6      9\n",
      "lambda     11     14\n"
     ]
    }
   ],
   "source": [
    "print(df.filter(items=['alpha','delta']))"
   ]
  },
  {
   "cell_type": "code",
   "execution_count": 44,
   "id": "8d862d9e",
   "metadata": {},
   "outputs": [
    {
     "name": "stdout",
     "output_type": "stream",
     "text": [
      "       alpha  beta  gamma  delta  epsilon\n",
      "omega      6     7      8      9       10\n"
     ]
    }
   ],
   "source": [
    "print(df.filter(items=['omega'],axis=0))"
   ]
  },
  {
   "cell_type": "code",
   "execution_count": 46,
   "id": "151c3135",
   "metadata": {},
   "outputs": [
    {
     "name": "stdout",
     "output_type": "stream",
     "text": [
      "        beta  delta\n",
      "sigma      2      4\n",
      "omega      7      9\n",
      "lambda    12     14\n"
     ]
    }
   ],
   "source": [
    "print(df.filter(like='ta'))"
   ]
  },
  {
   "cell_type": "code",
   "execution_count": 49,
   "id": "224dcd20",
   "metadata": {},
   "outputs": [
    {
     "name": "stdout",
     "output_type": "stream",
     "text": [
      "        gamma  epsilon\n",
      "sigma       3        5\n",
      "omega       8       10\n",
      "lambda     13       15\n"
     ]
    }
   ],
   "source": [
    "print(df.filter(regex='[mgn]'))"
   ]
  },
  {
   "cell_type": "code",
   "execution_count": 51,
   "id": "bd9859f5",
   "metadata": {},
   "outputs": [
    {
     "name": "stdout",
     "output_type": "stream",
     "text": [
      "        gamma\n",
      "sigma       3\n",
      "omega       8\n",
      "lambda     13\n"
     ]
    }
   ],
   "source": [
    "#정규표현식 ^는 ^뒤에있는 문자로 시작하는 문자열을 말합니다.\n",
    "print(df.filter(regex='^g'))"
   ]
  },
  {
   "cell_type": "code",
   "execution_count": 53,
   "id": "37beaa65",
   "metadata": {},
   "outputs": [
    {
     "name": "stdout",
     "output_type": "stream",
     "text": [
      "        alpha  beta  gamma  delta\n",
      "sigma       1     2      3      4\n",
      "omega       6     7      8      9\n",
      "lambda     11    12     13     14\n"
     ]
    }
   ],
   "source": [
    "#정규표현식 $는 $앞에있는 문자로 끝나는 문자열을 말합니다.\n",
    "print(df.filter(regex='a$'))"
   ]
  },
  {
   "cell_type": "markdown",
   "id": "1f7ef340",
   "metadata": {},
   "source": [
    "### 05-05. 샘플 추출 (sample)"
   ]
  },
  {
   "cell_type": "markdown",
   "id": "992ff002",
   "metadata": {},
   "source": [
    "DataFrame.sample(n=None, frac=None, replace=False, weights=None, random_state=None, axis=None, ignore_index=False)\n",
    "\n",
    "sample 메서드는 DataFrame이나 Series에서 무작위로 몇개의 값(레이블)을 출력하는 메서드입니다.\n",
    "\n",
    "n : 추출할 갯수 입니다. replace가 False면 n의 최댓값은 레이블의 갯수를 넘을수 없습니다.</br>\n",
    "frac : 추출할 비율입니다. 1보다 작은값으로 설정하며(예 : 0.3 이면 30%), n과 동시에 사용할 수 없습니다.</br>\n",
    "replace : 중복추출의 허용 여부 입니다. True로 하면 중복추출이 가능하며 n의 최댓값이 레이블의 갯수보다 커도 됩니다.</br>\n",
    "weight : 가중치입니다. 즉 레이블마다 추출될 확률을 지정할 수 있습니다. 합계가 1(100%)이 아닐경우 자동으로 1로 연산합니다.</br>\n",
    "random_state : 랜덤 추출한 값에 시드를 설정할 수 있습니다. 원하는 값을 설정하면, 항상 같은 결과를 출력합니다.</br>\n",
    "axis : {0 : index / 1 : columns} 추출할 레이블입니다.</br>\n",
    "ignore_index : index의 무시 여부입니다. True일경우 출력시 index를 무시하고 숫자로 출력합니다.</br>"
   ]
  },
  {
   "cell_type": "code",
   "execution_count": 55,
   "id": "d6780e90",
   "metadata": {},
   "outputs": [
    {
     "name": "stdout",
     "output_type": "stream",
     "text": [
      "      col1  col2  col3\n",
      "row1     1     2     3\n",
      "row2     4     5     6\n",
      "row3     7     8     9\n",
      "row4    10    11    12\n",
      "row5    13    14    15\n"
     ]
    }
   ],
   "source": [
    "col  = ['col1','col2','col3']\n",
    "row  = ['row1','row2','row3','row4','row5']\n",
    "data = [[1,2,3],[4,5,6],[7,8,9],[10,11,12],[13,14,15]]\n",
    "df = pd.DataFrame(data,row,col)\n",
    "print(df)"
   ]
  },
  {
   "cell_type": "code",
   "execution_count": 57,
   "id": "e155d854",
   "metadata": {},
   "outputs": [
    {
     "name": "stdout",
     "output_type": "stream",
     "text": [
      "      col1  col2  col3\n",
      "row3     7     8     9\n",
      "row5    13    14    15\n"
     ]
    }
   ],
   "source": [
    "print(df.sample(2))"
   ]
  },
  {
   "cell_type": "code",
   "execution_count": 58,
   "id": "3807f592",
   "metadata": {},
   "outputs": [
    {
     "name": "stdout",
     "output_type": "stream",
     "text": [
      "      col1  col2  col3\n",
      "row1     1     2     3\n",
      "row4    10    11    12\n",
      "row4    10    11    12\n",
      "row3     7     8     9\n",
      "row3     7     8     9\n",
      "row2     4     5     6\n",
      "row2     4     5     6\n",
      "row2     4     5     6\n",
      "row5    13    14    15\n",
      "row2     4     5     6\n"
     ]
    }
   ],
   "source": [
    "print(df.sample(10,replace=True))"
   ]
  },
  {
   "cell_type": "code",
   "execution_count": 59,
   "id": "ff810c9b",
   "metadata": {},
   "outputs": [
    {
     "name": "stdout",
     "output_type": "stream",
     "text": [
      "      col1  col2  col3\n",
      "row4    10    11    12\n",
      "row3     7     8     9\n"
     ]
    }
   ],
   "source": [
    "#frac을 통해 전체에대한 추출 비율을 정할 수 있습니다. \n",
    "print(df.sample(frac=0.4))"
   ]
  },
  {
   "cell_type": "code",
   "execution_count": 61,
   "id": "7bb77415",
   "metadata": {},
   "outputs": [
    {
     "name": "stdout",
     "output_type": "stream",
     "text": [
      "row1    10\n",
      "row2    10\n",
      "row3     3\n",
      "row4     3\n",
      "row5     1\n",
      "dtype: int64\n"
     ]
    }
   ],
   "source": [
    "s = pd.Series(data=[10,10,3,3,1],index=row)\n",
    "print(s)"
   ]
  },
  {
   "cell_type": "code",
   "execution_count": 63,
   "id": "50282b88",
   "metadata": {},
   "outputs": [
    {
     "name": "stdout",
     "output_type": "stream",
     "text": [
      "      col1  col2  col3\n",
      "row1     1     2     3\n",
      "row2     4     5     6\n"
     ]
    }
   ],
   "source": [
    "#weights를 통한 가중치의 사용\n",
    "print(df.sample(2,weights=s))"
   ]
  },
  {
   "cell_type": "code",
   "execution_count": 64,
   "id": "e28ddbbe",
   "metadata": {},
   "outputs": [
    {
     "name": "stdout",
     "output_type": "stream",
     "text": [
      "      col1  col2  col3\n",
      "row1     1     2     3\n",
      "row4    10    11    12\n",
      "row3     7     8     9\n",
      "row2     4     5     6\n",
      "row5    13    14    15\n"
     ]
    }
   ],
   "source": [
    "#random_state를 통한 동일값 재출력 허용\n",
    "print(df.sample(5,random_state=7))"
   ]
  },
  {
   "cell_type": "code",
   "execution_count": 65,
   "id": "18490b0b",
   "metadata": {},
   "outputs": [
    {
     "name": "stdout",
     "output_type": "stream",
     "text": [
      "   col1  col2  col3\n",
      "0     1     2     3\n",
      "1     7     8     9\n",
      "2     4     5     6\n"
     ]
    }
   ],
   "source": [
    "#ignore_index를 True로 하면 index는 사라지고 순서대로 번호가 부여됩니다.\n",
    "print(df.sample(3,ignore_index=True))"
   ]
  }
 ],
 "metadata": {
  "kernelspec": {
   "display_name": "Python 3 (ipykernel)",
   "language": "python",
   "name": "python3"
  },
  "language_info": {
   "codemirror_mode": {
    "name": "ipython",
    "version": 3
   },
   "file_extension": ".py",
   "mimetype": "text/x-python",
   "name": "python",
   "nbconvert_exporter": "python",
   "pygments_lexer": "ipython3",
   "version": "3.9.5"
  }
 },
 "nbformat": 4,
 "nbformat_minor": 5
}
