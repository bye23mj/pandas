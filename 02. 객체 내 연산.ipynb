{
 "cells": [
  {
   "cell_type": "markdown",
   "id": "7966f093",
   "metadata": {},
   "source": [
    "DataFrame.round(decimals=0, args, kwargs) decimals : 소수 n번째 자리 '까지' 반올림을 합니다. 만약 음수면 10의 n승 자리 까지 반올림 합니다."
   ]
  },
  {
   "cell_type": "code",
   "execution_count": 3,
   "id": "0f9ff677",
   "metadata": {},
   "outputs": [
    {
     "name": "stdout",
     "output_type": "stream",
     "text": [
      "           col1       col2       col3\n",
      "row1  76.727571  64.586728  45.280388\n",
      "row2  45.846191  32.778560  81.286068\n",
      "row3  89.108957  26.198090  99.963644\n"
     ]
    }
   ],
   "source": [
    "import pandas as pd\n",
    "import numpy as np\n",
    "\n",
    "col = ['col1','col2','col3']\n",
    "row = ['row1','row2','row3']\n",
    "data = np.random.rand(3,3)*100\n",
    "df = pd.DataFrame(data=data, index=row, columns=col)\n",
    "print(df)"
   ]
  },
  {
   "cell_type": "code",
   "execution_count": 4,
   "id": "b7c44018",
   "metadata": {},
   "outputs": [
    {
     "name": "stdout",
     "output_type": "stream",
     "text": [
      "      col1  col2   col3\n",
      "row1  77.0  65.0   45.0\n",
      "row2  46.0  33.0   81.0\n",
      "row3  89.0  26.0  100.0\n"
     ]
    }
   ],
   "source": [
    "print(df.round(0))"
   ]
  },
  {
   "cell_type": "code",
   "execution_count": 6,
   "id": "36880efd",
   "metadata": {},
   "outputs": [
    {
     "name": "stdout",
     "output_type": "stream",
     "text": [
      "      col1  col2   col3\n",
      "row1  76.7  64.6   45.3\n",
      "row2  45.8  32.8   81.3\n",
      "row3  89.1  26.2  100.0\n"
     ]
    }
   ],
   "source": [
    "print(df.round(1))"
   ]
  },
  {
   "cell_type": "code",
   "execution_count": 8,
   "id": "86d83992",
   "metadata": {},
   "outputs": [
    {
     "name": "stdout",
     "output_type": "stream",
     "text": [
      "      col1  col2   col3\n",
      "row1  80.0  60.0   50.0\n",
      "row2  50.0  30.0   80.0\n",
      "row3  90.0  30.0  100.0\n"
     ]
    }
   ],
   "source": [
    "print(df.round(-1))"
   ]
  },
  {
   "cell_type": "markdown",
   "id": "c72091ed",
   "metadata": {},
   "source": [
    "DataFrame.sum(axis=None, skipna=None, level=None, numeric_only=None, min_count=0, kwargs)</br>\n",
    "\n",
    "axis : { 0 : 행 / 1 : 열} 더할 레이블을 선택합니다.</br>\n",
    "skipna : {True or False} Na가 존재할 경우 무시할지의 여부입니다. 기본값은 True입니다.</br>\n",
    "level : Multi Index일 경우 레벨을 설정합니다.</br>\n",
    "numeric_only : 숫자 데이터만 사용할지의 여부 입니다.</br>\n",
    "min_count : 계산에 필요한 숫자의 최소 갯수입니다.</br>"
   ]
  },
  {
   "cell_type": "code",
   "execution_count": 10,
   "id": "1c0d54d7",
   "metadata": {},
   "outputs": [
    {
     "name": "stdout",
     "output_type": "stream",
     "text": [
      "      col1  col2  col3\n",
      "row1     1   2.0     3\n",
      "row2     4   5.0     6\n",
      "row3     7   NaN     9\n"
     ]
    }
   ],
   "source": [
    "col = ['col1','col2','col3']\n",
    "row = ['row1','row2','row3']\n",
    "data = [[1,2,3],[4,5,6],[7,np.NaN,9]]\n",
    "df = pd.DataFrame(data=data,index=row,columns=col)\n",
    "print(df)"
   ]
  },
  {
   "cell_type": "code",
   "execution_count": 14,
   "id": "cdd81b05",
   "metadata": {},
   "outputs": [
    {
     "name": "stdout",
     "output_type": "stream",
     "text": [
      "col1    12.0\n",
      "col2     7.0\n",
      "col3    18.0\n",
      "dtype: float64\n",
      "row1     6.0\n",
      "row2    15.0\n",
      "row3    16.0\n",
      "dtype: float64\n"
     ]
    }
   ],
   "source": [
    "print(df.sum(axis=0))\n",
    "print(df.sum(axis=1))"
   ]
  },
  {
   "cell_type": "code",
   "execution_count": 17,
   "id": "1cae415d",
   "metadata": {},
   "outputs": [
    {
     "name": "stdout",
     "output_type": "stream",
     "text": [
      "col1    12.0\n",
      "col2     NaN\n",
      "col3    18.0\n",
      "dtype: float64\n"
     ]
    }
   ],
   "source": [
    "print(df.sum(axis=0,skipna=False))"
   ]
  },
  {
   "cell_type": "code",
   "execution_count": 19,
   "id": "ebd54a98",
   "metadata": {},
   "outputs": [
    {
     "name": "stdout",
     "output_type": "stream",
     "text": [
      "row1     6.0\n",
      "row2    15.0\n",
      "row3     NaN\n",
      "dtype: float64\n"
     ]
    }
   ],
   "source": [
    "print(df.sum(axis=1,min_count=3))"
   ]
  },
  {
   "cell_type": "markdown",
   "id": "b7b9c5b6",
   "metadata": {},
   "source": [
    "DataFrame.prod(axis=None, skipna=None, level=None, numeric_only=None, min_count=0, kwargs)</br>\n",
    "DataFrame.product(axis=None, skipna=None, level=None, numeric_only=None, min_count=0, kwargs)</br>\n",
    "\n",
    "axis : { 0 : 행 / 1 : 열} 곱할 레이블을 선택합니다.</br>\n",
    "skipna : {True or False} Na가 존재할 경우 무시할지의 여부입니다. 기본값은 True입니다.</br>\n",
    "level : Multi Index일 경우 레벨을 설정합니다.</br>\n",
    "numeric_only : 숫자 데이터만 사용할지의 여부 입니다.</br>\n",
    "min_count : 계산에 필요한 숫자의 최소 갯수입니다.</br>"
   ]
  },
  {
   "cell_type": "code",
   "execution_count": 21,
   "id": "b9a40b78",
   "metadata": {},
   "outputs": [
    {
     "name": "stdout",
     "output_type": "stream",
     "text": [
      "      col1  col2  col3\n",
      "row1     1   2.0     3\n",
      "row2     4   5.0     6\n",
      "row3     7   NaN     9\n"
     ]
    }
   ],
   "source": [
    "col = ['col1','col2','col3']\n",
    "row = ['row1','row2','row3']\n",
    "data = [[1,2,3],[4,5,6],[7,np.NaN,9]]\n",
    "df = pd.DataFrame(data=data,index=row,columns=col)\n",
    "print(df)"
   ]
  },
  {
   "cell_type": "code",
   "execution_count": 23,
   "id": "d42e274c",
   "metadata": {},
   "outputs": [
    {
     "name": "stdout",
     "output_type": "stream",
     "text": [
      "col1     28.0\n",
      "col2     10.0\n",
      "col3    162.0\n",
      "dtype: float64\n"
     ]
    }
   ],
   "source": [
    "print(df.prod(axis=0))"
   ]
  },
  {
   "cell_type": "code",
   "execution_count": 25,
   "id": "81481b01",
   "metadata": {},
   "outputs": [
    {
     "name": "stdout",
     "output_type": "stream",
     "text": [
      "row1      6.0\n",
      "row2    120.0\n",
      "row3     63.0\n",
      "dtype: float64\n"
     ]
    }
   ],
   "source": [
    "print(df.prod(axis=1))"
   ]
  },
  {
   "cell_type": "code",
   "execution_count": 26,
   "id": "e6f7202f",
   "metadata": {},
   "outputs": [
    {
     "name": "stdout",
     "output_type": "stream",
     "text": [
      "col1     28.0\n",
      "col2      NaN\n",
      "col3    162.0\n",
      "dtype: float64\n"
     ]
    }
   ],
   "source": [
    "print(df.prod(axis=0, skipna=False))"
   ]
  },
  {
   "cell_type": "code",
   "execution_count": 28,
   "id": "51a2908c",
   "metadata": {},
   "outputs": [
    {
     "name": "stdout",
     "output_type": "stream",
     "text": [
      "row1      6.0\n",
      "row2    120.0\n",
      "row3      NaN\n",
      "dtype: float64\n"
     ]
    }
   ],
   "source": [
    "print(df.prod(axis=1, min_count=3))"
   ]
  },
  {
   "cell_type": "markdown",
   "id": "e369ba6c",
   "metadata": {},
   "source": [
    "DataFrame.abs( )\n",
    "abs메서드는 각 요소의 절댓값을 반환하는 메서드입니다."
   ]
  },
  {
   "cell_type": "code",
   "execution_count": 30,
   "id": "5c5a30f7",
   "metadata": {},
   "outputs": [
    {
     "name": "stdout",
     "output_type": "stream",
     "text": [
      "      col1  col2      col3\n",
      "row1    -1   2.0 -3.5+0.0j\n",
      "row2     4  -5.5  3.0+4.0j\n",
      "row3     7   NaN  0.0+0.0j\n"
     ]
    }
   ],
   "source": [
    "col = ['col1','col2','col3']\n",
    "row = ['row1','row2','row3']\n",
    "data = [[-1,2,-3.5],[4,-5.5, 3+4j],[7,np.NaN,0]]\n",
    "df = pd.DataFrame(data=data,index=row,columns=col)\n",
    "print(df)"
   ]
  },
  {
   "cell_type": "code",
   "execution_count": 32,
   "id": "e8e195c6",
   "metadata": {},
   "outputs": [
    {
     "name": "stdout",
     "output_type": "stream",
     "text": [
      "      col1  col2  col3\n",
      "row1     1   2.0   3.5\n",
      "row2     4   5.5   5.0\n",
      "row3     7   NaN   0.0\n"
     ]
    }
   ],
   "source": [
    "print(df.abs( ))"
   ]
  },
  {
   "cell_type": "markdown",
   "id": "1768289c",
   "metadata": {},
   "source": [
    "DataFrame.transpose(args, copy=False)</br>\n",
    "DataFrame.T(args, copy=False)</br>\n",
    "\n",
    "copy : 사본을 반환할지 여부입니다. 여러 dtype으로 이루어진 경우 자동으로 True가 됩니다.\n",
    "\n",
    "transpose 메서드는 Dataframe객체를 전치 하는 메서드입니다.</br>\n",
    "만약 (n,m)짜리 DataFrame이라면 (0,0) 부터 (n,m)을 연결하는 대각선을 중심으로 뒤집는것과 같습니다.</br>\n",
    "※ T 메서드는 transpose 메서드와 동일합니다.</br>\n",
    "\n",
    "\n",
    "\n"
   ]
  },
  {
   "cell_type": "code",
   "execution_count": 34,
   "id": "3fb27b1e",
   "metadata": {},
   "outputs": [
    {
     "name": "stdout",
     "output_type": "stream",
     "text": [
      "     col1  col2  col3\n",
      "row1    A     1     2\n",
      "row2    B     3     4\n",
      "row3    C     5     6\n",
      "row4    D     7     8\n"
     ]
    }
   ],
   "source": [
    "col = ['col1','col2','col3']\n",
    "row = ['row1','row2','row3','row4']\n",
    "data = [['A',1,2],['B',3,4],['C',5,6],['D',7,8]]\n",
    "df = pd.DataFrame(data=data,index=row,columns=col)\n",
    "print(df)"
   ]
  },
  {
   "cell_type": "code",
   "execution_count": 36,
   "id": "8a50500c",
   "metadata": {},
   "outputs": [
    {
     "name": "stdout",
     "output_type": "stream",
     "text": [
      "     row1 row2 row3 row4\n",
      "col1    A    B    C    D\n",
      "col2    1    3    5    7\n",
      "col3    2    4    6    8\n"
     ]
    }
   ],
   "source": [
    "print(df.transpose())"
   ]
  },
  {
   "cell_type": "markdown",
   "id": "812af0c3",
   "metadata": {},
   "source": [
    "DataFrame.rank(axis=0, method='average', numeric_only=None, na_option='keep', ascending=True, pct=False)</br>\n",
    "\n",
    "axis : {0 : index / 1 : columns} 순위를 매길 레이블입니다.</br>\n",
    "method : {'average' / 'min' / 'max' / 'first' / 'dense'} 동순위 일때 처리 방법입니다.</br>\n",
    "average는 평균, min은 낮은순위, max는 높은순위, first는 나타나는순서대로</br>\n",
    "dense의 경우는 min과 같지만 그룹간 순위는 항상 1씩 증가합니다.</br>\n",
    "numeric_only : {True / False} 숫자만 순위를 매길지 여부 입니다.</br>\n",
    "na_option : {'keep' / 'top' / 'bottom'} NaN값의 처리 방법입니다.</br>\n",
    "keep의 경우 NaN순위 할당, top의 경우 낮은순위 할당, bottom의 경우 높은 순위를 할당합니다.</br>\n",
    "ascending : {True / False} 오름차순으로 할지의 여부 입니다.</br>\n",
    "pct : {True / False} 순위를 백분위수형식으로 할지 여부입니다.</br>"
   ]
  },
  {
   "cell_type": "code",
   "execution_count": 39,
   "id": "00a0f85b",
   "metadata": {},
   "outputs": [
    {
     "name": "stdout",
     "output_type": "stream",
     "text": [
      "   Value\n",
      "A★     5\n",
      "B★     5\n",
      "C   <NA>\n",
      "D☆     3\n",
      "E   -3.1\n",
      "F★     5\n",
      "G    0.4\n",
      "H    6.7\n",
      "I☆     3\n"
     ]
    }
   ],
   "source": [
    "data = [[5],[5],[pd.NA],[3],[-3.1],[5],[0.4],[6.7],[3]]\n",
    "row = ['A★','B★','C','D☆','E','F★','G','H','I☆']\n",
    "df = pd.DataFrame(data=data, index=row, columns=['Value'])\n",
    "print(df)"
   ]
  },
  {
   "cell_type": "markdown",
   "id": "919ccff8",
   "metadata": {},
   "source": [
    "average : D와 I의 경우 각각 3등 4등이기때문에 3.5 출력</br>\n",
    "min : A, B, F의 경우 각각 5등 6등 7등으로 가장 낮은등수인 5 출력</br>\n",
    "max : A, B, F의 경우 각각 5등 6등 7등으로 가장 높등수인 7 출력</br>\n",
    "first : 동점일경우 위에서부터 매김 D와 I 각각 3등 4등</br>\n",
    "dense : min처럼 동작하지만 등수가 순차적으로 증가</br>"
   ]
  },
  {
   "cell_type": "code",
   "execution_count": 42,
   "id": "271c0347",
   "metadata": {},
   "outputs": [
    {
     "name": "stdout",
     "output_type": "stream",
     "text": [
      "   Value  average  min  max  first  dense\n",
      "A★     5      6.0  5.0  7.0    5.0    4.0\n",
      "B★     5      6.0  5.0  7.0    6.0    4.0\n",
      "C   <NA>      NaN  NaN  NaN    NaN    NaN\n",
      "D☆     3      3.5  3.0  4.0    3.0    3.0\n",
      "E   -3.1      1.0  1.0  1.0    1.0    1.0\n",
      "F★     5      6.0  5.0  7.0    7.0    4.0\n",
      "G    0.4      2.0  2.0  2.0    2.0    2.0\n",
      "H    6.7      8.0  8.0  8.0    8.0    5.0\n",
      "I☆     3      3.5  3.0  4.0    4.0    3.0\n"
     ]
    }
   ],
   "source": [
    "df['average']=df['Value'].rank(method='average')\n",
    "df['min']=df['Value'].rank(method='min')\n",
    "df['max']=df['Value'].rank(method='max')\n",
    "df['first']=df['Value'].rank(method='first')\n",
    "df['dense']=df['Value'].rank(method='dense')\n",
    "print(df)"
   ]
  },
  {
   "cell_type": "markdown",
   "id": "d5be65b7",
   "metadata": {},
   "source": [
    "keep : Na요소에 NaN을 부여하여 그대로 둡니다.</br>\n",
    "top : Na에게 가장 높은 순위를 부여합니다. 1등이 된것을 볼 수 있습니다.</br>\n",
    "bottom : Na에게 가장 높은 순위를 부여합니다. 9등이 된것을 볼 수 있습니다.</br>\n",
    "pct : True일 경우 백분위수로 표시합니다.</br>"
   ]
  },
  {
   "cell_type": "code",
   "execution_count": 45,
   "id": "899668ac",
   "metadata": {},
   "outputs": [
    {
     "name": "stdout",
     "output_type": "stream",
     "text": [
      "   Value  average  min  max  first  dense  keep  top  bottom     pct\n",
      "A★     5      6.0  5.0  7.0    5.0    4.0   6.0  7.0     6.0  0.7500\n",
      "B★     5      6.0  5.0  7.0    6.0    4.0   6.0  7.0     6.0  0.7500\n",
      "C   <NA>      NaN  NaN  NaN    NaN    NaN   NaN  1.0     9.0     NaN\n",
      "D☆     3      3.5  3.0  4.0    3.0    3.0   3.5  4.5     3.5  0.4375\n",
      "E   -3.1      1.0  1.0  1.0    1.0    1.0   1.0  2.0     1.0  0.1250\n",
      "F★     5      6.0  5.0  7.0    7.0    4.0   6.0  7.0     6.0  0.7500\n",
      "G    0.4      2.0  2.0  2.0    2.0    2.0   2.0  3.0     2.0  0.2500\n",
      "H    6.7      8.0  8.0  8.0    8.0    5.0   8.0  9.0     8.0  1.0000\n",
      "I☆     3      3.5  3.0  4.0    4.0    3.0   3.5  4.5     3.5  0.4375\n"
     ]
    }
   ],
   "source": [
    "df['keep']=df['Value'].rank(na_option='keep')\n",
    "df['top']=df['Value'].rank(na_option='top')\n",
    "df['bottom']=df['Value'].rank(na_option='bottom')\n",
    "df['pct']=df['Value'].rank(pct=True)\n",
    "print(df)"
   ]
  },
  {
   "cell_type": "markdown",
   "id": "03cd4ab0",
   "metadata": {},
   "source": [
    "DataFrame.diff(periods=1, axis=0)</br>\n",
    "axis : 비교할 축을 지정합니다. axis=0 인 경우 행끼리 비교하고 axis=1인 경우 열 끼리 비교합니다.</br>\n",
    "periods : 비교할 간격을 지정합니다. 기본은 +1로 바로 이전 값과 비교합니다.</br>"
   ]
  },
  {
   "cell_type": "code",
   "execution_count": 47,
   "id": "bbec13e6",
   "metadata": {},
   "outputs": [
    {
     "name": "stdout",
     "output_type": "stream",
     "text": [
      "   col1  col2  col3\n",
      "0     1     1     8\n",
      "1     2     2     7\n",
      "2     3     4     6\n",
      "3     4     8     5\n",
      "4     5    16     4\n",
      "5     6    32     3\n",
      "6     7    64     2\n",
      "7     8   128     1\n"
     ]
    }
   ],
   "source": [
    "a = [1,2,3,4,5,6,7,8]\n",
    "b = [1,2,4,8,16,32,64,128]\n",
    "c = [8,7,6,5,4,3,2,1]\n",
    "data = {\"col1\":a,\"col2\":b,\"col3\":c}\n",
    "df = pd.DataFrame(data)\n",
    "print(df)"
   ]
  },
  {
   "cell_type": "code",
   "execution_count": 49,
   "id": "4cd0dbce",
   "metadata": {},
   "outputs": [
    {
     "name": "stdout",
     "output_type": "stream",
     "text": [
      "   col1  col2  col3\n",
      "0   NaN   NaN   NaN\n",
      "1   1.0   1.0  -1.0\n",
      "2   1.0   2.0  -1.0\n",
      "3   1.0   4.0  -1.0\n",
      "4   1.0   8.0  -1.0\n",
      "5   1.0  16.0  -1.0\n",
      "6   1.0  32.0  -1.0\n",
      "7   1.0  64.0  -1.0\n"
     ]
    }
   ],
   "source": [
    "print(df.diff(axis=0))"
   ]
  },
  {
   "cell_type": "code",
   "execution_count": 52,
   "id": "eee0d3eb",
   "metadata": {},
   "outputs": [
    {
     "name": "stdout",
     "output_type": "stream",
     "text": [
      "   col1  col2  col3\n",
      "0   NaN     0     7\n",
      "1   NaN     0     5\n",
      "2   NaN     1     2\n",
      "3   NaN     4    -3\n",
      "4   NaN    11   -12\n",
      "5   NaN    26   -29\n",
      "6   NaN    57   -62\n",
      "7   NaN   120  -127\n"
     ]
    }
   ],
   "source": [
    "print(df.diff(axis=1))"
   ]
  },
  {
   "cell_type": "code",
   "execution_count": 55,
   "id": "d6491df7",
   "metadata": {},
   "outputs": [
    {
     "name": "stdout",
     "output_type": "stream",
     "text": [
      "   col1   col2  col3\n",
      "0   NaN    NaN   NaN\n",
      "1   NaN    NaN   NaN\n",
      "2   NaN    NaN   NaN\n",
      "3   3.0    7.0  -3.0\n",
      "4   3.0   14.0  -3.0\n",
      "5   3.0   28.0  -3.0\n",
      "6   3.0   56.0  -3.0\n",
      "7   3.0  112.0  -3.0\n"
     ]
    }
   ],
   "source": [
    "print(df.diff(periods=3))"
   ]
  },
  {
   "cell_type": "code",
   "execution_count": 57,
   "id": "67a6a3a7",
   "metadata": {
    "scrolled": true
   },
   "outputs": [
    {
     "name": "stdout",
     "output_type": "stream",
     "text": [
      "   col1  col2  col3\n",
      "0  -2.0  -3.0   2.0\n",
      "1  -2.0  -6.0   2.0\n",
      "2  -2.0 -12.0   2.0\n",
      "3  -2.0 -24.0   2.0\n",
      "4  -2.0 -48.0   2.0\n",
      "5  -2.0 -96.0   2.0\n",
      "6   NaN   NaN   NaN\n",
      "7   NaN   NaN   NaN\n"
     ]
    }
   ],
   "source": [
    "print(df.diff(periods=-2))"
   ]
  },
  {
   "cell_type": "markdown",
   "id": "cdcad457",
   "metadata": {},
   "source": [
    "DataFrame.pct_change(periods=1, fill_method='pad', limit=None, freq=None, kwargs)\n",
    "\n",
    "pct_change는 한 객체 내에서 행과 행의 차이를 현재값과의 백분율로 출력하는 메서드 입니다.</br>\n",
    "즉, (다음행 - 현재행)÷현재행 을 의미합니다.</br>\n",
    "\n",
    "periods : 비교할 간격을 지정합니다. 기본은 +1로 바로 이전 값과 비교합니다.</br>\n",
    "fill_method : {ffill : 앞의 값으로 채움 / bfill : 뒤의 값으로 채움} 결측치를 대체할 값입니다.</br>\n",
    "limit : 결측값을 몇개나 대체할지 정할 수 있습니다.</br>\n",
    "freq : 시계열 API에서 사용할 증분을 지정합니다. (예: 'M' 또는 BDay( ))</br>"
   ]
  },
  {
   "cell_type": "code",
   "execution_count": 61,
   "id": "86591608",
   "metadata": {},
   "outputs": [
    {
     "name": "stdout",
     "output_type": "stream",
     "text": [
      "   col1  col2  col3\n",
      "0     1     1   1.0\n",
      "1     1     2   NaN\n",
      "2     4     4   NaN\n",
      "3     4     8   NaN\n",
      "4     1    16  16.0\n",
      "5     1    32  64.0\n"
     ]
    }
   ],
   "source": [
    "a = [1,1,4,4,1,1]\n",
    "b = [1,2,4,8,16,32]\n",
    "c = [1,np.NaN,np.NaN,np.NaN,16,64]\n",
    "data = {\"col1\":a,\"col2\":b,\"col3\":c}\n",
    "df = pd.DataFrame(data)\n",
    "print(df)"
   ]
  },
  {
   "cell_type": "code",
   "execution_count": 63,
   "id": "db27e224",
   "metadata": {},
   "outputs": [
    {
     "name": "stdout",
     "output_type": "stream",
     "text": [
      "   col1  col2  col3\n",
      "0   NaN   NaN   NaN\n",
      "1  0.00   1.0   0.0\n",
      "2  3.00   1.0   0.0\n",
      "3  0.00   1.0   0.0\n",
      "4 -0.75   1.0  15.0\n",
      "5  0.00   1.0   3.0\n"
     ]
    }
   ],
   "source": [
    "print(df.pct_change())"
   ]
  },
  {
   "cell_type": "code",
   "execution_count": 66,
   "id": "d88ea6dc",
   "metadata": {},
   "outputs": [
    {
     "name": "stdout",
     "output_type": "stream",
     "text": [
      "   col1  col2  col3\n",
      "0   NaN   NaN   NaN\n",
      "1   NaN   NaN   NaN\n",
      "2  3.00   3.0   0.0\n",
      "3  3.00   3.0   0.0\n",
      "4 -0.75   3.0  15.0\n",
      "5 -0.75   3.0  63.0\n"
     ]
    }
   ],
   "source": [
    "print(df.pct_change(periods=2))\n"
   ]
  },
  {
   "cell_type": "code",
   "execution_count": 68,
   "id": "c08520c4",
   "metadata": {},
   "outputs": [
    {
     "name": "stdout",
     "output_type": "stream",
     "text": [
      "   col1  col2    col3\n",
      "0  0.00  -0.5  0.0000\n",
      "1 -0.75  -0.5  0.0000\n",
      "2  0.00  -0.5  0.0000\n",
      "3  3.00  -0.5 -0.9375\n",
      "4  0.00  -0.5 -0.7500\n",
      "5   NaN   NaN     NaN\n"
     ]
    }
   ],
   "source": [
    "print(df.pct_change(periods=-1))"
   ]
  },
  {
   "cell_type": "markdown",
   "id": "5dabb0ec",
   "metadata": {},
   "source": [
    "fill_method인수는 결측치를 대체할 값을 지정할 수 있습니다.</br>\n",
    "fill_method='ffill'인 경우는 기본값으로 바로 윗값으로 결측치를 대체합니다.</br>\n",
    "fill_method='bfill'인 경우는 바로 아랫값으로 결측치를 대체합니다.</br>"
   ]
  },
  {
   "cell_type": "code",
   "execution_count": 71,
   "id": "53812936",
   "metadata": {},
   "outputs": [
    {
     "name": "stdout",
     "output_type": "stream",
     "text": [
      "   col1  col2  col3\n",
      "0   NaN   NaN   NaN\n",
      "1  0.00   1.0  15.0\n",
      "2  3.00   1.0   0.0\n",
      "3  0.00   1.0   0.0\n",
      "4 -0.75   1.0   0.0\n",
      "5  0.00   1.0   3.0\n"
     ]
    }
   ],
   "source": [
    "print(df.pct_change(fill_method='bfill'))"
   ]
  },
  {
   "cell_type": "markdown",
   "id": "23d9a378",
   "metadata": {},
   "source": [
    "limit인수는 결측치를 몇개까지 대체할지 지정합니다."
   ]
  },
  {
   "cell_type": "code",
   "execution_count": 73,
   "id": "94ebc176",
   "metadata": {},
   "outputs": [
    {
     "name": "stdout",
     "output_type": "stream",
     "text": [
      "   col1  col2  col3\n",
      "0   NaN   NaN   NaN\n",
      "1  0.00   1.0   0.0\n",
      "2  3.00   1.0   0.0\n",
      "3  0.00   1.0   NaN\n",
      "4 -0.75   1.0   NaN\n",
      "5  0.00   1.0   3.0\n"
     ]
    }
   ],
   "source": [
    "print(df.pct_change(limit=2))"
   ]
  },
  {
   "cell_type": "markdown",
   "id": "e334a755",
   "metadata": {},
   "source": [
    "DataFrame.expanding(min_periods=1, center=None, axis=0, method='single')\n",
    "\n",
    "min_periods : 연산을 수행할 요소의 최소 갯수입니다. 이보다 작으면 NaN을 출력합니다.</br>\n",
    "center : 미사용</br>\n",
    "axis : 누적 연산을 수행할 축을 지정합니다.</br>\n",
    "method : {single / table} 연산을 한 줄씩 수행할지 아니면 전체 테이블에 대해서 롤링을 수행할지 여부입니다.</br>\n",
    "기본값은 'singl'로 한 줄씩 연산을 수행합니다. 'table'을 사용하기 위해서는 numba 라이브러리가 설치되어있어야 하며,\n",
    "추가 연산 메서드에서 engine=numba로 설정해주어야 합니다.</br>"
   ]
  },
  {
   "cell_type": "code",
   "execution_count": 77,
   "id": "02f85b61",
   "metadata": {},
   "outputs": [
    {
     "name": "stdout",
     "output_type": "stream",
     "text": [
      "      col1  col2\n",
      "row1     1     3\n",
      "row2     2     7\n",
      "row3     3     5\n",
      "row4     4     6\n"
     ]
    }
   ],
   "source": [
    "data = {'col1':[1,2,3,4],'col2':[3,7,5,6]}\n",
    "idx = ['row1','row2','row3','row4']\n",
    "df = pd.DataFrame(data = data, index = idx)\n",
    "print(df)"
   ]
  },
  {
   "cell_type": "code",
   "execution_count": 80,
   "id": "b1259f58",
   "metadata": {},
   "outputs": [
    {
     "name": "stdout",
     "output_type": "stream",
     "text": [
      "      col1  col2\n",
      "row1   1.0   3.0\n",
      "row2   3.0  10.0\n",
      "row3   6.0  15.0\n",
      "row4  10.0  21.0\n"
     ]
    }
   ],
   "source": [
    "print(df.expanding().sum())"
   ]
  },
  {
   "cell_type": "code",
   "execution_count": 82,
   "id": "82d154ef",
   "metadata": {},
   "outputs": [
    {
     "name": "stdout",
     "output_type": "stream",
     "text": [
      "      col1  col2\n",
      "row1   NaN   NaN\n",
      "row2   NaN   NaN\n",
      "row3   NaN   NaN\n",
      "row4  10.0  21.0\n"
     ]
    }
   ],
   "source": [
    "print(df.expanding(min_periods=4).sum())"
   ]
  },
  {
   "cell_type": "code",
   "execution_count": 84,
   "id": "145e8c9b",
   "metadata": {
    "scrolled": true
   },
   "outputs": [
    {
     "name": "stdout",
     "output_type": "stream",
     "text": [
      "      col1  col2\n",
      "row1   1.0   4.0\n",
      "row2   2.0   9.0\n",
      "row3   3.0   8.0\n",
      "row4   4.0  10.0\n"
     ]
    }
   ],
   "source": [
    "print(df.expanding(axis=1).sum())"
   ]
  },
  {
   "cell_type": "code",
   "execution_count": 88,
   "id": "8d19dc96",
   "metadata": {},
   "outputs": [
    {
     "name": "stdout",
     "output_type": "stream",
     "text": [
      "      col1  col2\n",
      "row1   1.0   3.0\n",
      "row2   3.0  10.0\n",
      "row3   6.0  15.0\n",
      "row4  10.0  21.0\n"
     ]
    }
   ],
   "source": [
    "#Numba는 파이썬 코드를 LLVM컴파일러를 이용해 머신코드로 바꾸어 수치연산을 가속해주는 라이브러리입니다.\n",
    "import numba\n",
    "print(df.expanding(method='table').sum(engine='numba'))"
   ]
  },
  {
   "cell_type": "markdown",
   "id": "ef36d4c0",
   "metadata": {},
   "source": [
    "DataFrame.rolling(window, min_periods=None, center=False, win_type=None, on=None, axis=0, closed=None, method='single')\n",
    "\n",
    "window : 계산할 창(window)의 크기 입니다. 열 기준으로 계산할 경우 행의 수입니다.</br>\n",
    "min_periods : 계산할 최소 크기(기간) 입니다. window 안의 값의 수가 min_periods의 값보다 작을경우 NaN을 출력합니다.</br>\n",
    "기본적으로 window 크기와 동일합니다.</br>\n",
    "center : {True / False} 레이블을 window의 중간에 둘지 여부입니다. 기본값은 False로 레이블이 창 우측에 위치합니다.</br>\n",
    "win_type : {'triang' / 'gaussian' / ...} 가중치를 넣어 계산할 경우 계산 방식 입니다. 때에따라 연산 메서드에 추가 인수를 지정해야할수도 있습니다.</br>\n",
    "on : 시계열 인덱스나, 시계열과 유사한 열이 있을 경우 이 열을 기준으로 rolling을 수행할 수 있습니다.</br>\n",
    "axis : 계산의 기준이 될 축입니다.</br>\n",
    "closed : {'left' / 'right' / 'both' / 'neither'} window가 닫히는 방향입니다. 자세한건 아래 예시 참고바랍니다</br>\n",
    "method :{'single' / 'table'} numba 를 이용하여 테이블 계산을 진행하여 속도를 높힐지 여부입니다. 현재 'single'만 사용가능합니다.</br>\n",
    "※ method 인수의 numba 사용은 02-09 누적계산(expending)에서 자세히 다루고 있습니다."
   ]
  },
  {
   "cell_type": "code",
   "execution_count": 91,
   "id": "facff9fe",
   "metadata": {},
   "outputs": [
    {
     "name": "stdout",
     "output_type": "stream",
     "text": [
      "      col1              col2\n",
      "row1     1  2022-01-13 00:00\n",
      "row2     2  2022-01-13 00:30\n",
      "row3     3  2022-01-13 01:00\n",
      "row4     4  2022-01-13 01:30\n",
      "row5     5  2022-01-13 02:00\n",
      "row6     6  2022-01-13 02:30\n"
     ]
    }
   ],
   "source": [
    "period = pd.period_range(start='2022-01-13 00:00:00',end='2022-01-13 02:30:00',freq='30T')\n",
    "data = {'col1':[1,2,3,4,5,6],'col2':period}\n",
    "idx = ['row1','row2','row3','row4','row5','row6']\n",
    "df = pd.DataFrame(data= data, index = idx)\n",
    "print(df)"
   ]
  },
  {
   "cell_type": "code",
   "execution_count": null,
   "id": "d59f34e1",
   "metadata": {},
   "outputs": [],
   "source": [
    "print(df.rolling(window=3).sum())"
   ]
  },
  {
   "cell_type": "markdown",
   "id": "5baa6908",
   "metadata": {},
   "source": [
    "left : 3 ≤ x < 6</br>\n",
    "right : 3 < x ≤ 6</br>\n",
    "both : 3 ≤ x ≤ 6</br>\n",
    "neither : 3 < x < 6</br>"
   ]
  },
  {
   "cell_type": "code",
   "execution_count": 95,
   "id": "d2e21a04",
   "metadata": {},
   "outputs": [
    {
     "name": "stdout",
     "output_type": "stream",
     "text": [
      "      col1\n",
      "row1   NaN\n",
      "row2   NaN\n",
      "row3   NaN\n",
      "row4   6.0\n",
      "row5   9.0\n",
      "row6  12.0\n"
     ]
    }
   ],
   "source": [
    "print(df.rolling(window=3, closed='left').sum())"
   ]
  },
  {
   "cell_type": "code",
   "execution_count": 97,
   "id": "f7ef9162",
   "metadata": {},
   "outputs": [
    {
     "name": "stdout",
     "output_type": "stream",
     "text": [
      "      col1\n",
      "row1   NaN\n",
      "row2   NaN\n",
      "row3   6.0\n",
      "row4   9.0\n",
      "row5  12.0\n",
      "row6  15.0\n"
     ]
    }
   ],
   "source": [
    "print(df.rolling(window=3, closed='right').sum())"
   ]
  },
  {
   "cell_type": "code",
   "execution_count": 98,
   "id": "547ca723",
   "metadata": {},
   "outputs": [
    {
     "name": "stdout",
     "output_type": "stream",
     "text": [
      "      col1\n",
      "row1   NaN\n",
      "row2   NaN\n",
      "row3   6.0\n",
      "row4  10.0\n",
      "row5  14.0\n",
      "row6  18.0\n"
     ]
    }
   ],
   "source": [
    "print(df.rolling(window=3, closed='both').sum())"
   ]
  },
  {
   "cell_type": "code",
   "execution_count": 99,
   "id": "6c655c98",
   "metadata": {},
   "outputs": [
    {
     "name": "stdout",
     "output_type": "stream",
     "text": [
      "      col1\n",
      "row1   NaN\n",
      "row2   NaN\n",
      "row3   NaN\n",
      "row4   NaN\n",
      "row5   NaN\n",
      "row6   NaN\n"
     ]
    }
   ],
   "source": [
    "print(df.rolling(window=3, closed='neither').sum())"
   ]
  },
  {
   "cell_type": "code",
   "execution_count": 102,
   "id": "9fdf50a7",
   "metadata": {},
   "outputs": [
    {
     "name": "stdout",
     "output_type": "stream",
     "text": [
      "      col1\n",
      "row1   NaN\n",
      "row2   NaN\n",
      "row3   3.0\n",
      "row4   5.0\n",
      "row5   7.0\n",
      "row6   9.0\n"
     ]
    }
   ],
   "source": [
    "print(df.rolling(window=3, closed='neither',min_periods=2).sum())"
   ]
  },
  {
   "cell_type": "code",
   "execution_count": 103,
   "id": "0d0b66b5",
   "metadata": {},
   "outputs": [
    {
     "name": "stdout",
     "output_type": "stream",
     "text": [
      "      col1\n",
      "row1   NaN\n",
      "row2   NaN\n",
      "row3   4.0\n",
      "row4   6.0\n",
      "row5   8.0\n",
      "row6  10.0\n"
     ]
    }
   ],
   "source": [
    "#win_type을 지정할 경우 가중치를 주며 계산을 할 수 있습니다.\n",
    "print(df.rolling(window=3, win_type='triang').sum())"
   ]
  },
  {
   "cell_type": "code",
   "execution_count": 105,
   "id": "b3018d89",
   "metadata": {},
   "outputs": [
    {
     "name": "stdout",
     "output_type": "stream",
     "text": [
      "           col1\n",
      "row1        NaN\n",
      "row2        NaN\n",
      "row3   5.783838\n",
      "row4   8.675757\n",
      "row5  11.567676\n",
      "row6  14.459595\n"
     ]
    }
   ],
   "source": [
    "print(df.rolling(window=3, win_type='gaussian').sum(std=3)) "
   ]
  },
  {
   "cell_type": "code",
   "execution_count": null,
   "id": "f63a2d20",
   "metadata": {},
   "outputs": [],
   "source": []
  }
 ],
 "metadata": {
  "kernelspec": {
   "display_name": "Python 3 (ipykernel)",
   "language": "python",
   "name": "python3"
  },
  "language_info": {
   "codemirror_mode": {
    "name": "ipython",
    "version": 3
   },
   "file_extension": ".py",
   "mimetype": "text/x-python",
   "name": "python",
   "nbconvert_exporter": "python",
   "pygments_lexer": "ipython3",
   "version": "3.9.5"
  }
 },
 "nbformat": 4,
 "nbformat_minor": 5
}
