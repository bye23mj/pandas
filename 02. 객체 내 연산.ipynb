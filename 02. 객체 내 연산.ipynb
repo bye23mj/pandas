{
 "cells": [
  {
   "cell_type": "markdown",
   "id": "cd28309d",
   "metadata": {},
   "source": [
    "DataFrame.round(decimals=0, args, kwargs) decimals : 소수 n번째 자리 '까지' 반올림을 합니다. 만약 음수면 10의 n승 자리 까지 반올림 합니다."
   ]
  },
  {
   "cell_type": "code",
   "execution_count": 3,
   "id": "ffbe89b3",
   "metadata": {},
   "outputs": [
    {
     "name": "stdout",
     "output_type": "stream",
     "text": [
      "           col1       col2       col3\n",
      "row1  76.727571  64.586728  45.280388\n",
      "row2  45.846191  32.778560  81.286068\n",
      "row3  89.108957  26.198090  99.963644\n"
     ]
    }
   ],
   "source": [
    "import pandas as pd\n",
    "import numpy as np\n",
    "\n",
    "col = ['col1','col2','col3']\n",
    "row = ['row1','row2','row3']\n",
    "data = np.random.rand(3,3)*100\n",
    "df = pd.DataFrame(data=data, index=row, columns=col)\n",
    "print(df)"
   ]
  },
  {
   "cell_type": "code",
   "execution_count": 4,
   "id": "c683be05",
   "metadata": {},
   "outputs": [
    {
     "name": "stdout",
     "output_type": "stream",
     "text": [
      "      col1  col2   col3\n",
      "row1  77.0  65.0   45.0\n",
      "row2  46.0  33.0   81.0\n",
      "row3  89.0  26.0  100.0\n"
     ]
    }
   ],
   "source": [
    "print(df.round(0))"
   ]
  },
  {
   "cell_type": "code",
   "execution_count": 6,
   "id": "cef8321b",
   "metadata": {},
   "outputs": [
    {
     "name": "stdout",
     "output_type": "stream",
     "text": [
      "      col1  col2   col3\n",
      "row1  76.7  64.6   45.3\n",
      "row2  45.8  32.8   81.3\n",
      "row3  89.1  26.2  100.0\n"
     ]
    }
   ],
   "source": [
    "print(df.round(1))"
   ]
  },
  {
   "cell_type": "code",
   "execution_count": 8,
   "id": "d31bd170",
   "metadata": {},
   "outputs": [
    {
     "name": "stdout",
     "output_type": "stream",
     "text": [
      "      col1  col2   col3\n",
      "row1  80.0  60.0   50.0\n",
      "row2  50.0  30.0   80.0\n",
      "row3  90.0  30.0  100.0\n"
     ]
    }
   ],
   "source": [
    "print(df.round(-1))"
   ]
  },
  {
   "cell_type": "markdown",
   "id": "7eb5afea",
   "metadata": {},
   "source": [
    "DataFrame.sum(axis=None, skipna=None, level=None, numeric_only=None, min_count=0, kwargs)</br>\n",
    "\n",
    "axis : { 0 : 행 / 1 : 열} 더할 레이블을 선택합니다.</br>\n",
    "skipna : {True or False} Na가 존재할 경우 무시할지의 여부입니다. 기본값은 True입니다.</br>\n",
    "level : Multi Index일 경우 레벨을 설정합니다.</br>\n",
    "numeric_only : 숫자 데이터만 사용할지의 여부 입니다.</br>\n",
    "min_count : 계산에 필요한 숫자의 최소 갯수입니다.</br>"
   ]
  },
  {
   "cell_type": "code",
   "execution_count": 10,
   "id": "0f9778a6",
   "metadata": {},
   "outputs": [
    {
     "name": "stdout",
     "output_type": "stream",
     "text": [
      "      col1  col2  col3\n",
      "row1     1   2.0     3\n",
      "row2     4   5.0     6\n",
      "row3     7   NaN     9\n"
     ]
    }
   ],
   "source": [
    "col = ['col1','col2','col3']\n",
    "row = ['row1','row2','row3']\n",
    "data = [[1,2,3],[4,5,6],[7,np.NaN,9]]\n",
    "df = pd.DataFrame(data=data,index=row,columns=col)\n",
    "print(df)"
   ]
  },
  {
   "cell_type": "code",
   "execution_count": 14,
   "id": "b9ca555d",
   "metadata": {},
   "outputs": [
    {
     "name": "stdout",
     "output_type": "stream",
     "text": [
      "col1    12.0\n",
      "col2     7.0\n",
      "col3    18.0\n",
      "dtype: float64\n",
      "row1     6.0\n",
      "row2    15.0\n",
      "row3    16.0\n",
      "dtype: float64\n"
     ]
    }
   ],
   "source": [
    "print(df.sum(axis=0))\n",
    "print(df.sum(axis=1))"
   ]
  },
  {
   "cell_type": "code",
   "execution_count": 17,
   "id": "01796ddc",
   "metadata": {},
   "outputs": [
    {
     "name": "stdout",
     "output_type": "stream",
     "text": [
      "col1    12.0\n",
      "col2     NaN\n",
      "col3    18.0\n",
      "dtype: float64\n"
     ]
    }
   ],
   "source": [
    "print(df.sum(axis=0,skipna=False))"
   ]
  },
  {
   "cell_type": "code",
   "execution_count": 19,
   "id": "ae4be855",
   "metadata": {},
   "outputs": [
    {
     "name": "stdout",
     "output_type": "stream",
     "text": [
      "row1     6.0\n",
      "row2    15.0\n",
      "row3     NaN\n",
      "dtype: float64\n"
     ]
    }
   ],
   "source": [
    "print(df.sum(axis=1,min_count=3))"
   ]
  },
  {
   "cell_type": "markdown",
   "id": "1f8c7a57",
   "metadata": {},
   "source": [
    "DataFrame.prod(axis=None, skipna=None, level=None, numeric_only=None, min_count=0, kwargs)</br>\n",
    "DataFrame.product(axis=None, skipna=None, level=None, numeric_only=None, min_count=0, kwargs)</br>\n",
    "\n",
    "axis : { 0 : 행 / 1 : 열} 곱할 레이블을 선택합니다.</br>\n",
    "skipna : {True or False} Na가 존재할 경우 무시할지의 여부입니다. 기본값은 True입니다.</br>\n",
    "level : Multi Index일 경우 레벨을 설정합니다.</br>\n",
    "numeric_only : 숫자 데이터만 사용할지의 여부 입니다.</br>\n",
    "min_count : 계산에 필요한 숫자의 최소 갯수입니다.</br>"
   ]
  },
  {
   "cell_type": "code",
   "execution_count": 21,
   "id": "6f256a46",
   "metadata": {},
   "outputs": [
    {
     "name": "stdout",
     "output_type": "stream",
     "text": [
      "      col1  col2  col3\n",
      "row1     1   2.0     3\n",
      "row2     4   5.0     6\n",
      "row3     7   NaN     9\n"
     ]
    }
   ],
   "source": [
    "col = ['col1','col2','col3']\n",
    "row = ['row1','row2','row3']\n",
    "data = [[1,2,3],[4,5,6],[7,np.NaN,9]]\n",
    "df = pd.DataFrame(data=data,index=row,columns=col)\n",
    "print(df)"
   ]
  },
  {
   "cell_type": "code",
   "execution_count": 23,
   "id": "e1f5908d",
   "metadata": {},
   "outputs": [
    {
     "name": "stdout",
     "output_type": "stream",
     "text": [
      "col1     28.0\n",
      "col2     10.0\n",
      "col3    162.0\n",
      "dtype: float64\n"
     ]
    }
   ],
   "source": [
    "print(df.prod(axis=0))"
   ]
  },
  {
   "cell_type": "code",
   "execution_count": 25,
   "id": "7c5aaa87",
   "metadata": {},
   "outputs": [
    {
     "name": "stdout",
     "output_type": "stream",
     "text": [
      "row1      6.0\n",
      "row2    120.0\n",
      "row3     63.0\n",
      "dtype: float64\n"
     ]
    }
   ],
   "source": [
    "print(df.prod(axis=1))"
   ]
  },
  {
   "cell_type": "code",
   "execution_count": 26,
   "id": "a35be038",
   "metadata": {},
   "outputs": [
    {
     "name": "stdout",
     "output_type": "stream",
     "text": [
      "col1     28.0\n",
      "col2      NaN\n",
      "col3    162.0\n",
      "dtype: float64\n"
     ]
    }
   ],
   "source": [
    "print(df.prod(axis=0, skipna=False))"
   ]
  },
  {
   "cell_type": "code",
   "execution_count": 28,
   "id": "9040ec5c",
   "metadata": {},
   "outputs": [
    {
     "name": "stdout",
     "output_type": "stream",
     "text": [
      "row1      6.0\n",
      "row2    120.0\n",
      "row3      NaN\n",
      "dtype: float64\n"
     ]
    }
   ],
   "source": [
    "print(df.prod(axis=1, min_count=3))"
   ]
  },
  {
   "cell_type": "markdown",
   "id": "4e18dca8",
   "metadata": {},
   "source": [
    "DataFrame.abs( )\n",
    "abs메서드는 각 요소의 절댓값을 반환하는 메서드입니다."
   ]
  },
  {
   "cell_type": "code",
   "execution_count": 30,
   "id": "adea30aa",
   "metadata": {},
   "outputs": [
    {
     "name": "stdout",
     "output_type": "stream",
     "text": [
      "      col1  col2      col3\n",
      "row1    -1   2.0 -3.5+0.0j\n",
      "row2     4  -5.5  3.0+4.0j\n",
      "row3     7   NaN  0.0+0.0j\n"
     ]
    }
   ],
   "source": [
    "col = ['col1','col2','col3']\n",
    "row = ['row1','row2','row3']\n",
    "data = [[-1,2,-3.5],[4,-5.5, 3+4j],[7,np.NaN,0]]\n",
    "df = pd.DataFrame(data=data,index=row,columns=col)\n",
    "print(df)"
   ]
  },
  {
   "cell_type": "code",
   "execution_count": 32,
   "id": "a6aac3bc",
   "metadata": {},
   "outputs": [
    {
     "name": "stdout",
     "output_type": "stream",
     "text": [
      "      col1  col2  col3\n",
      "row1     1   2.0   3.5\n",
      "row2     4   5.5   5.0\n",
      "row3     7   NaN   0.0\n"
     ]
    }
   ],
   "source": [
    "print(df.abs( ))"
   ]
  },
  {
   "cell_type": "markdown",
   "id": "c7fb47ba",
   "metadata": {},
   "source": [
    "DataFrame.transpose(args, copy=False)</br>\n",
    "DataFrame.T(args, copy=False)</br>\n",
    "\n",
    "copy : 사본을 반환할지 여부입니다. 여러 dtype으로 이루어진 경우 자동으로 True가 됩니다.\n",
    "\n",
    "transpose 메서드는 Dataframe객체를 전치 하는 메서드입니다.</br>\n",
    "만약 (n,m)짜리 DataFrame이라면 (0,0) 부터 (n,m)을 연결하는 대각선을 중심으로 뒤집는것과 같습니다.</br>\n",
    "※ T 메서드는 transpose 메서드와 동일합니다.</br>\n",
    "\n",
    "\n",
    "\n"
   ]
  },
  {
   "cell_type": "code",
   "execution_count": 34,
   "id": "cc7cdccd",
   "metadata": {},
   "outputs": [
    {
     "name": "stdout",
     "output_type": "stream",
     "text": [
      "     col1  col2  col3\n",
      "row1    A     1     2\n",
      "row2    B     3     4\n",
      "row3    C     5     6\n",
      "row4    D     7     8\n"
     ]
    }
   ],
   "source": [
    "col = ['col1','col2','col3']\n",
    "row = ['row1','row2','row3','row4']\n",
    "data = [['A',1,2],['B',3,4],['C',5,6],['D',7,8]]\n",
    "df = pd.DataFrame(data=data,index=row,columns=col)\n",
    "print(df)"
   ]
  },
  {
   "cell_type": "code",
   "execution_count": 36,
   "id": "3b2b2fc5",
   "metadata": {},
   "outputs": [
    {
     "name": "stdout",
     "output_type": "stream",
     "text": [
      "     row1 row2 row3 row4\n",
      "col1    A    B    C    D\n",
      "col2    1    3    5    7\n",
      "col3    2    4    6    8\n"
     ]
    }
   ],
   "source": [
    "print(df.transpose())"
   ]
  },
  {
   "cell_type": "markdown",
   "id": "eb8944b4",
   "metadata": {},
   "source": [
    "DataFrame.rank(axis=0, method='average', numeric_only=None, na_option='keep', ascending=True, pct=False)</br>\n",
    "\n",
    "axis : {0 : index / 1 : columns} 순위를 매길 레이블입니다.</br>\n",
    "method : {'average' / 'min' / 'max' / 'first' / 'dense'} 동순위 일때 처리 방법입니다.</br>\n",
    "average는 평균, min은 낮은순위, max는 높은순위, first는 나타나는순서대로</br>\n",
    "dense의 경우는 min과 같지만 그룹간 순위는 항상 1씩 증가합니다.</br>\n",
    "numeric_only : {True / False} 숫자만 순위를 매길지 여부 입니다.</br>\n",
    "na_option : {'keep' / 'top' / 'bottom'} NaN값의 처리 방법입니다.</br>\n",
    "keep의 경우 NaN순위 할당, top의 경우 낮은순위 할당, bottom의 경우 높은 순위를 할당합니다.</br>\n",
    "ascending : {True / False} 오름차순으로 할지의 여부 입니다.</br>\n",
    "pct : {True / False} 순위를 백분위수형식으로 할지 여부입니다.</br>"
   ]
  },
  {
   "cell_type": "code",
   "execution_count": 39,
   "id": "8e048ec0",
   "metadata": {},
   "outputs": [
    {
     "name": "stdout",
     "output_type": "stream",
     "text": [
      "   Value\n",
      "A★     5\n",
      "B★     5\n",
      "C   <NA>\n",
      "D☆     3\n",
      "E   -3.1\n",
      "F★     5\n",
      "G    0.4\n",
      "H    6.7\n",
      "I☆     3\n"
     ]
    }
   ],
   "source": [
    "data = [[5],[5],[pd.NA],[3],[-3.1],[5],[0.4],[6.7],[3]]\n",
    "row = ['A★','B★','C','D☆','E','F★','G','H','I☆']\n",
    "df = pd.DataFrame(data=data, index=row, columns=['Value'])\n",
    "print(df)"
   ]
  },
  {
   "cell_type": "markdown",
   "id": "d68411f2",
   "metadata": {},
   "source": [
    "average : D와 I의 경우 각각 3등 4등이기때문에 3.5 출력</br>\n",
    "min : A, B, F의 경우 각각 5등 6등 7등으로 가장 낮은등수인 5 출력</br>\n",
    "max : A, B, F의 경우 각각 5등 6등 7등으로 가장 높등수인 7 출력</br>\n",
    "first : 동점일경우 위에서부터 매김 D와 I 각각 3등 4등</br>\n",
    "dense : min처럼 동작하지만 등수가 순차적으로 증가</br>"
   ]
  },
  {
   "cell_type": "code",
   "execution_count": 42,
   "id": "66cecf09",
   "metadata": {},
   "outputs": [
    {
     "name": "stdout",
     "output_type": "stream",
     "text": [
      "   Value  average  min  max  first  dense\n",
      "A★     5      6.0  5.0  7.0    5.0    4.0\n",
      "B★     5      6.0  5.0  7.0    6.0    4.0\n",
      "C   <NA>      NaN  NaN  NaN    NaN    NaN\n",
      "D☆     3      3.5  3.0  4.0    3.0    3.0\n",
      "E   -3.1      1.0  1.0  1.0    1.0    1.0\n",
      "F★     5      6.0  5.0  7.0    7.0    4.0\n",
      "G    0.4      2.0  2.0  2.0    2.0    2.0\n",
      "H    6.7      8.0  8.0  8.0    8.0    5.0\n",
      "I☆     3      3.5  3.0  4.0    4.0    3.0\n"
     ]
    }
   ],
   "source": [
    "df['average']=df['Value'].rank(method='average')\n",
    "df['min']=df['Value'].rank(method='min')\n",
    "df['max']=df['Value'].rank(method='max')\n",
    "df['first']=df['Value'].rank(method='first')\n",
    "df['dense']=df['Value'].rank(method='dense')\n",
    "print(df)"
   ]
  },
  {
   "cell_type": "markdown",
   "id": "d239765f",
   "metadata": {},
   "source": [
    "keep : Na요소에 NaN을 부여하여 그대로 둡니다.</br>\n",
    "top : Na에게 가장 높은 순위를 부여합니다. 1등이 된것을 볼 수 있습니다.</br>\n",
    "bottom : Na에게 가장 높은 순위를 부여합니다. 9등이 된것을 볼 수 있습니다.</br>\n",
    "pct : True일 경우 백분위수로 표시합니다.</br>"
   ]
  },
  {
   "cell_type": "code",
   "execution_count": 45,
   "id": "2a58888e",
   "metadata": {},
   "outputs": [
    {
     "name": "stdout",
     "output_type": "stream",
     "text": [
      "   Value  average  min  max  first  dense  keep  top  bottom     pct\n",
      "A★     5      6.0  5.0  7.0    5.0    4.0   6.0  7.0     6.0  0.7500\n",
      "B★     5      6.0  5.0  7.0    6.0    4.0   6.0  7.0     6.0  0.7500\n",
      "C   <NA>      NaN  NaN  NaN    NaN    NaN   NaN  1.0     9.0     NaN\n",
      "D☆     3      3.5  3.0  4.0    3.0    3.0   3.5  4.5     3.5  0.4375\n",
      "E   -3.1      1.0  1.0  1.0    1.0    1.0   1.0  2.0     1.0  0.1250\n",
      "F★     5      6.0  5.0  7.0    7.0    4.0   6.0  7.0     6.0  0.7500\n",
      "G    0.4      2.0  2.0  2.0    2.0    2.0   2.0  3.0     2.0  0.2500\n",
      "H    6.7      8.0  8.0  8.0    8.0    5.0   8.0  9.0     8.0  1.0000\n",
      "I☆     3      3.5  3.0  4.0    4.0    3.0   3.5  4.5     3.5  0.4375\n"
     ]
    }
   ],
   "source": [
    "df['keep']=df['Value'].rank(na_option='keep')\n",
    "df['top']=df['Value'].rank(na_option='top')\n",
    "df['bottom']=df['Value'].rank(na_option='bottom')\n",
    "df['pct']=df['Value'].rank(pct=True)\n",
    "print(df)"
   ]
  },
  {
   "cell_type": "markdown",
   "id": "07954211",
   "metadata": {},
   "source": [
    "DataFrame.diff(periods=1, axis=0)</br>\n",
    "axis : 비교할 축을 지정합니다. axis=0 인 경우 행끼리 비교하고 axis=1인 경우 열 끼리 비교합니다.</br>\n",
    "periods : 비교할 간격을 지정합니다. 기본은 +1로 바로 이전 값과 비교합니다.</br>"
   ]
  },
  {
   "cell_type": "code",
   "execution_count": 47,
   "id": "3864f021",
   "metadata": {},
   "outputs": [
    {
     "name": "stdout",
     "output_type": "stream",
     "text": [
      "   col1  col2  col3\n",
      "0     1     1     8\n",
      "1     2     2     7\n",
      "2     3     4     6\n",
      "3     4     8     5\n",
      "4     5    16     4\n",
      "5     6    32     3\n",
      "6     7    64     2\n",
      "7     8   128     1\n"
     ]
    }
   ],
   "source": [
    "a = [1,2,3,4,5,6,7,8]\n",
    "b = [1,2,4,8,16,32,64,128]\n",
    "c = [8,7,6,5,4,3,2,1]\n",
    "data = {\"col1\":a,\"col2\":b,\"col3\":c}\n",
    "df = pd.DataFrame(data)\n",
    "print(df)"
   ]
  },
  {
   "cell_type": "code",
   "execution_count": 49,
   "id": "76c7cf72",
   "metadata": {},
   "outputs": [
    {
     "name": "stdout",
     "output_type": "stream",
     "text": [
      "   col1  col2  col3\n",
      "0   NaN   NaN   NaN\n",
      "1   1.0   1.0  -1.0\n",
      "2   1.0   2.0  -1.0\n",
      "3   1.0   4.0  -1.0\n",
      "4   1.0   8.0  -1.0\n",
      "5   1.0  16.0  -1.0\n",
      "6   1.0  32.0  -1.0\n",
      "7   1.0  64.0  -1.0\n"
     ]
    }
   ],
   "source": [
    "print(df.diff(axis=0))"
   ]
  },
  {
   "cell_type": "code",
   "execution_count": 52,
   "id": "bff30754",
   "metadata": {},
   "outputs": [
    {
     "name": "stdout",
     "output_type": "stream",
     "text": [
      "   col1  col2  col3\n",
      "0   NaN     0     7\n",
      "1   NaN     0     5\n",
      "2   NaN     1     2\n",
      "3   NaN     4    -3\n",
      "4   NaN    11   -12\n",
      "5   NaN    26   -29\n",
      "6   NaN    57   -62\n",
      "7   NaN   120  -127\n"
     ]
    }
   ],
   "source": [
    "print(df.diff(axis=1))"
   ]
  },
  {
   "cell_type": "code",
   "execution_count": 55,
   "id": "fc7b0944",
   "metadata": {},
   "outputs": [
    {
     "name": "stdout",
     "output_type": "stream",
     "text": [
      "   col1   col2  col3\n",
      "0   NaN    NaN   NaN\n",
      "1   NaN    NaN   NaN\n",
      "2   NaN    NaN   NaN\n",
      "3   3.0    7.0  -3.0\n",
      "4   3.0   14.0  -3.0\n",
      "5   3.0   28.0  -3.0\n",
      "6   3.0   56.0  -3.0\n",
      "7   3.0  112.0  -3.0\n"
     ]
    }
   ],
   "source": [
    "print(df.diff(periods=3))"
   ]
  },
  {
   "cell_type": "code",
   "execution_count": 57,
   "id": "f96758c9",
   "metadata": {
    "scrolled": true
   },
   "outputs": [
    {
     "name": "stdout",
     "output_type": "stream",
     "text": [
      "   col1  col2  col3\n",
      "0  -2.0  -3.0   2.0\n",
      "1  -2.0  -6.0   2.0\n",
      "2  -2.0 -12.0   2.0\n",
      "3  -2.0 -24.0   2.0\n",
      "4  -2.0 -48.0   2.0\n",
      "5  -2.0 -96.0   2.0\n",
      "6   NaN   NaN   NaN\n",
      "7   NaN   NaN   NaN\n"
     ]
    }
   ],
   "source": [
    "print(df.diff(periods=-2))"
   ]
  },
  {
   "cell_type": "markdown",
   "id": "3ff3575a",
   "metadata": {},
   "source": [
    "DataFrame.pct_change(periods=1, fill_method='pad', limit=None, freq=None, kwargs)\n",
    "\n",
    "pct_change는 한 객체 내에서 행과 행의 차이를 현재값과의 백분율로 출력하는 메서드 입니다.</br>\n",
    "즉, (다음행 - 현재행)÷현재행 을 의미합니다.</br>\n",
    "\n",
    "periods : 비교할 간격을 지정합니다. 기본은 +1로 바로 이전 값과 비교합니다.</br>\n",
    "fill_method : {ffill : 앞의 값으로 채움 / bfill : 뒤의 값으로 채움} 결측치를 대체할 값입니다.</br>\n",
    "limit : 결측값을 몇개나 대체할지 정할 수 있습니다.</br>\n",
    "freq : 시계열 API에서 사용할 증분을 지정합니다. (예: 'M' 또는 BDay( ))</br>"
   ]
  },
  {
   "cell_type": "code",
   "execution_count": 61,
   "id": "1c496df3",
   "metadata": {},
   "outputs": [
    {
     "name": "stdout",
     "output_type": "stream",
     "text": [
      "   col1  col2  col3\n",
      "0     1     1   1.0\n",
      "1     1     2   NaN\n",
      "2     4     4   NaN\n",
      "3     4     8   NaN\n",
      "4     1    16  16.0\n",
      "5     1    32  64.0\n"
     ]
    }
   ],
   "source": [
    "a = [1,1,4,4,1,1]\n",
    "b = [1,2,4,8,16,32]\n",
    "c = [1,np.NaN,np.NaN,np.NaN,16,64]\n",
    "data = {\"col1\":a,\"col2\":b,\"col3\":c}\n",
    "df = pd.DataFrame(data)\n",
    "print(df)"
   ]
  },
  {
   "cell_type": "code",
   "execution_count": 63,
   "id": "8322aaf4",
   "metadata": {},
   "outputs": [
    {
     "name": "stdout",
     "output_type": "stream",
     "text": [
      "   col1  col2  col3\n",
      "0   NaN   NaN   NaN\n",
      "1  0.00   1.0   0.0\n",
      "2  3.00   1.0   0.0\n",
      "3  0.00   1.0   0.0\n",
      "4 -0.75   1.0  15.0\n",
      "5  0.00   1.0   3.0\n"
     ]
    }
   ],
   "source": [
    "print(df.pct_change())"
   ]
  },
  {
   "cell_type": "code",
   "execution_count": 66,
   "id": "78122aec",
   "metadata": {},
   "outputs": [
    {
     "name": "stdout",
     "output_type": "stream",
     "text": [
      "   col1  col2  col3\n",
      "0   NaN   NaN   NaN\n",
      "1   NaN   NaN   NaN\n",
      "2  3.00   3.0   0.0\n",
      "3  3.00   3.0   0.0\n",
      "4 -0.75   3.0  15.0\n",
      "5 -0.75   3.0  63.0\n"
     ]
    }
   ],
   "source": [
    "print(df.pct_change(periods=2))\n"
   ]
  },
  {
   "cell_type": "code",
   "execution_count": 68,
   "id": "486441f0",
   "metadata": {},
   "outputs": [
    {
     "name": "stdout",
     "output_type": "stream",
     "text": [
      "   col1  col2    col3\n",
      "0  0.00  -0.5  0.0000\n",
      "1 -0.75  -0.5  0.0000\n",
      "2  0.00  -0.5  0.0000\n",
      "3  3.00  -0.5 -0.9375\n",
      "4  0.00  -0.5 -0.7500\n",
      "5   NaN   NaN     NaN\n"
     ]
    }
   ],
   "source": [
    "print(df.pct_change(periods=-1))"
   ]
  },
  {
   "cell_type": "markdown",
   "id": "82356ea0",
   "metadata": {},
   "source": [
    "fill_method인수는 결측치를 대체할 값을 지정할 수 있습니다.</br>\n",
    "fill_method='ffill'인 경우는 기본값으로 바로 윗값으로 결측치를 대체합니다.</br>\n",
    "fill_method='bfill'인 경우는 바로 아랫값으로 결측치를 대체합니다.</br>"
   ]
  },
  {
   "cell_type": "code",
   "execution_count": 71,
   "id": "2b7028d6",
   "metadata": {},
   "outputs": [
    {
     "name": "stdout",
     "output_type": "stream",
     "text": [
      "   col1  col2  col3\n",
      "0   NaN   NaN   NaN\n",
      "1  0.00   1.0  15.0\n",
      "2  3.00   1.0   0.0\n",
      "3  0.00   1.0   0.0\n",
      "4 -0.75   1.0   0.0\n",
      "5  0.00   1.0   3.0\n"
     ]
    }
   ],
   "source": [
    "print(df.pct_change(fill_method='bfill'))"
   ]
  },
  {
   "cell_type": "markdown",
   "id": "11a9931f",
   "metadata": {},
   "source": [
    "limit인수는 결측치를 몇개까지 대체할지 지정합니다."
   ]
  },
  {
   "cell_type": "code",
   "execution_count": 73,
   "id": "b5ec3293",
   "metadata": {},
   "outputs": [
    {
     "name": "stdout",
     "output_type": "stream",
     "text": [
      "   col1  col2  col3\n",
      "0   NaN   NaN   NaN\n",
      "1  0.00   1.0   0.0\n",
      "2  3.00   1.0   0.0\n",
      "3  0.00   1.0   NaN\n",
      "4 -0.75   1.0   NaN\n",
      "5  0.00   1.0   3.0\n"
     ]
    }
   ],
   "source": [
    "print(df.pct_change(limit=2))"
   ]
  },
  {
   "cell_type": "markdown",
   "id": "73dda780",
   "metadata": {},
   "source": [
    "DataFrame.expanding(min_periods=1, center=None, axis=0, method='single')\n",
    "\n",
    "min_periods : 연산을 수행할 요소의 최소 갯수입니다. 이보다 작으면 NaN을 출력합니다.</br>\n",
    "center : 미사용</br>\n",
    "axis : 누적 연산을 수행할 축을 지정합니다.</br>\n",
    "method : {single / table} 연산을 한 줄씩 수행할지 아니면 전체 테이블에 대해서 롤링을 수행할지 여부입니다.</br>\n",
    "기본값은 'singl'로 한 줄씩 연산을 수행합니다. 'table'을 사용하기 위해서는 numba 라이브러리가 설치되어있어야 하며,\n",
    "추가 연산 메서드에서 engine=numba로 설정해주어야 합니다.</br>"
   ]
  },
  {
   "cell_type": "code",
   "execution_count": 77,
   "id": "a00fbaa0",
   "metadata": {},
   "outputs": [
    {
     "name": "stdout",
     "output_type": "stream",
     "text": [
      "      col1  col2\n",
      "row1     1     3\n",
      "row2     2     7\n",
      "row3     3     5\n",
      "row4     4     6\n"
     ]
    }
   ],
   "source": [
    "data = {'col1':[1,2,3,4],'col2':[3,7,5,6]}\n",
    "idx = ['row1','row2','row3','row4']\n",
    "df = pd.DataFrame(data = data, index = idx)\n",
    "print(df)"
   ]
  },
  {
   "cell_type": "code",
   "execution_count": 80,
   "id": "424700c8",
   "metadata": {},
   "outputs": [
    {
     "name": "stdout",
     "output_type": "stream",
     "text": [
      "      col1  col2\n",
      "row1   1.0   3.0\n",
      "row2   3.0  10.0\n",
      "row3   6.0  15.0\n",
      "row4  10.0  21.0\n"
     ]
    }
   ],
   "source": [
    "print(df.expanding().sum())"
   ]
  },
  {
   "cell_type": "code",
   "execution_count": 82,
   "id": "84c7c446",
   "metadata": {},
   "outputs": [
    {
     "name": "stdout",
     "output_type": "stream",
     "text": [
      "      col1  col2\n",
      "row1   NaN   NaN\n",
      "row2   NaN   NaN\n",
      "row3   NaN   NaN\n",
      "row4  10.0  21.0\n"
     ]
    }
   ],
   "source": [
    "print(df.expanding(min_periods=4).sum())"
   ]
  },
  {
   "cell_type": "code",
   "execution_count": 84,
   "id": "ea75bdeb",
   "metadata": {
    "scrolled": true
   },
   "outputs": [
    {
     "name": "stdout",
     "output_type": "stream",
     "text": [
      "      col1  col2\n",
      "row1   1.0   4.0\n",
      "row2   2.0   9.0\n",
      "row3   3.0   8.0\n",
      "row4   4.0  10.0\n"
     ]
    }
   ],
   "source": [
    "print(df.expanding(axis=1).sum())"
   ]
  },
  {
   "cell_type": "code",
   "execution_count": 88,
   "id": "02a3cdb2",
   "metadata": {},
   "outputs": [
    {
     "name": "stdout",
     "output_type": "stream",
     "text": [
      "      col1  col2\n",
      "row1   1.0   3.0\n",
      "row2   3.0  10.0\n",
      "row3   6.0  15.0\n",
      "row4  10.0  21.0\n"
     ]
    }
   ],
   "source": [
    "#Numba는 파이썬 코드를 LLVM컴파일러를 이용해 머신코드로 바꾸어 수치연산을 가속해주는 라이브러리입니다.\n",
    "import numba\n",
    "print(df.expanding(method='table').sum(engine='numba'))"
   ]
  },
  {
   "cell_type": "markdown",
   "id": "387c4407",
   "metadata": {},
   "source": [
    "DataFrame.rolling(window, min_periods=None, center=False, win_type=None, on=None, axis=0, closed=None, method='single')\n",
    "\n",
    "window : 계산할 창(window)의 크기 입니다. 열 기준으로 계산할 경우 행의 수입니다.</br>\n",
    "min_periods : 계산할 최소 크기(기간) 입니다. window 안의 값의 수가 min_periods의 값보다 작을경우 NaN을 출력합니다.</br>\n",
    "기본적으로 window 크기와 동일합니다.</br>\n",
    "center : {True / False} 레이블을 window의 중간에 둘지 여부입니다. 기본값은 False로 레이블이 창 우측에 위치합니다.</br>\n",
    "win_type : {'triang' / 'gaussian' / ...} 가중치를 넣어 계산할 경우 계산 방식 입니다. 때에따라 연산 메서드에 추가 인수를 지정해야할수도 있습니다.</br>\n",
    "on : 시계열 인덱스나, 시계열과 유사한 열이 있을 경우 이 열을 기준으로 rolling을 수행할 수 있습니다.</br>\n",
    "axis : 계산의 기준이 될 축입니다.</br>\n",
    "closed : {'left' / 'right' / 'both' / 'neither'} window가 닫히는 방향입니다. 자세한건 아래 예시 참고바랍니다</br>\n",
    "method :{'single' / 'table'} numba 를 이용하여 테이블 계산을 진행하여 속도를 높힐지 여부입니다. 현재 'single'만 사용가능합니다.</br>\n",
    "※ method 인수의 numba 사용은 02-09 누적계산(expending)에서 자세히 다루고 있습니다."
   ]
  },
  {
   "cell_type": "code",
   "execution_count": 91,
   "id": "45036288",
   "metadata": {},
   "outputs": [
    {
     "name": "stdout",
     "output_type": "stream",
     "text": [
      "      col1              col2\n",
      "row1     1  2022-01-13 00:00\n",
      "row2     2  2022-01-13 00:30\n",
      "row3     3  2022-01-13 01:00\n",
      "row4     4  2022-01-13 01:30\n",
      "row5     5  2022-01-13 02:00\n",
      "row6     6  2022-01-13 02:30\n"
     ]
    }
   ],
   "source": [
    "period = pd.period_range(start='2022-01-13 00:00:00',end='2022-01-13 02:30:00',freq='30T')\n",
    "data = {'col1':[1,2,3,4,5,6],'col2':period}\n",
    "idx = ['row1','row2','row3','row4','row5','row6']\n",
    "df = pd.DataFrame(data= data, index = idx)\n",
    "print(df)"
   ]
  },
  {
   "cell_type": "code",
   "execution_count": null,
   "id": "fc538573",
   "metadata": {},
   "outputs": [],
   "source": [
    "print(df.rolling(window=3).sum())"
   ]
  },
  {
   "cell_type": "markdown",
   "id": "26a0b489",
   "metadata": {},
   "source": [
    "left : 3 ≤ x < 6</br>\n",
    "right : 3 < x ≤ 6</br>\n",
    "both : 3 ≤ x ≤ 6</br>\n",
    "neither : 3 < x < 6</br>"
   ]
  },
  {
   "cell_type": "code",
   "execution_count": 95,
   "id": "48c941b8",
   "metadata": {},
   "outputs": [
    {
     "name": "stdout",
     "output_type": "stream",
     "text": [
      "      col1\n",
      "row1   NaN\n",
      "row2   NaN\n",
      "row3   NaN\n",
      "row4   6.0\n",
      "row5   9.0\n",
      "row6  12.0\n"
     ]
    }
   ],
   "source": [
    "print(df.rolling(window=3, closed='left').sum())"
   ]
  },
  {
   "cell_type": "code",
   "execution_count": 97,
   "id": "d18c2a08",
   "metadata": {},
   "outputs": [
    {
     "name": "stdout",
     "output_type": "stream",
     "text": [
      "      col1\n",
      "row1   NaN\n",
      "row2   NaN\n",
      "row3   6.0\n",
      "row4   9.0\n",
      "row5  12.0\n",
      "row6  15.0\n"
     ]
    }
   ],
   "source": [
    "print(df.rolling(window=3, closed='right').sum())"
   ]
  },
  {
   "cell_type": "code",
   "execution_count": 98,
   "id": "b076e6de",
   "metadata": {},
   "outputs": [
    {
     "name": "stdout",
     "output_type": "stream",
     "text": [
      "      col1\n",
      "row1   NaN\n",
      "row2   NaN\n",
      "row3   6.0\n",
      "row4  10.0\n",
      "row5  14.0\n",
      "row6  18.0\n"
     ]
    }
   ],
   "source": [
    "print(df.rolling(window=3, closed='both').sum())"
   ]
  },
  {
   "cell_type": "code",
   "execution_count": 99,
   "id": "448f7ca5",
   "metadata": {},
   "outputs": [
    {
     "name": "stdout",
     "output_type": "stream",
     "text": [
      "      col1\n",
      "row1   NaN\n",
      "row2   NaN\n",
      "row3   NaN\n",
      "row4   NaN\n",
      "row5   NaN\n",
      "row6   NaN\n"
     ]
    }
   ],
   "source": [
    "print(df.rolling(window=3, closed='neither').sum())"
   ]
  },
  {
   "cell_type": "code",
   "execution_count": 102,
   "id": "11d27de2",
   "metadata": {},
   "outputs": [
    {
     "name": "stdout",
     "output_type": "stream",
     "text": [
      "      col1\n",
      "row1   NaN\n",
      "row2   NaN\n",
      "row3   3.0\n",
      "row4   5.0\n",
      "row5   7.0\n",
      "row6   9.0\n"
     ]
    }
   ],
   "source": [
    "print(df.rolling(window=3, closed='neither',min_periods=2).sum())"
   ]
  },
  {
   "cell_type": "code",
   "execution_count": 103,
   "id": "9bf465a8",
   "metadata": {},
   "outputs": [
    {
     "name": "stdout",
     "output_type": "stream",
     "text": [
      "      col1\n",
      "row1   NaN\n",
      "row2   NaN\n",
      "row3   4.0\n",
      "row4   6.0\n",
      "row5   8.0\n",
      "row6  10.0\n"
     ]
    }
   ],
   "source": [
    "#win_type을 지정할 경우 가중치를 주며 계산을 할 수 있습니다.\n",
    "print(df.rolling(window=3, win_type='triang').sum())"
   ]
  },
  {
   "cell_type": "code",
   "execution_count": 105,
   "id": "af2f22e7",
   "metadata": {},
   "outputs": [
    {
     "name": "stdout",
     "output_type": "stream",
     "text": [
      "           col1\n",
      "row1        NaN\n",
      "row2        NaN\n",
      "row3   5.783838\n",
      "row4   8.675757\n",
      "row5  11.567676\n",
      "row6  14.459595\n"
     ]
    }
   ],
   "source": [
    "print(df.rolling(window=3, win_type='gaussian').sum(std=3)) "
   ]
  },
  {
   "cell_type": "code",
   "execution_count": 108,
   "id": "71b6d638",
   "metadata": {},
   "outputs": [
    {
     "name": "stdout",
     "output_type": "stream",
     "text": [
      "      col1              col2\n",
      "row1   1.0  2022-01-13 00:00\n",
      "row2   3.0  2022-01-13 00:30\n",
      "row3   5.0  2022-01-13 01:00\n",
      "row4   7.0  2022-01-13 01:30\n",
      "row5   9.0  2022-01-13 02:00\n",
      "row6  11.0  2022-01-13 02:30\n"
     ]
    }
   ],
   "source": [
    "#on='col2'를 이용하여 col2열의 시계열 인덱스를 기준으로 rolling의 수행이 가능합니다.\n",
    "print(df.rolling(window='60T',on='col2').sum())"
   ]
  },
  {
   "cell_type": "markdown",
   "id": "b2ee06bd",
   "metadata": {},
   "source": [
    "DataFrame.groupby(by=None, axis=0, level=None, as_index=True, sort=True, group_keys=True, squeeze=NoDefault.no_default, observed=False, dropna=True)\n",
    "\n",
    "by : 그룹화할 내용입니다. 함수, 축, 리스트 등등이 올 수 있습니다.</br>\n",
    "axis : 그룹화를 적용할 축입니다.</br>\n",
    "level : 멀티 인덱스의 경우 레벨을 지정할 수 있습니다.</br>\n",
    "as_index : 그룹화할 내용을 인덱스로 할지 여부입니다. False이면 기존 인덱스가 유지됩니다.</br>\n",
    "sort : 그룹키를 정렬할지 여부입니다.</br>\n",
    "group_keys : apply메서드 사용시 결과에따라 그룹화 대상인 열이 인덱스와 중복(group key)이 될 수 있습니다. 이 때, group_keys=False로 인덱스를 기본값으로 지정할 수 있습니다.</br>\n",
    "squeeze : 결과가 1행 or 1열짜리 데이터일 경우 Series로, 1행&1열 짜리 데이터일 경우 스칼라로 출력합니다.</br>\n",
    "observed : Categorical로 그룹화 할 경우 Categorical 그룹퍼에 의해 관찰된 값만 표시할 지 여부입니다.</br>\n",
    "dropna : 결측값을 계산에서 제외할지 여부입니다.</br>"
   ]
  },
  {
   "cell_type": "code",
   "execution_count": 112,
   "id": "68122741",
   "metadata": {},
   "outputs": [
    {
     "name": "stdout",
     "output_type": "stream",
     "text": [
      "   index  col1  col2  col3\n",
      "0      A     1     0     0\n",
      "1      A     5     6     6\n",
      "2      B     7     2     3\n",
      "3      B     8     2     8\n",
      "4      B     1     2     7\n",
      "5      C     0     2     7\n",
      "6      C     0     8     8\n",
      "7      C     1     1     4\n",
      "8      D     3     8     5\n",
      "9      D     6     2     1\n",
      "10     D     3     6     2\n",
      "11     D     4     4     2\n",
      "12     E     7     4     8\n",
      "13     E     0     2     3\n",
      "14     E     4     2     0\n"
     ]
    }
   ],
   "source": [
    "idx=['A','A','B','B','B','C','C','C','D','D','D','D','E','E','E']\n",
    "col=['col1','col2','col3']\n",
    "data = np.random.randint(0,9,(15,3))\n",
    "df = pd.DataFrame(data=data, index=idx, columns=col).reset_index()\n",
    "print(df)"
   ]
  },
  {
   "cell_type": "code",
   "execution_count": 116,
   "id": "ba98fa5d",
   "metadata": {},
   "outputs": [
    {
     "name": "stdout",
     "output_type": "stream",
     "text": [
      "           col1      col2      col3\n",
      "index                              \n",
      "A      3.000000  3.000000  3.000000\n",
      "B      5.333333  2.000000  6.000000\n",
      "C      0.333333  3.666667  6.333333\n",
      "D      4.000000  5.000000  2.500000\n",
      "E      3.666667  2.666667  3.666667\n"
     ]
    }
   ],
   "source": [
    "#추가 메서드 없이 groupby 메서드를 실행하면 DataFrameGroupBy 오브젝트가 생성이 됩니다.\n",
    "print(df.groupby('index').mean())"
   ]
  },
  {
   "cell_type": "code",
   "execution_count": 118,
   "id": "11b11c01",
   "metadata": {},
   "outputs": [
    {
     "name": "stdout",
     "output_type": "stream",
     "text": [
      "       col1  col2  col3\n",
      "index                  \n",
      "A         2     2     2\n",
      "B         3     3     3\n",
      "C         3     3     3\n",
      "D         4     4     4\n",
      "E         3     3     3\n"
     ]
    }
   ],
   "source": [
    "print(df.groupby('index').count())"
   ]
  },
  {
   "cell_type": "code",
   "execution_count": 121,
   "id": "c46c4d64",
   "metadata": {},
   "outputs": [
    {
     "name": "stdout",
     "output_type": "stream",
     "text": [
      "      col1           col2           col3          \n",
      "       sum      mean  sum      mean  sum      mean\n",
      "index                                             \n",
      "A        6  3.000000    6  3.000000    6  3.000000\n",
      "B       16  5.333333    6  2.000000   18  6.000000\n",
      "C        1  0.333333   11  3.666667   19  6.333333\n",
      "D       16  4.000000   20  5.000000   10  2.500000\n",
      "E       11  3.666667    8  2.666667   11  3.666667\n"
     ]
    }
   ],
   "source": [
    "print(df.groupby('index').agg(['sum','mean']))"
   ]
  },
  {
   "cell_type": "markdown",
   "id": "6a2246ec",
   "metadata": {},
   "source": [
    "group_keys 인수의 사용</br>\n",
    "apply 메서드를 이용해 groupby연산을 수행할 경우, groupkey가 설정되기 때문에 때에따라 컬럼과 인덱스가 중복될 수 있습니다. 이 때 group_keys=False를 통해 기본 인덱스로 출력이 가능합니다."
   ]
  },
  {
   "cell_type": "code",
   "execution_count": 123,
   "id": "75589c41",
   "metadata": {},
   "outputs": [],
   "source": [
    "#상위 n개 열을 반환하는 함수 top 생성\n",
    "def top (df,n=2,col='col1'):\n",
    "    return df.sort_values(by=col)[-n:] "
   ]
  },
  {
   "cell_type": "code",
   "execution_count": 125,
   "id": "a841928a",
   "metadata": {},
   "outputs": [
    {
     "name": "stdout",
     "output_type": "stream",
     "text": [
      "         index  col1  col2  col3\n",
      "index                           \n",
      "A     0      A     1     0     0\n",
      "      1      A     5     6     6\n",
      "B     2      B     7     2     3\n",
      "      3      B     8     2     8\n",
      "C     6      C     0     8     8\n",
      "      7      C     1     1     4\n",
      "D     11     D     4     4     2\n",
      "      9      D     6     2     1\n",
      "E     14     E     4     2     0\n",
      "      12     E     7     4     8\n"
     ]
    }
   ],
   "source": [
    "#>>> f = lambda x, y : x + y\n",
    "#>>> f(5,6)\n",
    "#DataFrame명.apply(lambda x : x['칼럼명']들의 조건식 \n",
    "#                             if x['칼럼명']들의 조건식 \n",
    "#                             else (x['칼럼명']들의 조건식 또는 값), axis = 1)\n",
    "\n",
    "print(df.groupby('index').apply(top))"
   ]
  },
  {
   "cell_type": "code",
   "execution_count": 128,
   "id": "92aa6e43",
   "metadata": {
    "scrolled": true
   },
   "outputs": [
    {
     "name": "stdout",
     "output_type": "stream",
     "text": [
      "   index  col1  col2  col3\n",
      "0      A     1     0     0\n",
      "1      A     5     6     6\n",
      "2      B     7     2     3\n",
      "3      B     8     2     8\n",
      "6      C     0     8     8\n",
      "7      C     1     1     4\n",
      "11     D     4     4     2\n",
      "9      D     6     2     1\n",
      "14     E     4     2     0\n",
      "12     E     7     4     8\n"
     ]
    }
   ],
   "source": [
    "print(df.groupby('index',group_keys=False).apply(top))"
   ]
  },
  {
   "cell_type": "markdown",
   "id": "b2b250a4",
   "metadata": {},
   "source": [
    "observed 인수의 사용</br>\n",
    "Categorical 객체를 생성할 때, 그룹화(groupby)할 열에 있는 값이 아닌 값을 포함하게되면, 그룹화 할 때 해당 값을 표시할지 여부를 선택할 수 있습니다."
   ]
  },
  {
   "cell_type": "code",
   "execution_count": 130,
   "id": "c9625f4c",
   "metadata": {},
   "outputs": [
    {
     "name": "stdout",
     "output_type": "stream",
     "text": [
      "['A', 'A', 'B', 'B', 'B', ..., 'D', 'D', 'E', 'E', 'E']\n",
      "Length: 15\n",
      "Categories (6, object): ['A', 'B', 'C', 'D', 'E', 'F']\n"
     ]
    }
   ],
   "source": [
    "# df의 index열에 대해서 A,B,C,D,E,F 로 Categorical을 하여 df_cat 생성\n",
    "df_cat = pd.Categorical(df['index'], categories=['A','B','C','D','E','F']) \n",
    "print(df_cat)"
   ]
  },
  {
   "cell_type": "code",
   "execution_count": 135,
   "id": "b82af838",
   "metadata": {},
   "outputs": [
    {
     "name": "stdout",
     "output_type": "stream",
     "text": [
      "A    2\n",
      "B    3\n",
      "C    3\n",
      "D    4\n",
      "E    3\n",
      "F    0\n",
      "Name: col1, dtype: int64\n"
     ]
    }
   ],
   "source": [
    "#위 catrory 객체에 대해서 col1열을 groupby 하면 아래와 같이 카테고리에만 존재하는 F에대한 groupby 값이 출력됩니다.\n",
    "print(df['col1'].groupby(df_cat).count())"
   ]
  },
  {
   "cell_type": "code",
   "execution_count": 136,
   "id": "a9868a36",
   "metadata": {},
   "outputs": [
    {
     "name": "stdout",
     "output_type": "stream",
     "text": [
      "A    2\n",
      "B    3\n",
      "C    3\n",
      "D    4\n",
      "E    3\n",
      "Name: col1, dtype: int64\n"
     ]
    }
   ],
   "source": [
    "#observed=True로 할경우 관찰되지 않는값 (카테고리에만 존재하는값)은 표시되지 않습니다.\n",
    "print(df['col1'].groupby(df_cat,observed=True).count())"
   ]
  },
  {
   "cell_type": "markdown",
   "id": "4e8db554",
   "metadata": {},
   "source": [
    "as_index인수의 사용</br>\n",
    "특정 열을 지정하여 groupby할 경우 해당 열이 인덱스가 되는데, as_index=False로 하여 기존 인덱스의 유지가 가능합니다."
   ]
  },
  {
   "cell_type": "code",
   "execution_count": 139,
   "id": "414a62ff",
   "metadata": {},
   "outputs": [
    {
     "name": "stdout",
     "output_type": "stream",
     "text": [
      "  index  col1  col2  col3\n",
      "0     A     6     6     6\n",
      "1     B    16     6    18\n",
      "2     C     1    11    19\n",
      "3     D    16    20    10\n",
      "4     E    11     8    11\n"
     ]
    }
   ],
   "source": [
    "print(df.groupby(['index'],as_index=False).sum())"
   ]
  },
  {
   "cell_type": "markdown",
   "id": "afa7508d",
   "metadata": {},
   "source": [
    "dropna인수의 사용</br>\n",
    "dropna인수를 통해 결측값(NaN)이 포함된 경우 그룹화에서 제외할지 여부를 정할 수 있습니다.</br>\n",
    "먼저 index열의 6번행을 결측값(NaN)으로 변경해보겠습니다.</br>"
   ]
  },
  {
   "cell_type": "code",
   "execution_count": 141,
   "id": "e511bdde",
   "metadata": {},
   "outputs": [
    {
     "name": "stdout",
     "output_type": "stream",
     "text": [
      "   index  col1  col2  col3\n",
      "0      A     1     0     0\n",
      "1      A     5     6     6\n",
      "2      B     7     2     3\n",
      "3      B     8     2     8\n",
      "4      B     1     2     7\n",
      "5      C     0     2     7\n",
      "6    NaN     0     8     8\n",
      "7      C     1     1     4\n",
      "8      D     3     8     5\n",
      "9      D     6     2     1\n",
      "10     D     3     6     2\n",
      "11     D     4     4     2\n",
      "12     E     7     4     8\n",
      "13     E     0     2     3\n",
      "14     E     4     2     0\n"
     ]
    }
   ],
   "source": [
    "df.loc[6,'index'] = np.NaN\n",
    "print(df)"
   ]
  },
  {
   "cell_type": "code",
   "execution_count": 143,
   "id": "7e4e2803",
   "metadata": {},
   "outputs": [
    {
     "name": "stdout",
     "output_type": "stream",
     "text": [
      "       col1  col2  col3\n",
      "index                  \n",
      "A         6     6     6\n",
      "B        16     6    18\n",
      "C         1     3    11\n",
      "D        16    20    10\n",
      "E        11     8    11\n",
      "       col1  col2  col3\n",
      "index                  \n",
      "A         6     6     6\n",
      "B        16     6    18\n",
      "C         1     3    11\n",
      "D        16    20    10\n",
      "E        11     8    11\n",
      "NaN       0     8     8\n"
     ]
    }
   ],
   "source": [
    "print(df.groupby('index').sum())\n",
    "#dropna=False인 경우 인덱스에 NaN이 포함되어 계산된 것을 알 수 있습니다.\n",
    "print(df.groupby('index',dropna=False).sum())"
   ]
  },
  {
   "cell_type": "markdown",
   "id": "11a108b9",
   "metadata": {},
   "source": [
    "level인수의 사용 (Multi Index)</br>\n",
    "Multi Index의 경우 level을 숫자나 str 형태로 지정해주어 groupby를 실행할 수 있습니다.</br>\n",
    "먼저 Multi Index 객체를 생성해보겠습니다.</br>"
   ]
  },
  {
   "cell_type": "code",
   "execution_count": 175,
   "id": "7e04e003",
   "metadata": {},
   "outputs": [
    {
     "name": "stdout",
     "output_type": "stream",
     "text": [
      "           col1  col2  col2\n",
      "lv0  lv1                   \n",
      "idx1 row1     4     6     0\n",
      "     row2     8     4     2\n",
      "idx2 row1     6     8     0\n",
      "     row2     2     2     0\n",
      "     row3     0     4     4\n"
     ]
    }
   ],
   "source": [
    "idx = [['idx1','idx1','idx2','idx2','idx2'],['row1','row2','row1','row2','row3']]\n",
    "col = ['col1','col2','col2']\n",
    "data = np.random.randint(0,9,(5,3))\n",
    "df = pd.DataFrame(data=data, index = idx, columns = col).rename_axis(index=['lv0','lv1'])\n",
    "print(df)"
   ]
  },
  {
   "cell_type": "code",
   "execution_count": 173,
   "id": "503a8d69",
   "metadata": {},
   "outputs": [
    {
     "name": "stdout",
     "output_type": "stream",
     "text": [
      "    index   val\n",
      "0       0   1.0\n",
      "1       1   4.0\n",
      "2       2   2.0\n",
      "3       3   3.0\n",
      "4       4   2.0\n",
      "5       5   5.0\n",
      "6       6  13.0\n",
      "7       7  10.0\n",
      "8       8  12.0\n",
      "9       9  14.0\n",
      "10     10   0.0\n",
      "11     11  16.0\n",
      "12     12  12.0\n",
      "13     13  20.0\n",
      "14     14  22.0\n"
     ]
    }
   ],
   "source": [
    "print(df.groupby(level=0).sum())\n",
    "#print(df.groupby(level=1).sum())"
   ]
  },
  {
   "cell_type": "code",
   "execution_count": 176,
   "id": "6fecba08",
   "metadata": {
    "scrolled": true
   },
   "outputs": [
    {
     "name": "stdout",
     "output_type": "stream",
     "text": [
      "           col1  col2  col2\n",
      "lv1  lv0                   \n",
      "row1 idx1     4     6     0\n",
      "     idx2     6     8     0\n",
      "row2 idx1     8     4     2\n",
      "     idx2     2     2     0\n",
      "row3 idx2     0     4     4\n"
     ]
    }
   ],
   "source": [
    "#level을 str로 지정해주는경우 + (여러개 지정시 순차적으로 groupby 됩니다.)\n",
    "print(df.groupby(['lv1','lv0']).sum())"
   ]
  },
  {
   "cell_type": "markdown",
   "id": "65eac0bc",
   "metadata": {},
   "source": [
    "DataFrame.ewm(com=None, span=None, halflife=None, alpha=None, min_periods=0, adjust=True, ignore_na=False, axis=0, times=None, method='single')\n",
    "\n",
    "기본적으로 가중치를 결정하는 요소는 alpha 로 표기되는 평활계수(감쇠계수) 입니다. com / span / halflife를 통해 자동 계산하도록 하거나, alpha를 통해 직접 설정할 수 있습니다.</br>\n",
    "\n",
    "com : 질량중심 값으로 평활계수를 계산합니다. [ a = 1(1+com) ]</br>\n",
    "span : 계산 기간으로 평활계수를 계산합니다. [ a = 2/(span+1) ]</br>\n",
    "halflife : 반감기를 이용하여 평활계수를 계산합니다. [ a= e^(-ln(2) / halflife) ]</br>\n",
    "alpha : 평활계수를 직접 입력합니다. [ 0 < a ≤ 1 ]</br>\n",
    "min_periods : 계산을위한 최소 기간입니다.</br>\n",
    "adjust : 상대적 가중치의 불균형을 해소하기위해 조정계수로 나눌지의 여부입니다. 대체로 값이 많을수록 adjust를 하는것이 유리합니다.</br>\n",
    "ignore_na : 가중치를 계산할때 누락값을 무시할지 여부 입니다.</br>\n",
    "\n",
    "[x0, None, x1] 일때, 인 경우 ignore_na = False 이면 절대위치를 기반으로 하며,\n",
    "x0와 x2의 가중치는 adjust = [ True인경우 (1-a)^2와 1 / False인 경우 (1-a)^2와 a ] 입니다.</br>\n",
    "[x0, None, x1] 일때, 인 경우 ignore_na = False 이면 절대위치를 기반으로 하며,\n",
    "x0와 x2의 가중치는 adjust = [ True인경우 (1-a)와 1 / False인 경우 (1-a)와 a ] 입니다.</br>\n",
    "\n",
    "\n",
    "axis : 계산을 수행할 축 입니다.</br>\n",
    "times : 관찰에 해당하는 시간입니다. 단조증가 형태의 datetime64[ns] 형태여야합니다.</br>\n",
    "method : {single / table} 한 줄씩 계산할지(기본값) 아니면 numba engine을 사용해서 table단위로 계산할지 정할 수 있습니다.</br>\n",
    "numba 라이브러리를 import 해야하며 사용시 ewm(method='table').mean(engine='numba') 처럼 추가 메서드에 engine 설정을 해줘야합니다.</br>"
   ]
  },
  {
   "cell_type": "code",
   "execution_count": 178,
   "id": "5bafc989",
   "metadata": {},
   "outputs": [
    {
     "name": "stdout",
     "output_type": "stream",
     "text": [
      "    index   val\n",
      "0       0   1.0\n",
      "1       1   4.0\n",
      "2       2   2.0\n",
      "3       3   3.0\n",
      "4       4   2.0\n",
      "5       5   5.0\n",
      "6       6  13.0\n",
      "7       7  10.0\n",
      "8       8  12.0\n",
      "9       9  14.0\n",
      "10     10   NaN\n",
      "11     11  16.0\n",
      "12     12  12.0\n",
      "13     13  20.0\n",
      "14     14  22.0\n",
      "    index   val        ewm\n",
      "0       0   1.0   1.000000\n",
      "1       1   4.0   2.764706\n",
      "2       2   2.0   2.415525\n",
      "3       3   3.0   2.646269\n",
      "4       4   2.0   2.413220\n",
      "5       5   5.0   3.292727\n",
      "6       6  13.0   6.466263\n",
      "7       7  10.0   7.591237\n",
      "8       8  12.0   8.969483\n",
      "9       9  14.0  10.522507\n",
      "10     10   NaN  10.522507\n",
      "11     11  16.0  12.639662\n",
      "12     12  12.0  12.412108\n",
      "13     13  20.0  14.968912\n",
      "14     14  22.0  17.253655\n"
     ]
    },
    {
     "data": {
      "image/png": "[encoded data removed]",
      "text/plain": [
       "<Figure size 432x288 with 1 Axes>"
      ]
     },
     "metadata": {
      "needs_background": "light"
     },
     "output_type": "display_data"
    }
   ],
   "source": [
    "data = {'val':[1,4,2,3,2,5,13,10,12,14,np.NaN,16,12,20,22]}\n",
    "df = pd.DataFrame(data).reset_index()\n",
    "print(df)\n",
    "\n",
    "#df.plot(kind = 'bar',x = 'index', y='val')\n",
    "df2 = df.assign(ewm=df['val'].ewm(alpha=0.3).mean()) # val열에 ewm 메서드적용 후 df에 추가\n",
    "print(df2)\n",
    "ax = df.plot(kind='bar',x='index',y='val') # ax에 df의 bar chart 생성\n",
    "ax2= df2.plot(kind='line',x='index', y='ewm', color='red', ax=ax) # ax2에 df2의 line chart 생성후 ax에 추가"
   ]
  },
  {
   "cell_type": "code",
   "execution_count": 180,
   "id": "aa499663",
   "metadata": {},
   "outputs": [
    {
     "data": {
      "image/png": "[encoded data removed]",
      "text/plain": [
       "<Figure size 432x288 with 1 Axes>"
      ]
     },
     "metadata": {
      "needs_background": "light"
     },
     "output_type": "display_data"
    }
   ],
   "source": [
    "df2 = df.assign(ewm_a_low=df['val'].ewm(alpha=0.1).mean()) #alpha=0.1로 df2 생성\n",
    "df3 = df.assign(ewm_a_high=df['val'].ewm(alpha=0.7).mean()) #alpha=0.7로 df3 생성\n",
    "ax = df.plot(kind='bar',x='index',y='val') \n",
    "ax2= df2.plot(kind='line',x='index', y='ewm_a_low', color='red', ax=ax) # alpha=0.1 은 적색\n",
    "ax3= df3.plot(kind='line',x='index', y='ewm_a_high', color='green', ax=ax) # alpha=0.7 은 녹색"
   ]
  },
  {
   "cell_type": "code",
   "execution_count": 182,
   "id": "a212a01d",
   "metadata": {},
   "outputs": [
    {
     "data": {
      "image/png": "[encoded data removed]",
      "text/plain": [
       "<Figure size 432x288 with 1 Axes>"
      ]
     },
     "metadata": {
      "needs_background": "light"
     },
     "output_type": "display_data"
    }
   ],
   "source": [
    "#span 인수의 사용\n",
    "#span은 기간을 지정하여 평활계수를 계산하는 인수입니다. 계산식은 a = 2/(span+1)으로 계산 기간이 길어질수록 a가 작아집니다.\n",
    "df2 = df.assign(span_4=df['val'].ewm(span=4).mean())\n",
    "df3 = df.assign(span_8=df['val'].ewm(span=8).mean())\n",
    "ax = df.plot(kind='bar',x='index',y='val')\n",
    "ax2= df2.plot(kind='line',x='index', y='span_4', color='red', ax=ax)\n",
    "ax3= df3.plot(kind='line',x='index', y='span_8', color='green', ax=ax)"
   ]
  },
  {
   "cell_type": "code",
   "execution_count": 186,
   "id": "94d0fbee",
   "metadata": {},
   "outputs": [
    {
     "data": {
      "image/png": "[encoded data removed]",
      "text/plain": [
       "<Figure size 432x288 with 1 Axes>"
      ]
     },
     "metadata": {
      "needs_background": "light"
     },
     "output_type": "display_data"
    }
   ],
   "source": [
    "#com 인수의 사용\n",
    "#com 은 질량중심 감쇠법으로 평활계수를 계산하는 인수입니다. 계산식은 a=1/(1+com)으로 com이 커질수록 a가 작아집니다.\n",
    "df2 = df.assign(com_2=df['val'].ewm(com=2).mean())\n",
    "df3 = df.assign(com_10=df['val'].ewm(com=10).mean())\n",
    "ax = df.plot(kind='bar',x='index',y='val')\n",
    "ax2= df2.plot(kind='line',x='index', y='com_2', color='red', ax=ax)\n",
    "ax3= df3.plot(kind='line',x='index', y='com_10', color='green', ax=ax)"
   ]
  },
  {
   "cell_type": "code",
   "execution_count": 188,
   "id": "7b865d2a",
   "metadata": {},
   "outputs": [
    {
     "data": {
      "image/png": "[encoded data removed]",
      "text/plain": [
       "<Figure size 432x288 with 1 Axes>"
      ]
     },
     "metadata": {
      "needs_background": "light"
     },
     "output_type": "display_data"
    }
   ],
   "source": [
    "#comhalflife 인수의 사용\n",
    "#halflife인수는 반감기를 이용하여 평활계수를 계산하는 인수입니다. 계산식은 a=1-e^(-ln(2)/halflife) 으로 halflife가 길어질수록 a가 작아집니다.\n",
    "df2 = df.assign(harf_2=df['val'].ewm(halflife=2).mean())\n",
    "df3 = df.assign(harf_5=df['val'].ewm(halflife=5).mean())\n",
    "ax = df.plot(kind='bar',x='index',y='val')\n",
    "ax2= df2.plot(kind='line',x='index', y='harf_2', color='red', ax=ax)\n",
    "ax3= df3.plot(kind='line',x='index', y='harf_5', color='green', ax=ax)"
   ]
  },
  {
   "cell_type": "code",
   "execution_count": 190,
   "id": "4e794960",
   "metadata": {},
   "outputs": [
    {
     "data": {
      "image/png": "[encoded data removed]",
      "text/plain": [
       "<Figure size 432x288 with 1 Axes>"
      ]
     },
     "metadata": {
      "needs_background": "light"
     },
     "output_type": "display_data"
    }
   ],
   "source": [
    "#comadjust인수의 사용\n",
    "#상대적 가중치의 불균형을 해소하기위해 조정계수로 나눌지의 여부입니다. 대체로 값이 많을수록 adjust를 하는것이 유리합니다.\n",
    "df2 = df.assign(adj_True=df['val'].ewm(alpha=0.2,adjust=True).mean())\n",
    "df3 = df.assign(adj_False=df['val'].ewm(alpha=0.2,adjust=False).mean())\n",
    "ax = df.plot(kind='bar',x='index',y='val')\n",
    "ax2= df2.plot(kind='line',x='index', y='adj_True', color='red', ax=ax)\n",
    "ax3= df3.plot(kind='line',x='index', y='adj_False', color='green', ax=ax)"
   ]
  },
  {
   "cell_type": "markdown",
   "id": "25845f63",
   "metadata": {},
   "source": [
    "comadjust인수의ignore_na인수의 사용\n",
    "ignore_na는 결측치가 존재할 경우 가중치를 어떻게 설정할지 정하는 인수 입니다.\n",
    "\n",
    "[x0, None, x1] 일때, 인 경우 ignore_na = False 이면 절대위치를 기반으로 하며,\n",
    "x0와 x2의 가중치는 adjust = [ True인경우 (1-a)^2와 1 / False인 경우 (1-a)^2와 a ] 입니다.\n",
    "[x0, None, x1] 일때, 인 경우 ignore_na = False 이면 절대위치를 기반으로 하며,\n",
    "x0와 x2의 가중치는 adjust = [ True인경우 (1-a)와 1 / False인 경우 (1-a)와 a ] 입니다."
   ]
  },
  {
   "cell_type": "code",
   "execution_count": 193,
   "id": "04aa2530",
   "metadata": {},
   "outputs": [
    {
     "data": {
      "image/png": "[encoded data removed]",
      "text/plain": [
       "<Figure size 432x288 with 1 Axes>"
      ]
     },
     "metadata": {
      "needs_background": "light"
     },
     "output_type": "display_data"
    }
   ],
   "source": [
    "df2 = df.assign(ignore_na_True=df['val'].ewm(alpha=0.2,ignore_na=True).mean())\n",
    "df3 = df.assign(ignore_na_False=df['val'].ewm(alpha=0.2,ignore_na=False).mean())\n",
    "ax = df.plot(kind='bar',x='index',y='val')\n",
    "ax2= df2.plot(kind='line',x='index', y='ignore_na_True', color='red', ax=ax)\n",
    "ax3= df3.plot(kind='line',x='index', y='ignore_na_False', color='green', ax=ax)"
   ]
  },
  {
   "cell_type": "markdown",
   "id": "f1461928",
   "metadata": {},
   "source": [
    "method 인수의 사용\n",
    "\n",
    "method인수는 single인 경우 한줄씩, table인 경우 전체 테이블을 한번에 계산합니다. 데이터가 많을수록 method='table'이 속도에서 유리합니다.</br>\n",
    "사용시 추가 메서드에서 engine='numba' 형태로 설정을 해주어야 합니다.</br>"
   ]
  },
  {
   "cell_type": "code",
   "execution_count": 203,
   "id": "c1d8e183",
   "metadata": {},
   "outputs": [
    {
     "name": "stdout",
     "output_type": "stream",
     "text": [
      "Help on method ewm in module pandas.core.generic:\n",
      "\n",
      "ewm(com: 'float | None' = None, span: 'float | None' = None, halflife: 'float | TimedeltaConvertibleTypes | None' = None, alpha: 'float | None' = None, min_periods: 'int | None' = 0, adjust: 'bool_t' = True, ignore_na: 'bool_t' = False, axis: 'Axis' = 0, times: 'str | np.ndarray | FrameOrSeries | None' = None) -> 'ExponentialMovingWindow' method of pandas.core.frame.DataFrame instance\n",
      "    Provide exponential weighted (EW) functions.\n",
      "    \n",
      "    Available EW functions: ``mean()``, ``var()``, ``std()``, ``corr()``, ``cov()``.\n",
      "    \n",
      "    Exactly one parameter: ``com``, ``span``, ``halflife``, or ``alpha`` must be\n",
      "    provided.\n",
      "    \n",
      "    Parameters\n",
      "    ----------\n",
      "    com : float, optional\n",
      "        Specify decay in terms of center of mass,\n",
      "        :math:`\\alpha = 1 / (1 + com)`, for :math:`com \\geq 0`.\n",
      "    span : float, optional\n",
      "        Specify decay in terms of span,\n",
      "        :math:`\\alpha = 2 / (span + 1)`, for :math:`span \\geq 1`.\n",
      "    halflife : float, str, timedelta, optional\n",
      "        Specify decay in terms of half-life,\n",
      "        :math:`\\alpha = 1 - \\exp\\left(-\\ln(2) / halflife\\right)`, for\n",
      "        :math:`halflife > 0`.\n",
      "    \n",
      "        If ``times`` is specified, the time unit (str or timedelta) over which an\n",
      "        observation decays to half its value. Only applicable to ``mean()``\n",
      "        and halflife value will not apply to the other functions.\n",
      "    \n",
      "        .. versionadded:: 1.1.0\n",
      "    \n",
      "    alpha : float, optional\n",
      "        Specify smoothing factor :math:`\\alpha` directly,\n",
      "        :math:`0 < \\alpha \\leq 1`.\n",
      "    min_periods : int, default 0\n",
      "        Minimum number of observations in window required to have a value\n",
      "        (otherwise result is NA).\n",
      "    adjust : bool, default True\n",
      "        Divide by decaying adjustment factor in beginning periods to account\n",
      "        for imbalance in relative weightings (viewing EWMA as a moving average).\n",
      "    \n",
      "        - When ``adjust=True`` (default), the EW function is calculated using weights\n",
      "          :math:`w_i = (1 - \\alpha)^i`. For example, the EW moving average of the series\n",
      "          [:math:`x_0, x_1, ..., x_t`] would be:\n",
      "    \n",
      "        .. math::\n",
      "            y_t = \\frac{x_t + (1 - \\alpha)x_{t-1} + (1 - \\alpha)^2 x_{t-2} + ... + (1 -\n",
      "            \\alpha)^t x_0}{1 + (1 - \\alpha) + (1 - \\alpha)^2 + ... + (1 - \\alpha)^t}\n",
      "    \n",
      "        - When ``adjust=False``, the exponentially weighted function is calculated\n",
      "          recursively:\n",
      "    \n",
      "        .. math::\n",
      "            \\begin{split}\n",
      "                y_0 &= x_0\\\\\n",
      "                y_t &= (1 - \\alpha) y_{t-1} + \\alpha x_t,\n",
      "            \\end{split}\n",
      "    ignore_na : bool, default False\n",
      "        Ignore missing values when calculating weights; specify ``True`` to reproduce\n",
      "        pre-0.15.0 behavior.\n",
      "    \n",
      "        - When ``ignore_na=False`` (default), weights are based on absolute positions.\n",
      "          For example, the weights of :math:`x_0` and :math:`x_2` used in calculating\n",
      "          the final weighted average of [:math:`x_0`, None, :math:`x_2`] are\n",
      "          :math:`(1-\\alpha)^2` and :math:`1` if ``adjust=True``, and\n",
      "          :math:`(1-\\alpha)^2` and :math:`\\alpha` if ``adjust=False``.\n",
      "    \n",
      "        - When ``ignore_na=True`` (reproducing pre-0.15.0 behavior), weights are based\n",
      "          on relative positions. For example, the weights of :math:`x_0` and :math:`x_2`\n",
      "          used in calculating the final weighted average of\n",
      "          [:math:`x_0`, None, :math:`x_2`] are :math:`1-\\alpha` and :math:`1` if\n",
      "          ``adjust=True``, and :math:`1-\\alpha` and :math:`\\alpha` if ``adjust=False``.\n",
      "    axis : {0, 1}, default 0\n",
      "        The axis to use. The value 0 identifies the rows, and 1\n",
      "        identifies the columns.\n",
      "    times : str, np.ndarray, Series, default None\n",
      "    \n",
      "        .. versionadded:: 1.1.0\n",
      "    \n",
      "        Times corresponding to the observations. Must be monotonically increasing and\n",
      "        ``datetime64[ns]`` dtype.\n",
      "    \n",
      "        If str, the name of the column in the DataFrame representing the times.\n",
      "    \n",
      "        If 1-D array like, a sequence with the same shape as the observations.\n",
      "    \n",
      "        Only applicable to ``mean()``.\n",
      "    \n",
      "    Returns\n",
      "    -------\n",
      "    DataFrame\n",
      "        A Window sub-classed for the particular operation.\n",
      "    \n",
      "    See Also\n",
      "    --------\n",
      "    rolling : Provides rolling window calculations.\n",
      "    expanding : Provides expanding transformations.\n",
      "    \n",
      "    Notes\n",
      "    -----\n",
      "    \n",
      "    More details can be found at:\n",
      "    :ref:`Exponentially weighted windows <window.exponentially_weighted>`.\n",
      "    \n",
      "    Examples\n",
      "    --------\n",
      "    >>> df = pd.DataFrame({'B': [0, 1, 2, np.nan, 4]})\n",
      "    >>> df\n",
      "         B\n",
      "    0  0.0\n",
      "    1  1.0\n",
      "    2  2.0\n",
      "    3  NaN\n",
      "    4  4.0\n",
      "    \n",
      "    >>> df.ewm(com=0.5).mean()\n",
      "              B\n",
      "    0  0.000000\n",
      "    1  0.750000\n",
      "    2  1.615385\n",
      "    3  1.615385\n",
      "    4  3.670213\n",
      "    \n",
      "    Specifying ``times`` with a timedelta ``halflife`` when computing mean.\n",
      "    \n",
      "    >>> times = ['2020-01-01', '2020-01-03', '2020-01-10', '2020-01-15', '2020-01-17']\n",
      "    >>> df.ewm(halflife='4 days', times=pd.DatetimeIndex(times)).mean()\n",
      "              B\n",
      "    0  0.000000\n",
      "    1  0.585786\n",
      "    2  1.523889\n",
      "    3  1.523889\n",
      "    4  3.233686\n",
      "\n"
     ]
    }
   ],
   "source": [
    "help(df.ewm)"
   ]
  }
 ],
 "metadata": {
  "kernelspec": {
   "display_name": "Python 3 (ipykernel)",
   "language": "python",
   "name": "python3"
  },
  "language_info": {
   "codemirror_mode": {
    "name": "ipython",
    "version": 3
   },
   "file_extension": ".py",
   "mimetype": "text/x-python",
   "name": "python",
   "nbconvert_exporter": "python",
   "pygments_lexer": "ipython3",
   "version": "3.9.5"
  }
 },
 "nbformat": 4,
 "nbformat_minor": 5
}
