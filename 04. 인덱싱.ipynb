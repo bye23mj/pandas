{
 "cells": [
  {
   "cell_type": "markdown",
   "id": "31b1e22a",
   "metadata": {},
   "source": [
    "### 04-01. 레이블기반_스칼라 (at)"
   ]
  },
  {
   "cell_type": "markdown",
   "id": "e20ef122",
   "metadata": {},
   "source": [
    "DataFrame.at\n",
    "\n",
    "at 함수는 loc 함수와 같이 레이블 기반으로 인덱싱을 하지만,</br>\n",
    "DataFrame과 Series에 상관없이 하나의 스칼라값에 접근한다는 차이가 존재합니다.</br>"
   ]
  },
  {
   "cell_type": "markdown",
   "id": "ad977333",
   "metadata": {},
   "source": [
    "행/열 한쌍에 대한 단일 값에 엑세스합니다.</br>\n",
    "\n",
    "\n",
    "값 가져오기 : result = df.at['행', '열'] </br>\n",
    "값 설정하기 : df.at['행', '열'] = value </br>"
   ]
  },
  {
   "cell_type": "code",
   "execution_count": 3,
   "id": "fc7eab1e",
   "metadata": {},
   "outputs": [
    {
     "name": "stdout",
     "output_type": "stream",
     "text": [
      "      col1  col2\n",
      "row1     1     2\n",
      "row2     3     4\n"
     ]
    }
   ],
   "source": [
    "import pandas as pd\n",
    "df = pd.DataFrame([[1,2], [3,4]], index=['row1', 'row2'], columns=['col1', 'col2'])\n",
    "print(df)"
   ]
  },
  {
   "cell_type": "code",
   "execution_count": 8,
   "id": "95a229dc",
   "metadata": {},
   "outputs": [
    {
     "name": "stdout",
     "output_type": "stream",
     "text": [
      "2\n"
     ]
    }
   ],
   "source": [
    "result = df.at['row1', 'col2']\n",
    "print(result)"
   ]
  },
  {
   "cell_type": "code",
   "execution_count": 10,
   "id": "bb630b99",
   "metadata": {},
   "outputs": [
    {
     "name": "stdout",
     "output_type": "stream",
     "text": [
      "      col1  col2\n",
      "row1     1     2\n",
      "row2     1     4\n"
     ]
    }
   ],
   "source": [
    "df.at['row2', 'col1'] = '1'\n",
    "print(df)"
   ]
  },
  {
   "cell_type": "code",
   "execution_count": 14,
   "id": "002d00a7",
   "metadata": {},
   "outputs": [
    {
     "data": {
      "text/plain": [
       "4"
      ]
     },
     "execution_count": 14,
     "metadata": {},
     "output_type": "execute_result"
    }
   ],
   "source": [
    "df.loc['row2'].at['col2']"
   ]
  },
  {
   "cell_type": "markdown",
   "id": "478546d4",
   "metadata": {},
   "source": [
    "### 04-02. 레이블기반_데이터 (loc)"
   ]
  },
  {
   "cell_type": "markdown",
   "id": "51a608cd",
   "metadata": {},
   "source": [
    "DataFrame.loc\n",
    "loc 함수는 at 함수와 같이 레이블 기반으로 인덱싱을 합니다. DataFrame이나 Series형식으로의 반환이 필요하면 loc를 사용합니다.</br>\n",
    "\n",
    "기본 사용법</br>\n",
    "값 가져오기 : result = df.loc['행', '열']</br>\n",
    "값 설정하기 : df.loc['행', '열'] = value</br>\n",
    "\n",
    "입력 가능한 Input</br>\n",
    "1. 레이블 (만약 3을 입력할 경우 정수위치가 아닌 index의 레이블로 해석</br>\n",
    "2. list 객체 (예 : ['a', 'b', 'c'])</br>\n",
    "3. 레이블의 슬라이스 객체 (예 : 'b' : 'f')</br>\n",
    "4. 슬라이싱되는 축과 길이가 같은 bool 배열 (예 : [True, True, False, True])</br>"
   ]
  },
  {
   "cell_type": "code",
   "execution_count": 72,
   "id": "73073127",
   "metadata": {},
   "outputs": [
    {
     "name": "stdout",
     "output_type": "stream",
     "text": [
      "      col1  col2  col3\n",
      "row1     1     2     3\n",
      "row2     4     5     6\n",
      "row3     7     8     9\n"
     ]
    }
   ],
   "source": [
    "df = pd.DataFrame([[1,2,3], [4,5,6], [7,8,9]], index=['row1', 'row2', 'row3'], columns=['col1', 'col2', 'col3'])\n",
    "print(df)"
   ]
  },
  {
   "cell_type": "code",
   "execution_count": 20,
   "id": "263328e2",
   "metadata": {},
   "outputs": [
    {
     "name": "stdout",
     "output_type": "stream",
     "text": [
      "col1    1\n",
      "col2    2\n",
      "col3    3\n",
      "Name: row1, dtype: int64\n"
     ]
    }
   ],
   "source": [
    "#단일 레이블을 지정할경우 Series 형태로 반환됩니다.\n",
    "result = df.loc['row1']\n",
    "print(result)"
   ]
  },
  {
   "cell_type": "code",
   "execution_count": 28,
   "id": "f20f64f6",
   "metadata": {},
   "outputs": [
    {
     "name": "stdout",
     "output_type": "stream",
     "text": [
      "      col1  col2  col3\n",
      "row1     1     2     3\n",
      "row3     7     8     9\n"
     ]
    }
   ],
   "source": [
    "#레이블로 구성된 리스트. [ [ ] ]를 사용하면 DataFrame형태로 반환됩니다.\n",
    "result = df.loc[ ['row1','row3'] ]\n",
    "print(result)"
   ]
  },
  {
   "cell_type": "code",
   "execution_count": 27,
   "id": "6268fe9d",
   "metadata": {},
   "outputs": [
    {
     "name": "stdout",
     "output_type": "stream",
     "text": [
      "5\n"
     ]
    }
   ],
   "source": [
    "result = df.loc['row2', 'col2']\n",
    "print(result)"
   ]
  },
  {
   "cell_type": "code",
   "execution_count": 35,
   "id": "88c594b1",
   "metadata": {},
   "outputs": [
    {
     "name": "stdout",
     "output_type": "stream",
     "text": [
      "row1    1\n",
      "row2    4\n",
      "Name: col1, dtype: int64\n"
     ]
    }
   ],
   "source": [
    "result = df.loc['row1' : 'row2', 'col1']\n",
    "print(result)"
   ]
  },
  {
   "cell_type": "code",
   "execution_count": 39,
   "id": "da25ac0b",
   "metadata": {},
   "outputs": [
    {
     "name": "stdout",
     "output_type": "stream",
     "text": [
      "      col1  col2  col3\n",
      "row1     1     2     3\n",
      "row2     4     5     6\n"
     ]
    }
   ],
   "source": [
    "#bool로 구성된 list를 이용하여 인덱싱을 할 수 있습니다.\n",
    "bool = [True, True, False] # row2에 대응되는 값만 True\n",
    "result = df.loc[bool] \n",
    "print(result)"
   ]
  },
  {
   "cell_type": "code",
   "execution_count": 41,
   "id": "b2b33b21",
   "metadata": {},
   "outputs": [
    {
     "name": "stdout",
     "output_type": "stream",
     "text": [
      "      col1  col2  col3\n",
      "row2     4     5     6\n",
      "row3     7     8     9\n"
     ]
    }
   ],
   "source": [
    "result = df.loc[ df['col3'] > 5 ]\n",
    "print(result)"
   ]
  },
  {
   "cell_type": "code",
   "execution_count": 42,
   "id": "09d6c5fd",
   "metadata": {},
   "outputs": [
    {
     "name": "stdout",
     "output_type": "stream",
     "text": [
      "      col2\n",
      "row2     5\n",
      "row3     8\n"
     ]
    }
   ],
   "source": [
    "result = df.loc[ df['col3'] > 5, ['col2'] ] \n",
    "print(result)"
   ]
  },
  {
   "cell_type": "code",
   "execution_count": 44,
   "id": "06bfdfb0",
   "metadata": {},
   "outputs": [
    {
     "name": "stdout",
     "output_type": "stream",
     "text": [
      "      col1  col2  col3\n",
      "row2     4     5     6\n"
     ]
    }
   ],
   "source": [
    "#람다함수를 이용하여 인덱싱이 가능합니다. 아래의 경우 col2의 값중 5인 값을 만족하는 행을 반환합니다.\n",
    "result = df.loc[lambda df : df['col2'] == 5]\n",
    "print(result)"
   ]
  },
  {
   "cell_type": "code",
   "execution_count": 46,
   "id": "fd570802",
   "metadata": {},
   "outputs": [
    {
     "name": "stdout",
     "output_type": "stream",
     "text": [
      "      col1  col2 col3\n",
      "row1     1     2    A\n",
      "row2     4     5    6\n",
      "row3     7     8    A\n"
     ]
    }
   ],
   "source": [
    "df.loc[ ['row1', 'row3'], ['col3'] ] = 'A'\n",
    "print(df)"
   ]
  },
  {
   "cell_type": "code",
   "execution_count": 69,
   "id": "e70ba423",
   "metadata": {},
   "outputs": [
    {
     "name": "stdout",
     "output_type": "stream",
     "text": [
      "     col1 col2 col3\n",
      "row1    A    A    A\n",
      "row2    A    A    A\n",
      "row3    A    A    A\n"
     ]
    }
   ],
   "source": [
    "df.loc[ ['row1'] ] = 'A' # 행을 변경할 경우\n",
    "print(df)"
   ]
  },
  {
   "cell_type": "code",
   "execution_count": 51,
   "id": "3c6bfc8a",
   "metadata": {},
   "outputs": [
    {
     "name": "stdout",
     "output_type": "stream",
     "text": [
      "     col1 col2 col3\n",
      "row1    A    A    B\n",
      "row2    4    5    B\n",
      "row3    7    8    B\n"
     ]
    }
   ],
   "source": [
    "df.loc[ : , ['col3'] ] = 'B' # 열을 변경할 경우 행을 전체선택 ( : ) 해줍니다.\n",
    "print(df)"
   ]
  },
  {
   "cell_type": "code",
   "execution_count": 73,
   "id": "b07a96db",
   "metadata": {},
   "outputs": [],
   "source": [
    "df.loc[df['col2'] > 3] = 'A'"
   ]
  },
  {
   "cell_type": "code",
   "execution_count": 75,
   "id": "5d38eb7d",
   "metadata": {},
   "outputs": [
    {
     "name": "stdout",
     "output_type": "stream",
     "text": [
      "     col1 col2 col3\n",
      "row1    1    2    3\n",
      "row2    A    A    A\n",
      "row3    A    A    A\n"
     ]
    }
   ],
   "source": [
    "print(df)"
   ]
  },
  {
   "cell_type": "markdown",
   "id": "b04d9c53",
   "metadata": {},
   "source": [
    "### 04-03. 정수기반_스칼라 (iat)"
   ]
  },
  {
   "cell_type": "markdown",
   "id": "645e4356",
   "metadata": {},
   "source": [
    "DataFrame.iat</br>\n",
    "iat 함수는 iloc 함수와 같이 정수 기반으로 인덱싱을 합니다.</br>\n",
    "단일 스칼라값으로 반환하길 원한다면 iat함수를 사용합니다.</br>\n",
    "\n",
    "기본 사용법</br>\n",
    "값 가져오기 : result = df.iat['행', '열']</br>\n",
    "값 설정하기 : df.iat['행', '열'] = value</br>"
   ]
  },
  {
   "cell_type": "code",
   "execution_count": 81,
   "id": "9ddc0748",
   "metadata": {},
   "outputs": [
    {
     "name": "stdout",
     "output_type": "stream",
     "text": [
      "      col1  col2  col3\n",
      "row1     1     2     3\n",
      "row2     4     5     6\n",
      "row3     7     8     9\n"
     ]
    }
   ],
   "source": [
    "df = pd.DataFrame([[1,2,3], [4,5,6], [7,8,9]], index=['row1', 'row2', 'row3'], columns=['col1', 'col2', 'col3'])\n",
    "print(df)"
   ]
  },
  {
   "cell_type": "code",
   "execution_count": 85,
   "id": "66b23d63",
   "metadata": {},
   "outputs": [
    {
     "name": "stdout",
     "output_type": "stream",
     "text": [
      "1\n"
     ]
    }
   ],
   "source": [
    "result = df.iat[0,0]\n",
    "print(result)"
   ]
  },
  {
   "cell_type": "code",
   "execution_count": 86,
   "id": "4e040037",
   "metadata": {
    "scrolled": true
   },
   "outputs": [
    {
     "name": "stdout",
     "output_type": "stream",
     "text": [
      "      col1  col2 col3\n",
      "row1     1     2    3\n",
      "row2     4     5    A\n",
      "row3     7     8    9\n"
     ]
    }
   ],
   "source": [
    "df.iat[1,2] = 'A'\n",
    "print(df)"
   ]
  },
  {
   "cell_type": "markdown",
   "id": "f79c2fc6",
   "metadata": {},
   "source": [
    "### 04-04. 정수기반_데이터 (iloc)"
   ]
  },
  {
   "cell_type": "markdown",
   "id": "55e68b34",
   "metadata": {},
   "source": [
    "DataFrame.iloc</br>\n",
    "iloc 함수는 iat 함수와 같이 정수 기반으로 인덱싱을 합니다.</br>\n",
    "DataFrame이나 Series형식으로의 반환이 필요하면 iloc를 사용합니다.</br>\n",
    "\n",
    "기본 사용법</br>\n",
    "값 가져오기 : result = df.iloc['행', '열']</br>\n",
    "값 설정하기 : df.iloc['행', '열'] = value</br>\n",
    "\n",
    "가능한 Input</br>\n",
    "1. 단일 정수값 (예 : 5)</br>\n",
    "2. 정수로 이루어진 list (예 : [3, 5, 1])</br>\n",
    "3. 정수 슬라이스 객체 (예 : 2:5 )</br>\n",
    "4. bool 배열</br>"
   ]
  },
  {
   "cell_type": "code",
   "execution_count": 105,
   "id": "a585ab0f",
   "metadata": {},
   "outputs": [
    {
     "name": "stdout",
     "output_type": "stream",
     "text": [
      "      col1  col2  col3\n",
      "row1     1     2     3\n",
      "row2     4     5     6\n",
      "row3     7     8     9\n",
      "row4     2     5     6\n"
     ]
    }
   ],
   "source": [
    "df = pd.DataFrame([[1,2,3], [4,5,6], [7,8,9],[2,5,6]], index=['row1', 'row2', 'row3','row4'], columns=['col1', 'col2', 'col3'])\n",
    "print(df)"
   ]
  },
  {
   "cell_type": "code",
   "execution_count": 89,
   "id": "62b27a6b",
   "metadata": {},
   "outputs": [
    {
     "name": "stdout",
     "output_type": "stream",
     "text": [
      "col1    1\n",
      "col2    2\n",
      "col3    3\n",
      "Name: row1, dtype: int64\n"
     ]
    }
   ],
   "source": [
    "result= df.iloc[0]\n",
    "print(result)"
   ]
  },
  {
   "cell_type": "code",
   "execution_count": 91,
   "id": "a7280d69",
   "metadata": {},
   "outputs": [
    {
     "name": "stdout",
     "output_type": "stream",
     "text": [
      "      col1  col2  col3\n",
      "row1     1     2     3\n",
      "row3     7     8     9\n"
     ]
    }
   ],
   "source": [
    "result= df.iloc[[0,2]]\n",
    "print(result)"
   ]
  },
  {
   "cell_type": "code",
   "execution_count": 102,
   "id": "7970da62",
   "metadata": {},
   "outputs": [
    {
     "name": "stdout",
     "output_type": "stream",
     "text": [
      "      col1  col2  col3\n",
      "row3     7     8     9\n",
      "row4     2     5     6\n"
     ]
    }
   ],
   "source": [
    "#끝 인덱스는 가져오려는 범위에 포함되지 않습니다.\n",
    "result= df.iloc[2:4]# 2~3\n",
    "print(result)"
   ]
  },
  {
   "cell_type": "code",
   "execution_count": 106,
   "id": "e15a7141",
   "metadata": {},
   "outputs": [
    {
     "name": "stdout",
     "output_type": "stream",
     "text": [
      "      col1  col2  col3\n",
      "row1     1     2     3\n",
      "row3     7     8     9\n"
     ]
    }
   ],
   "source": [
    "bool_list = [True, False, True, False]\n",
    "result= df.iloc[bool_list]\n",
    "print(result)"
   ]
  },
  {
   "cell_type": "markdown",
   "id": "4eb408a2",
   "metadata": {},
   "source": [
    "### 04-05. 앞에서 n행 인덱싱 (head)"
   ]
  },
  {
   "cell_type": "markdown",
   "id": "5fbd221f",
   "metadata": {},
   "source": [
    "DataFrame.head(n=5)</br>\n",
    "\n",
    "head함수는 Dataframe 객체를 위에서부터 n열 반환하는 함수입니다.</br>\n",
    "기본값은 5입니다.</br>\n",
    "\n",
    "기본 사용법</br>\n",
    "df.head(n=5)</br>"
   ]
  },
  {
   "cell_type": "code",
   "execution_count": 110,
   "id": "48ad2f24",
   "metadata": {},
   "outputs": [
    {
     "name": "stdout",
     "output_type": "stream",
     "text": [
      "   0  1  2  3  4  5  6  7  8  9\n",
      "0  0  5  9  3  4  1  8  3  9  2\n",
      "1  9  1  4  6  1  1  6  9  7  8\n",
      "2  1  2  6  2  0  5  6  1  5  3\n",
      "3  3  5  7  5  2  4  6  7  1  1\n",
      "4  2  0  1  7  9  9  7  1  7  3\n",
      "5  5  2  9  4  9  8  2  9  5  7\n",
      "6  2  7  0  3  0  8  6  0  2  1\n",
      "7  8  9  9  1  6  8  3  9  8  1\n",
      "8  5  8  8  7  2  3  2  6  9  8\n",
      "9  8  2  3  0  8  7  0  5  0  7\n"
     ]
    }
   ],
   "source": [
    "import numpy as np\n",
    "\n",
    "data = np.random.randint(10,size=(10,10))\n",
    "df = pd.DataFrame(data=data)\n",
    "print(df)"
   ]
  },
  {
   "cell_type": "code",
   "execution_count": 111,
   "id": "8a93e516",
   "metadata": {},
   "outputs": [
    {
     "name": "stdout",
     "output_type": "stream",
     "text": [
      "   0  1  2  3  4  5  6  7  8  9\n",
      "0  0  5  9  3  4  1  8  3  9  2\n",
      "1  9  1  4  6  1  1  6  9  7  8\n",
      "2  1  2  6  2  0  5  6  1  5  3\n"
     ]
    }
   ],
   "source": [
    "print(df.head(3))"
   ]
  },
  {
   "cell_type": "code",
   "execution_count": 113,
   "id": "76082362",
   "metadata": {},
   "outputs": [
    {
     "name": "stdout",
     "output_type": "stream",
     "text": [
      "   0  1  2  3  4  5  6  7  8  9\n",
      "0  0  5  9  3  4  1  8  3  9  2\n",
      "1  9  1  4  6  1  1  6  9  7  8\n",
      "2  1  2  6  2  0  5  6  1  5  3\n",
      "3  3  5  7  5  2  4  6  7  1  1\n",
      "4  2  0  1  7  9  9  7  1  7  3\n",
      "5  5  2  9  4  9  8  2  9  5  7\n",
      "6  2  7  0  3  0  8  6  0  2  1\n"
     ]
    }
   ],
   "source": [
    "#n=음수 n이 0보다 작으면 DataFrame의 끝에서부터 n개열을 제외하고 반환합니다.\n",
    "print(df.head(-3))"
   ]
  },
  {
   "cell_type": "code",
   "execution_count": 116,
   "id": "bb9ad9c8",
   "metadata": {},
   "outputs": [
    {
     "name": "stdout",
     "output_type": "stream",
     "text": [
      "RangeIndex(start=0, stop=3, step=1)\n"
     ]
    }
   ],
   "source": [
    "check = df.head(3)\n",
    "print(check.index)"
   ]
  },
  {
   "cell_type": "markdown",
   "id": "5ff046a6",
   "metadata": {},
   "source": [
    "### 04-06. 뒤에서 n행 인덱싱 (tail)"
   ]
  },
  {
   "cell_type": "markdown",
   "id": "2d6da0d9",
   "metadata": {},
   "source": [
    "DataFrame.head(n=5)</br>\n",
    "\n",
    "tail함수는 Dataframe 객체를 아래에서부터 n열 반환하는 함수이다.</br>\n",
    "기본값은 5이다.</br>\n",
    "\n",
    "기본 사용법</br>\n",
    "df.tail(n=5)</br>"
   ]
  },
  {
   "cell_type": "code",
   "execution_count": 117,
   "id": "957615ea",
   "metadata": {},
   "outputs": [
    {
     "name": "stdout",
     "output_type": "stream",
     "text": [
      "   0  1  2  3  4  5  6  7  8  9\n",
      "0  1  3  4  9  7  8  0  8  9  6\n",
      "1  7  7  9  1  3  8  1  3  5  2\n",
      "2  4  2  3  5  4  5  2  2  8  7\n",
      "3  3  6  9  8  4  2  5  3  2  0\n",
      "4  5  4  0  9  1  4  7  4  7  1\n",
      "5  5  7  0  1  4  3  6  6  5  7\n",
      "6  4  5  1  9  2  2  3  6  0  4\n",
      "7  9  8  9  1  4  5  9  6  2  8\n",
      "8  2  8  1  3  7  8  4  1  8  1\n",
      "9  5  3  9  0  9  6  8  1  6  7\n"
     ]
    }
   ],
   "source": [
    "data = np.random.randint(10,size=(10,10))\n",
    "df = pd.DataFrame(data=data)\n",
    "print(df)"
   ]
  },
  {
   "cell_type": "code",
   "execution_count": 118,
   "id": "4bf83204",
   "metadata": {},
   "outputs": [
    {
     "name": "stdout",
     "output_type": "stream",
     "text": [
      "   0  1  2  3  4  5  6  7  8  9\n",
      "7  9  8  9  1  4  5  9  6  2  8\n",
      "8  2  8  1  3  7  8  4  1  8  1\n",
      "9  5  3  9  0  9  6  8  1  6  7\n"
     ]
    }
   ],
   "source": [
    "print(df.tail(3))"
   ]
  },
  {
   "cell_type": "code",
   "execution_count": 119,
   "id": "0a441ace",
   "metadata": {},
   "outputs": [
    {
     "name": "stdout",
     "output_type": "stream",
     "text": [
      "   0  1  2  3  4  5  6  7  8  9\n",
      "3  3  6  9  8  4  2  5  3  2  0\n",
      "4  5  4  0  9  1  4  7  4  7  1\n",
      "5  5  7  0  1  4  3  6  6  5  7\n",
      "6  4  5  1  9  2  2  3  6  0  4\n",
      "7  9  8  9  1  4  5  9  6  2  8\n",
      "8  2  8  1  3  7  8  4  1  8  1\n",
      "9  5  3  9  0  9  6  8  1  6  7\n"
     ]
    }
   ],
   "source": [
    "print(df.tail(-3))"
   ]
  },
  {
   "cell_type": "code",
   "execution_count": 121,
   "id": "50573e09",
   "metadata": {},
   "outputs": [
    {
     "name": "stdout",
     "output_type": "stream",
     "text": [
      "RangeIndex(start=7, stop=10, step=1)\n"
     ]
    }
   ],
   "source": [
    "check = df.tail(3)\n",
    "print(check.index)"
   ]
  },
  {
   "cell_type": "markdown",
   "id": "f9656e48",
   "metadata": {},
   "source": [
    "### 04-07. Multi Index의 경우"
   ]
  },
  {
   "cell_type": "code",
   "execution_count": 122,
   "id": "bfba11be",
   "metadata": {},
   "outputs": [
    {
     "name": "stdout",
     "output_type": "stream",
     "text": [
      "           col1  col2  col3\n",
      "row1 val1     1     2     3\n",
      "     val2     4     5     6\n",
      "row2 val1     7     8     9\n",
      "     val2    10    11    12\n",
      "     val3    13    14    15\n",
      "row3 val2    16    17    18\n",
      "     val3    19    20    21\n"
     ]
    }
   ],
   "source": [
    "index_tuples = [('row1', 'val1'), ('row1', 'val2'), ('row2', 'val1'), ('row2', 'val2'), ('row2', 'val3'), ('row3', 'val2'),('row3', 'val3')]\n",
    "values = [ [1,2,3], [4,5,6], [7,8,9], [10,11,12], [13,14,15], [16,17,18], [19,20,21]]\n",
    "index = pd.MultiIndex.from_tuples(index_tuples) # 인덱스 설정\n",
    "df = pd.DataFrame(values, columns=['col1', 'col2', 'col3'], index = index)\n",
    "print(df)"
   ]
  },
  {
   "cell_type": "code",
   "execution_count": 125,
   "id": "0405e253",
   "metadata": {},
   "outputs": [
    {
     "name": "stdout",
     "output_type": "stream",
     "text": [
      "      col1  col2  col3\n",
      "val1     7     8     9\n",
      "val2    10    11    12\n",
      "val3    13    14    15\n"
     ]
    }
   ],
   "source": [
    "result = df.loc['row2']\n",
    "print(result)"
   ]
  },
  {
   "cell_type": "code",
   "execution_count": 126,
   "id": "75ba3ad9",
   "metadata": {},
   "outputs": [
    {
     "name": "stdout",
     "output_type": "stream",
     "text": [
      "col1    10\n",
      "col2    11\n",
      "col3    12\n",
      "Name: (row2, val2), dtype: int64\n"
     ]
    }
   ],
   "source": [
    "result = df.loc[('row2','val2')]\n",
    "print(result)"
   ]
  },
  {
   "cell_type": "code",
   "execution_count": 128,
   "id": "8755455c",
   "metadata": {},
   "outputs": [
    {
     "name": "stdout",
     "output_type": "stream",
     "text": [
      "           col1  col2  col3\n",
      "row2 val2    10    11    12\n"
     ]
    }
   ],
   "source": [
    "result = df.loc[[('row2','val2')]]\n",
    "print(result)"
   ]
  },
  {
   "cell_type": "code",
   "execution_count": 129,
   "id": "dda7fe0d",
   "metadata": {},
   "outputs": [
    {
     "name": "stdout",
     "output_type": "stream",
     "text": [
      "12\n"
     ]
    }
   ],
   "source": [
    "result = df.loc[('row2','val2'), 'col3']\n",
    "print(result)"
   ]
  },
  {
   "cell_type": "code",
   "execution_count": 130,
   "id": "35a6238e",
   "metadata": {},
   "outputs": [
    {
     "name": "stdout",
     "output_type": "stream",
     "text": [
      "           col1  col2  col3\n",
      "row1 val2     4     5     6\n",
      "row2 val1     7     8     9\n",
      "     val2    10    11    12\n",
      "     val3    13    14    15\n",
      "row3 val2    16    17    18\n"
     ]
    }
   ],
   "source": [
    "result = df.loc[('row1','val2') : ('row3','val2')] # row1의 val2부터 row3의 val2까지\n",
    "print(result)"
   ]
  }
 ],
 "metadata": {
  "kernelspec": {
   "display_name": "Python 3 (ipykernel)",
   "language": "python",
   "name": "python3"
  },
  "language_info": {
   "codemirror_mode": {
    "name": "ipython",
    "version": 3
   },
   "file_extension": ".py",
   "mimetype": "text/x-python",
   "name": "python",
   "nbconvert_exporter": "python",
   "pygments_lexer": "ipython3",
   "version": "3.9.5"
  }
 },
 "nbformat": 4,
 "nbformat_minor": 5
}
