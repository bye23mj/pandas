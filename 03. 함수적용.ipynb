{
 "cells": [
  {
   "cell_type": "markdown",
   "id": "f3cca465",
   "metadata": {},
   "source": [
    "<h3>03-01. 축 기준 (apply)</h3>"
   ]
  },
  {
   "cell_type": "markdown",
   "id": "da920c13",
   "metadata": {},
   "source": [
    "DataFrame.apply(func, axis=0, raw=False, result_type=None, args=(), **kwargs)\n",
    "\n",
    "function : 각 행이나 열에 적용할 함수 입니다.</br>\n",
    "axis : {0 : Index / 1 : columns} 함수를 적용할 축 입니다.</br>\n",
    "row : {True : ndarray / False : Series} 함수에 전달할 축의 형식입니다.</br>\n",
    "True면 ndarray형태로 전달하고 False면 Series형태로 전달합니다. 기본적으로 Series입니다.</br>\n",
    "result_type : {expand / reduce / broadcast} 반환값의 형태를 결정합니다. expand이면 배열 형태를\n",
    "기준으로 열을 확장합니다.(기본 인덱스로), reduce인 경우는 그대로 Serise형태로 반환합니다.</br>\n",
    "broadcase인 경우 기존 열 형식대로 확장하여 반환합니다.(열의 수가 같아야합니다.)</br>"
   ]
  },
  {
   "cell_type": "code",
   "execution_count": 6,
   "id": "c20a7e81",
   "metadata": {},
   "outputs": [
    {
     "name": "stdout",
     "output_type": "stream",
     "text": [
      "      col1  col2  col3\n",
      "row1     1     2     3\n",
      "row2     4     5     6\n",
      "row3     7     8     9\n"
     ]
    }
   ],
   "source": [
    "import pandas as pd\n",
    "import numpy as np\n",
    "\n",
    "col = ['col1','col2','col3']\n",
    "row = ['row1','row2','row3']\n",
    "data = [[1,2,3],[4,5,6],[7,8,9]]\n",
    "df = pd.DataFrame(data=data,index=row,columns=col)\n",
    "print(df)"
   ]
  },
  {
   "cell_type": "code",
   "execution_count": 7,
   "id": "36ab7ab6",
   "metadata": {},
   "outputs": [
    {
     "name": "stdout",
     "output_type": "stream",
     "text": [
      "          col1      col2      col3\n",
      "row1  1.000000  1.414214  1.732051\n",
      "row2  2.000000  2.236068  2.449490\n",
      "row3  2.645751  2.828427  3.000000\n"
     ]
    }
   ],
   "source": [
    "print(df.apply(np.sqrt))"
   ]
  },
  {
   "cell_type": "code",
   "execution_count": 9,
   "id": "bd73ee0a",
   "metadata": {},
   "outputs": [
    {
     "name": "stdout",
     "output_type": "stream",
     "text": [
      "col1    12\n",
      "col2    15\n",
      "col3    18\n",
      "dtype: int64\n"
     ]
    }
   ],
   "source": [
    "print(df.apply(np.sum))"
   ]
  },
  {
   "cell_type": "code",
   "execution_count": 11,
   "id": "be610842",
   "metadata": {},
   "outputs": [
    {
     "name": "stdout",
     "output_type": "stream",
     "text": [
      "col1     28\n",
      "col2     80\n",
      "col3    162\n",
      "dtype: int64\n"
     ]
    }
   ],
   "source": [
    "print(df.apply(np.prod,axis=0))"
   ]
  },
  {
   "cell_type": "code",
   "execution_count": 12,
   "id": "9900d9de",
   "metadata": {},
   "outputs": [
    {
     "name": "stdout",
     "output_type": "stream",
     "text": [
      "row1      6\n",
      "row2    120\n",
      "row3    504\n",
      "dtype: int64\n"
     ]
    }
   ],
   "source": [
    "print(df.apply(np.prod,axis=1))"
   ]
  },
  {
   "cell_type": "code",
   "execution_count": 15,
   "id": "057328cf",
   "metadata": {},
   "outputs": [
    {
     "name": "stdout",
     "output_type": "stream",
     "text": [
      "      col1  col2  col3\n",
      "row1     1     1     1\n",
      "row2     2     2     2\n",
      "row3     3     3     3\n"
     ]
    }
   ],
   "source": [
    "print(df.apply(lambda x : [1,2,3]))"
   ]
  },
  {
   "cell_type": "code",
   "execution_count": 16,
   "id": "64e4f772",
   "metadata": {},
   "outputs": [
    {
     "name": "stdout",
     "output_type": "stream",
     "text": [
      "      0  1  2\n",
      "row1  1  2  3\n",
      "row2  1  2  3\n",
      "row3  1  2  3\n"
     ]
    }
   ],
   "source": [
    "#result_type = 'expand'인 경우\n",
    "#func를 기준으로 확장하여 columns를 지정하게 되는것을 확인할 수 있습니다.\n",
    "print(df.apply(lambda x : [1,2,3], axis=1,result_type='expand'))"
   ]
  },
  {
   "cell_type": "code",
   "execution_count": 18,
   "id": "5d383179",
   "metadata": {},
   "outputs": [
    {
     "name": "stdout",
     "output_type": "stream",
     "text": [
      "row1    [1, 2, 3]\n",
      "row2    [1, 2, 3]\n",
      "row3    [1, 2, 3]\n",
      "dtype: object\n"
     ]
    }
   ],
   "source": [
    "#result_type = 'reduce'인 경우\n",
    "#func를 기준으로 축소하여 columns없이 Series 객체로 반환하는것을 확인할 수 있습니다.\n",
    "print(df.apply(lambda x : [1,2,3], axis=1,result_type='reduce'))"
   ]
  },
  {
   "cell_type": "code",
   "execution_count": 20,
   "id": "6ae747a3",
   "metadata": {},
   "outputs": [
    {
     "name": "stdout",
     "output_type": "stream",
     "text": [
      "      col1  col2  col3\n",
      "row1     1     2     3\n",
      "row2     1     2     3\n",
      "row3     1     2     3\n"
     ]
    }
   ],
   "source": [
    "#result_type = 'broadcast'인 경우\n",
    "#func를 기준으로 확장하되, columns는 기존 DataFrame의 것을 사용하는것을 확인할 수 있습니다.\n",
    "print(df.apply(lambda x : [1,2,3], axis=1,result_type='broadcast'))"
   ]
  },
  {
   "cell_type": "markdown",
   "id": "c341f1c2",
   "metadata": {},
   "source": [
    "<h3>03-02. 요소별 (applymap)</h3>"
   ]
  },
  {
   "cell_type": "markdown",
   "id": "6f186c1e",
   "metadata": {},
   "source": [
    "DataFrame.applymap(func, na_action=None, **kwargs)\n",
    "\n",
    "func : 단일 값을 반환하는 함수 입니다.</br>\n",
    "na_action : {None / 'ignore} NaN의 무시 여부입니다. 'ignore'이면 NaN을 함수로 전달하지 않습니다.</br>"
   ]
  },
  {
   "cell_type": "code",
   "execution_count": 23,
   "id": "a61b68f4",
   "metadata": {},
   "outputs": [
    {
     "name": "stdout",
     "output_type": "stream",
     "text": [
      "      col1  col2  col3\n",
      "row1     1     2     3\n",
      "row2     4     5     6\n",
      "row3     7  <NA>     9\n"
     ]
    }
   ],
   "source": [
    "col = ['col1','col2','col3']\n",
    "row = ['row1','row2','row3']\n",
    "data = [[1,2,3],[4,5,6],[7,pd.NA,9]]\n",
    "df = pd.DataFrame(data=data,index=row,columns=col)\n",
    "print(df)"
   ]
  },
  {
   "cell_type": "code",
   "execution_count": 26,
   "id": "ac282efa",
   "metadata": {},
   "outputs": [
    {
     "name": "stdout",
     "output_type": "stream",
     "text": [
      "      col1  col2  col3\n",
      "row1     1     4     9\n",
      "row2    16    25    36\n",
      "row3    49  <NA>    81\n"
     ]
    }
   ],
   "source": [
    "print(df.applymap(lambda x : x**2,na_action='ignore'))"
   ]
  },
  {
   "cell_type": "markdown",
   "id": "7436c872",
   "metadata": {},
   "source": [
    "<h3>03-03. 함수내 함수 연속적용 (pipe)</h3>"
   ]
  },
  {
   "cell_type": "markdown",
   "id": "83c4fa8c",
   "metadata": {},
   "source": [
    "DataFrame.pipe(func, args, kwargs)\n",
    "\n",
    "func : 함수입니다.</br>\n",
    "arg : 함수의 인수입니다.</br>\n",
    "kwargs : dict 형태의 함수의 인수입니다.</br>\n",
    "\n",
    "만약 함수 3개가 아래와 같이 있다고 해봅니다.</br>\n",
    "f1(data, arg1), f2(data, arg1, arg2, f3(data, arg3)\n",
    "f1 > f2 > f3 순서로 포함되게 함수를 사용한다고 하면 아래와 같이 함수를 사용해야 합니다.</br>\n",
    "df=f1( f2( f3( data,arg3='c' ),arg2='b1',arg3='b2' ),arg1='a' )\n",
    "이는 어떤 arg가 어떤함수인지 직관적으로 볼 수 없습니다. 이때, pipe함수를 사용할 수 있습니다.</br>\n",
    "df=data.pipe(f3, arg3='c').pipe(f2, arg2='b1', arg3='b2').pipe(f3, arg3='c')</br>\n"
   ]
  },
  {
   "cell_type": "code",
   "execution_count": 28,
   "id": "cb713f7b",
   "metadata": {},
   "outputs": [
    {
     "name": "stdout",
     "output_type": "stream",
     "text": [
      "              info\n",
      "0     삼성전자/3/70000\n",
      "1  SK하이닉스/2/100000\n"
     ]
    }
   ],
   "source": [
    "org_data = pd.DataFrame({'info':['삼성전자/3/70000','SK하이닉스/2/100000']})\n",
    "print(org_data)"
   ]
  },
  {
   "cell_type": "code",
   "execution_count": 61,
   "id": "c20f69e6",
   "metadata": {},
   "outputs": [
    {
     "name": "stdout",
     "output_type": "stream",
     "text": [
      "     name  count   price\n",
      "0    삼성전자      3   70000\n",
      "1  SK하이닉스      2  100000\n"
     ]
    }
   ],
   "source": [
    "def code_name(data):\n",
    "    result = pd.DataFrame(columns = ['name','count','price'])\n",
    "    df = pd.DataFrame(list(data['info'].str.split('/')))\n",
    "    result['name'] = df[0]\n",
    "    result['count'] = df[1]\n",
    "    result['price'] = df[2]\n",
    "    result = result.astype({'count':int,'price':int})\n",
    "    return result\n",
    "\n",
    "print(code_name(org_data))"
   ]
  },
  {
   "cell_type": "code",
   "execution_count": 63,
   "id": "94771649",
   "metadata": {},
   "outputs": [
    {
     "name": "stdout",
     "output_type": "stream",
     "text": [
      "     name    value\n",
      "0    삼성전자  210000원\n",
      "1  SK하이닉스  200000원\n"
     ]
    }
   ],
   "source": [
    "def value_cal(data,unit=''):\n",
    "    result = pd.DataFrame(columns=['name','value']) \n",
    "    result['name'] =data['name'] # 이름은 기존거를 가져옴\n",
    "    result['value']=data['count']*data['price'] # value는 count * price를 입력함\n",
    "    result = result.astype({'value':str}) # value를 str로 변경(단위를 붙이기 위함)\n",
    "    result['value']=result['value']+unit # 단위를 붙임\n",
    "    return(result)\n",
    "\n",
    "input=code_name(org_data)\n",
    "print(value_cal(input,'원'))"
   ]
  },
  {
   "cell_type": "code",
   "execution_count": 64,
   "id": "5b66ae1f",
   "metadata": {},
   "outputs": [
    {
     "name": "stdout",
     "output_type": "stream",
     "text": [
      "     name    value\n",
      "0    삼성전자  210000원\n",
      "1  SK하이닉스  200000원\n"
     ]
    }
   ],
   "source": [
    "print(org_data.pipe(code_name).pipe(value_cal,'원'))"
   ]
  },
  {
   "cell_type": "markdown",
   "id": "a7277d48",
   "metadata": {},
   "source": [
    "<h3>03-04. 함수연속적용_축별 (aggregate, agg)</h3>"
   ]
  },
  {
   "cell_type": "markdown",
   "id": "5beee2f4",
   "metadata": {},
   "source": [
    "DataFrame.aggregate(func=None, axis=0, args, kwargs)\n",
    "DataFrame.agg(func=None, axis=0, args, kwargs)\n",
    "\n",
    "func : 함수입니다.</br>\n",
    "axis :{0 : index(row) / 1 : columns} 축입니다 0은 행, 1은 열 입니다. arg : 함수의 인수 입니다..</br>\n",
    "kwargs : dict 형태의 함수의 인수입니다.</br>"
   ]
  },
  {
   "cell_type": "code",
   "execution_count": 66,
   "id": "4e1e6c3b",
   "metadata": {},
   "outputs": [
    {
     "name": "stdout",
     "output_type": "stream",
     "text": [
      "   0  1  2\n",
      "0  1  4  7\n",
      "1  2  5  8\n",
      "2  3  6  9\n"
     ]
    }
   ],
   "source": [
    "df = pd.DataFrame([[1,4,7],[2,5,8],[3,6,9]])\n",
    "print(df)"
   ]
  },
  {
   "cell_type": "code",
   "execution_count": 67,
   "id": "f15818a5",
   "metadata": {},
   "outputs": [
    {
     "name": "stdout",
     "output_type": "stream",
     "text": [
      "0      6\n",
      "1    120\n",
      "2    504\n",
      "dtype: int64\n"
     ]
    }
   ],
   "source": [
    "#입력되는 함수의 형태에 따라\n",
    "#입력함수로는 먼저 np.함수 형태나 그냥 문자열 형태로의 입력이 가능합니다.\n",
    "#np함수의 경우\n",
    "ex1 = df.agg(np.prod)\n",
    "print(ex1)"
   ]
  },
  {
   "cell_type": "code",
   "execution_count": 71,
   "id": "f697f8e4",
   "metadata": {},
   "outputs": [
    {
     "name": "stdout",
     "output_type": "stream",
     "text": [
      "0      6\n",
      "1    120\n",
      "2    504\n",
      "dtype: int64\n"
     ]
    }
   ],
   "source": [
    "#문자열일 경우\n",
    "ex2 = df.agg('prod')\n",
    "print(ex2)"
   ]
  },
  {
   "cell_type": "code",
   "execution_count": 72,
   "id": "711643d1",
   "metadata": {},
   "outputs": [
    {
     "name": "stdout",
     "output_type": "stream",
     "text": [
      "          0   1   2\n",
      "<lambda>  3  24  63\n"
     ]
    }
   ],
   "source": [
    "ex3 = df.agg([lambda x : min(x) * max(x)])\n",
    "print(ex3)"
   ]
  },
  {
   "cell_type": "code",
   "execution_count": 73,
   "id": "9f26065f",
   "metadata": {},
   "outputs": [
    {
     "name": "stdout",
     "output_type": "stream",
     "text": [
      "          0   1   2\n",
      "func_sub  2   2   2\n",
      "sum       6  15  24\n"
     ]
    }
   ],
   "source": [
    "def func_sub(input):\n",
    "    return max(input)-min(input)\n",
    "ex4 = df.agg([func_sub,'sum'])\n",
    "print(ex4)"
   ]
  },
  {
   "cell_type": "code",
   "execution_count": 74,
   "id": "f8ae8ee0",
   "metadata": {},
   "outputs": [
    {
     "name": "stdout",
     "output_type": "stream",
     "text": [
      "     0   1   2\n",
      "내함수  2   2   2\n",
      "sum  6  15  24\n"
     ]
    }
   ],
   "source": [
    "def func_sub(input):\n",
    "    return max(input)-min(input)\n",
    "func_sub.__name__='내함수'\n",
    "ex5 = df.agg([func_sub,'sum'])\n",
    "print(ex5)"
   ]
  },
  {
   "cell_type": "code",
   "execution_count": 75,
   "id": "cac9b009",
   "metadata": {},
   "outputs": [
    {
     "name": "stdout",
     "output_type": "stream",
     "text": [
      "      0    1    2\n",
      "min   1    4    7\n",
      "max   3    6    9\n",
      "sum   6   15   24\n",
      "prod  6  120  504\n"
     ]
    }
   ],
   "source": [
    "ex6 = df.agg(['min','max','sum','prod'])\n",
    "print(ex6)"
   ]
  },
  {
   "cell_type": "code",
   "execution_count": 76,
   "id": "a8ccc1ef",
   "metadata": {},
   "outputs": [
    {
     "name": "stdout",
     "output_type": "stream",
     "text": [
      "2    24\n",
      "0     3\n",
      "1     4\n",
      "dtype: int64\n"
     ]
    }
   ],
   "source": [
    "ex7 = df.agg({2:'sum',0:'max',1:'min'})\n",
    "print(ex7)"
   ]
  },
  {
   "cell_type": "code",
   "execution_count": 78,
   "id": "02ecb244",
   "metadata": {},
   "outputs": [
    {
     "name": "stdout",
     "output_type": "stream",
     "text": [
      "        0    1    2\n",
      "sum   6.0  NaN  NaN\n",
      "prod  6.0  NaN  NaN\n",
      "max   NaN  6.0  NaN\n",
      "min   NaN  4.0  NaN\n",
      "mean  NaN  NaN  8.0\n"
     ]
    }
   ],
   "source": [
    "ex8 = df.agg({0:['sum','prod'],1:['max','min'],2:'mean'})\n",
    "print(ex8)"
   ]
  },
  {
   "cell_type": "code",
   "execution_count": 80,
   "id": "a62a2803",
   "metadata": {},
   "outputs": [
    {
     "name": "stdout",
     "output_type": "stream",
     "text": [
      "        0    1    2\n",
      "sum   6.0  NaN  NaN\n",
      "prod  6.0  NaN  NaN\n",
      "max   NaN  6.0  NaN\n",
      "min   NaN  4.0  NaN\n",
      "mean  NaN  NaN  8.0\n"
     ]
    }
   ],
   "source": [
    "#dict함수내에 다중함수를 적용할 수도 있습니다. 이 경우 해당되지 않는 index는 NaN을 출력합니다.\n",
    "ex8 = df.agg({0:['sum','prod'],1:['max','min'],2:'mean'})\n",
    "print(ex8)"
   ]
  },
  {
   "cell_type": "code",
   "execution_count": 81,
   "id": "ef8db951",
   "metadata": {},
   "outputs": [
    {
     "name": "stdout",
     "output_type": "stream",
     "text": [
      "0      6\n",
      "1    120\n",
      "2    504\n",
      "dtype: int64\n"
     ]
    }
   ],
   "source": [
    "#axis인수를 변경할 경우\n",
    "#axis의경우 0이면 index, 1이면 columns 기준으로 연산을 진행합니다.\n",
    "ex2 = df.agg('prod', axis=0)\n",
    "print(ex2)"
   ]
  },
  {
   "cell_type": "code",
   "execution_count": 82,
   "id": "ea09cd3a",
   "metadata": {},
   "outputs": [
    {
     "name": "stdout",
     "output_type": "stream",
     "text": [
      "0     28\n",
      "1     80\n",
      "2    162\n",
      "dtype: int64\n"
     ]
    }
   ],
   "source": [
    "ex3 = df.agg('prod', axis=1)\n",
    "print(ex3)"
   ]
  },
  {
   "cell_type": "markdown",
   "id": "f5672d1f",
   "metadata": {},
   "source": [
    "<h3>03-05. 함수연속적용_요소별 (transform)</h3>"
   ]
  },
  {
   "cell_type": "markdown",
   "id": "4dfeffaa",
   "metadata": {},
   "source": [
    "DataFrame.transform(func, axis=0, args, kwargs)\n",
    "\n",
    "transform메서드는 agg와 비슷하게 함수를 적용하는 메서드이지만,</br>\n",
    "단일 요소별로 함수를 동시에 적용할 수 있다는 장점이 있습니다. 마치 apply와 applymap의 차이와 비슷합니다.</br>\n",
    "\n",
    "func : 함수입니다.</br>\n",
    "axis :{0 : index(row) / 1 : columns} 축입니다 0은 행, 1은 열 입니다.</br>\n",
    "arg : 함수의 인수 입니다.</br>\n",
    "kwargs : dict 형태의 함수의 인수입니다.</br>"
   ]
  },
  {
   "cell_type": "code",
   "execution_count": 84,
   "id": "3fb02562",
   "metadata": {},
   "outputs": [
    {
     "name": "stdout",
     "output_type": "stream",
     "text": [
      "      col1  col2  col3\n",
      "row1    10    40    70\n",
      "row2    20    50    80\n",
      "row3    30    60    90\n"
     ]
    }
   ],
   "source": [
    "col = ['col1','col2','col3']\n",
    "row = ['row1','row2','row3']\n",
    "df = pd.DataFrame(data=[[10,40,70],[20,50,80],[30,60,90]],index=row,columns=col)\n",
    "print(df)"
   ]
  },
  {
   "cell_type": "code",
   "execution_count": 87,
   "id": "51c0d326",
   "metadata": {},
   "outputs": [
    {
     "name": "stdout",
     "output_type": "stream",
     "text": [
      "          col1      col2      col3\n",
      "row1  3.162278  6.324555  8.366600\n",
      "row2  4.472136  7.071068  8.944272\n",
      "row3  5.477226  7.745967  9.486833\n"
     ]
    }
   ],
   "source": [
    "#입력되는 함수의 형태에 따라 입력함수로는 먼저 np.함수 형태나 그냥 문자열 형태로의 입력이 가능합니다.\n",
    "#np함수의 경우\n",
    "ex1 = df.transform(np.sqrt)\n",
    "print(ex1)"
   ]
  },
  {
   "cell_type": "code",
   "execution_count": 88,
   "id": "43083469",
   "metadata": {},
   "outputs": [
    {
     "name": "stdout",
     "output_type": "stream",
     "text": [
      "          col1      col2      col3\n",
      "row1  3.162278  6.324555  8.366600\n",
      "row2  4.472136  7.071068  8.944272\n",
      "row3  5.477226  7.745967  9.486833\n"
     ]
    }
   ],
   "source": [
    "ex2 = df.transform('sqrt')\n",
    "print(ex2)"
   ]
  },
  {
   "cell_type": "code",
   "execution_count": 89,
   "id": "8479f0c2",
   "metadata": {},
   "outputs": [
    {
     "name": "stdout",
     "output_type": "stream",
     "text": [
      "          col1      col2      col3\n",
      "row1  3.162278  6.324555  8.366600\n",
      "row2  4.472136  7.071068  8.944272\n",
      "row3  5.477226  7.745967  9.486833\n"
     ]
    }
   ],
   "source": [
    "ex3 = df.transform(lambda x : np.sqrt(x))\n",
    "print(ex3)"
   ]
  },
  {
   "cell_type": "code",
   "execution_count": 91,
   "id": "b8412493",
   "metadata": {},
   "outputs": [
    {
     "name": "stdout",
     "output_type": "stream",
     "text": [
      "              col1                    col2                    col3          \n",
      "               exp      sqrt           exp      sqrt           exp      sqrt\n",
      "row1  2.202647e+04  3.162278  2.353853e+17  6.324555  2.515439e+30  8.366600\n",
      "row2  4.851652e+08  4.472136  5.184706e+21  7.071068  5.540622e+34  8.944272\n",
      "row3  1.068647e+13  5.477226  1.142007e+26  7.745967  1.220403e+39  9.486833\n"
     ]
    }
   ],
   "source": [
    "#여러 함수를 동시에 적용하는 경우 list나 dict형태로 func값을 입력하는 경우 여러 함수를 동시에 적용할 수 있습니다.\n",
    "#list로 입력하는 경우 마치 multi index처럼 multi columns가 생성됩니다.\n",
    "ex4 = df.transform(['exp','sqrt'])\n",
    "print(ex4)"
   ]
  },
  {
   "cell_type": "code",
   "execution_count": 92,
   "id": "b3c90167",
   "metadata": {},
   "outputs": [
    {
     "name": "stdout",
     "output_type": "stream",
     "text": [
      "              col2      col1\n",
      "row1  2.353853e+17  3.162278\n",
      "row2  5.184706e+21  4.472136\n",
      "row3  1.142007e+26  5.477226\n"
     ]
    }
   ],
   "source": [
    "ex5 = df.transform({'col2':'exp','col1':'sqrt'})\n",
    "print(ex5)"
   ]
  },
  {
   "cell_type": "markdown",
   "id": "fde73ed5",
   "metadata": {},
   "source": [
    "<h3>03-06. 문자열 형식의 계산식 적용 (eval)</h3>"
   ]
  },
  {
   "cell_type": "markdown",
   "id": "48e3a79a",
   "metadata": {},
   "source": [
    "DataFrame.eval(expr, inplace=False, kwargs)\n",
    "\n",
    "eval메서드는 파이썬의 eval 메서드와 사용목적이 동일합니다. 문자열로 된 계산식을 적용합니다.\n",
    "\n",
    "expr : 문자열 형태의 계산식입니다.</br>\n",
    "inplace : {True / False} 계산된 값이 원본을 변경할지의 여부입니다. 기본적으로 원본은 변경되지 않습니다.</br>"
   ]
  },
  {
   "cell_type": "code",
   "execution_count": 96,
   "id": "cf2dc0c1",
   "metadata": {},
   "outputs": [
    {
     "name": "stdout",
     "output_type": "stream",
     "text": [
      "      col1  col2  col3\n",
      "row1     1     2     3\n",
      "row2     4     5     6\n",
      "row3     7     8     9\n"
     ]
    }
   ],
   "source": [
    "data = [[1,2,3],[4,5,6],[7,8,9]]\n",
    "col = ['col1','col2','col3']\n",
    "row = ['row1','row2','row3']\n",
    "df = pd.DataFrame(data = data, index = row, columns= col)\n",
    "print(df)"
   ]
  },
  {
   "cell_type": "code",
   "execution_count": 98,
   "id": "16009a0e",
   "metadata": {},
   "outputs": [
    {
     "name": "stdout",
     "output_type": "stream",
     "text": [
      "      col1  col2  col3  col4\n",
      "row1     1     2     3    -1\n",
      "row2     4     5     6    14\n",
      "row3     7     8     9    47\n"
     ]
    }
   ],
   "source": [
    "#기본적인 사용법 col1*col2-col3의 값을 갖는 col4를 만들어보겠습니다. 'col4'='col1'+'col2'-'col3'를 문자열 그대로 사용합니다.\n",
    "#계산이 적용된 col4열이 생성된 것을 확인할 수 있습니다.\n",
    "print(df.eval('col4=col1*col2-col3'))"
   ]
  },
  {
   "cell_type": "code",
   "execution_count": 100,
   "id": "f0dd6c75",
   "metadata": {},
   "outputs": [
    {
     "name": "stdout",
     "output_type": "stream",
     "text": [
      "      col1  col2  col3\n",
      "row1     1     2     3\n",
      "row2     4     5     6\n",
      "row3     7     8     9\n"
     ]
    }
   ],
   "source": [
    "print(df)"
   ]
  },
  {
   "cell_type": "code",
   "execution_count": 102,
   "id": "17e8bf8a",
   "metadata": {},
   "outputs": [
    {
     "name": "stdout",
     "output_type": "stream",
     "text": [
      "None\n",
      "      col1  col2  col3  col4\n",
      "row1     1     2     3    -1\n",
      "row2     4     5     6    14\n",
      "row3     7     8     9    47\n"
     ]
    }
   ],
   "source": [
    "print(df.eval('col4=col1*col2-col3',inplace=True))\n",
    "print(df)"
   ]
  }
 ],
 "metadata": {
  "kernelspec": {
   "display_name": "Python 3 (ipykernel)",
   "language": "python",
   "name": "python3"
  },
  "language_info": {
   "codemirror_mode": {
    "name": "ipython",
    "version": 3
   },
   "file_extension": ".py",
   "mimetype": "text/x-python",
   "name": "python",
   "nbconvert_exporter": "python",
   "pygments_lexer": "ipython3",
   "version": "3.9.5"
  }
 },
 "nbformat": 4,
 "nbformat_minor": 5
}
