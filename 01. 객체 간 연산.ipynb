{
 "cells": [
  {
   "cell_type": "markdown",
   "id": "5de95e14",
   "metadata": {},
   "source": [
    "DataFrame.add(other, axis='columns', level=None, fill_value=None)</br>\n",
    "\n",
    "other : 데이터프레임이나, Series, 스칼라 등 데이터가 올 수 있습니다. 더할 값입니다.</br>\n",
    "axis : 더할 레이블을 설정합니다. 0은 행(index), 1은 열 입니다. ※Series일 경우 Index와 일치시킬 축</br>\n",
    "level : multiIndex에서 계산할 Index의 레벨입니다.</br>\n",
    "fill_value : NaN 값등의 누락 요소를 계산 전에 이 값으로 대체합니다.</br>\n"
   ]
  },
  {
   "cell_type": "code",
   "execution_count": 4,
   "id": "6fb7232e",
   "metadata": {},
   "outputs": [
    {
     "name": "stdout",
     "output_type": "stream",
     "text": [
      "      col1  col2  col3\n",
      "row1     1    10   100\n",
      "row2     2    20   200\n",
      "row3     3    30   300\n"
     ]
    }
   ],
   "source": [
    "import pandas as pd\n",
    "\n",
    "data = [[1,10,100],[2,20,200],[3,30,300]]\n",
    "col = ['col1','col2','col3']\n",
    "row = ['row1','row2','row3']\n",
    "df = pd.DataFrame(data=data,index=row,columns=col)\n",
    "print(df)"
   ]
  },
  {
   "cell_type": "code",
   "execution_count": 6,
   "id": "5aec8847",
   "metadata": {},
   "outputs": [
    {
     "name": "stdout",
     "output_type": "stream",
     "text": [
      "      col1  col2  col3\n",
      "row1     2    11   101\n",
      "row2     3    21   201\n",
      "row3     4    31   301\n"
     ]
    }
   ],
   "source": [
    "result = df.add(1)\n",
    "print(result)"
   ]
  },
  {
   "cell_type": "code",
   "execution_count": 8,
   "id": "9e3a9f16",
   "metadata": {},
   "outputs": [
    {
     "name": "stdout",
     "output_type": "stream",
     "text": [
      "      col1  col2  col3\n",
      "row1     2    11   101\n",
      "row2     3    21   201\n",
      "row3     4    31   301\n"
     ]
    }
   ],
   "source": [
    "result = df+1\n",
    "print(result)"
   ]
  },
  {
   "cell_type": "code",
   "execution_count": 11,
   "id": "66218090",
   "metadata": {},
   "outputs": [
    {
     "name": "stdout",
     "output_type": "stream",
     "text": [
      "      col1\n",
      "row1     3\n",
      "row2     4\n",
      "row3     5\n"
     ]
    }
   ],
   "source": [
    "data2  = [[3],[4],[5]]\n",
    "df2 = pd.DataFrame(data=data2,index=['row1','row2','row3'],columns=['col1'])\n",
    "print(df2)"
   ]
  },
  {
   "cell_type": "code",
   "execution_count": 13,
   "id": "105c0b0b",
   "metadata": {},
   "outputs": [
    {
     "name": "stdout",
     "output_type": "stream",
     "text": [
      "      col1  col2  col3\n",
      "row1     4   NaN   NaN\n",
      "row2     6   NaN   NaN\n",
      "row3     8   NaN   NaN\n"
     ]
    }
   ],
   "source": [
    "result = df.add(df2)\n",
    "print(result)"
   ]
  },
  {
   "cell_type": "code",
   "execution_count": 29,
   "id": "d46d6505",
   "metadata": {
    "scrolled": true
   },
   "outputs": [
    {
     "name": "stdout",
     "output_type": "stream",
     "text": [
      "      col1  col2   col3\n",
      "row1     4  10.0  100.0\n",
      "row2     6  20.0  200.0\n",
      "row3     8  30.0  300.0\n"
     ]
    }
   ],
   "source": [
    "result = df.add(df2,fill_value=0)\n",
    "print(result)"
   ]
  },
  {
   "cell_type": "markdown",
   "id": "4245b4d2",
   "metadata": {},
   "source": []
  },
  {
   "cell_type": "markdown",
   "id": "579ba641",
   "metadata": {},
   "source": [
    "DataFrame.sub(other, axis='columns', level=None, fill_value=None)</br>\n",
    "DataFrame.rsub(other, axis='columns', level=None, fill_value=None)</br>\n",
    "\n",
    "*rsub의 경우 sub의 경우에서 순서만 바꾼것입니다. 즉 sub가 'df-df2'라면 rsub는 'df2-df'입니다.\n",
    "other : 데이터프레임이나, Series, 스칼라 등 데이터가 올 수 있습니다. 뺄 값입니다.</br>\n",
    "axis : 뺄 레이블을 설정합니다. 0은 행(index), 1은 열 입니다. ※Series일 경우 Index와 일치시킬 축</br>\n",
    "level : multiIndex에서 계산할 Index의 레벨입니다.</br>\n",
    "fill_value : NaN 값등의 누락 요소를 계산 전에 이 값으로 대체합니다.</br>\n"
   ]
  },
  {
   "cell_type": "code",
   "execution_count": 20,
   "id": "ceae231f",
   "metadata": {},
   "outputs": [
    {
     "name": "stdout",
     "output_type": "stream",
     "text": [
      "      col1  col2  col3\n",
      "row1     1    10   100\n",
      "row2     2    20   200\n",
      "row3     3    30   300\n"
     ]
    }
   ],
   "source": [
    "data = [[1,10,100],[2,20,200],[3,30,300]]\n",
    "col = ['col1','col2','col3']\n",
    "row = ['row1','row2','row3']\n",
    "df = pd.DataFrame(data=data,index=row,columns=col)\n",
    "print(df)"
   ]
  },
  {
   "cell_type": "code",
   "execution_count": null,
   "id": "3e6ad4fc",
   "metadata": {},
   "outputs": [],
   "source": []
  },
  {
   "cell_type": "code",
   "execution_count": 22,
   "id": "5ebb7006",
   "metadata": {},
   "outputs": [
    {
     "name": "stdout",
     "output_type": "stream",
     "text": [
      "      col1  col2  col3\n",
      "row1     0     9    99\n",
      "row2     1    19   199\n",
      "row3     2    29   299\n"
     ]
    }
   ],
   "source": [
    "result = df.sub(1)\n",
    "print(result)"
   ]
  },
  {
   "cell_type": "code",
   "execution_count": 24,
   "id": "28e46ef4",
   "metadata": {},
   "outputs": [
    {
     "name": "stdout",
     "output_type": "stream",
     "text": [
      "      col1  col2  col3\n",
      "row1     0     9    99\n",
      "row2     1    19   199\n",
      "row3     2    29   299\n"
     ]
    }
   ],
   "source": [
    "result = df-1\n",
    "print(result)"
   ]
  },
  {
   "cell_type": "code",
   "execution_count": 26,
   "id": "79256fa0",
   "metadata": {},
   "outputs": [],
   "source": [
    "data2  = [[3],[4],[5]]\n",
    "df2 = pd.DataFrame(data=data2,index=['row1','row2','row3'],columns=['col1'])"
   ]
  },
  {
   "cell_type": "code",
   "execution_count": 27,
   "id": "850bc053",
   "metadata": {},
   "outputs": [
    {
     "name": "stdout",
     "output_type": "stream",
     "text": [
      "      col1  col2  col3\n",
      "row1    -2   NaN   NaN\n",
      "row2    -2   NaN   NaN\n",
      "row3    -2   NaN   NaN\n"
     ]
    }
   ],
   "source": [
    "result = df.sub(df2)\n",
    "print(result)"
   ]
  },
  {
   "cell_type": "code",
   "execution_count": null,
   "id": "0faf462d",
   "metadata": {},
   "outputs": [],
   "source": [
    "result = df.sub(df2,fill_value=0)\n",
    "print(result)"
   ]
  },
  {
   "cell_type": "markdown",
   "id": "7927314e",
   "metadata": {},
   "source": [
    "DataFrame.mul(other, axis='columns', level=None, fill_value=None)</br>\n",
    "DataFrame.rmul(other, axis='columns', level=None, fill_value=None)</br>\n",
    "\n",
    "other : 데이터프레임이나, Series, 스칼라 등 데이터가 올 수 있습니다. 곱할 값입니다.</br>\n",
    "axis : 곱할 레이블을 설정합니다. 0은 행(index), 1은 열 입니다. ※Series일 경우 Index와 일치시킬 축</br>\n",
    "level : multiIndex에서 계산할 Index의 레벨입니다.</br>\n",
    "fill_value : NaN 값등의 누락 요소를 계산 전에 이 값으로 대체합니다.</br>"
   ]
  },
  {
   "cell_type": "code",
   "execution_count": 33,
   "id": "f89372f8",
   "metadata": {},
   "outputs": [
    {
     "name": "stdout",
     "output_type": "stream",
     "text": [
      "      col1  col2  col3\n",
      "row1     1    10   100\n",
      "row2     2    20   200\n",
      "row3     3    30   300\n"
     ]
    }
   ],
   "source": [
    "data = [[1,10,100],[2,20,200],[3,30,300]]\n",
    "col = ['col1','col2','col3']\n",
    "row = ['row1','row2','row3']\n",
    "\n",
    "df = pd.DataFrame(data=data, index = row, columns = col)\n",
    "print(df)"
   ]
  },
  {
   "cell_type": "code",
   "execution_count": 35,
   "id": "0e5fe99a",
   "metadata": {},
   "outputs": [
    {
     "name": "stdout",
     "output_type": "stream",
     "text": [
      "      col1  col2  col3\n",
      "row1     2    20   200\n",
      "row2     4    40   400\n",
      "row3     6    60   600\n"
     ]
    }
   ],
   "source": [
    "result = df.mul(2)\n",
    "print(result)"
   ]
  },
  {
   "cell_type": "code",
   "execution_count": 39,
   "id": "b68eaee5",
   "metadata": {},
   "outputs": [
    {
     "name": "stdout",
     "output_type": "stream",
     "text": [
      "      col1  col2  col3\n",
      "row1     2    20   200\n",
      "row2     4    40   400\n",
      "row3     6    60   600\n"
     ]
    }
   ],
   "source": [
    "result = df * 2\n",
    "print(result)"
   ]
  },
  {
   "cell_type": "code",
   "execution_count": 41,
   "id": "9a252b76",
   "metadata": {},
   "outputs": [
    {
     "name": "stdout",
     "output_type": "stream",
     "text": [
      "      col1  col2  col3\n",
      "row1     3   0.0   0.0\n",
      "row2     8   0.0   0.0\n",
      "row3    15   0.0   0.0\n"
     ]
    }
   ],
   "source": [
    "data2  = [[3],[4],[5]]\n",
    "df1 = pd.DataFrame(data=data2, index = ['row1','row2','row3'], columns = ['col1'])\n",
    "\n",
    "result = df.mul(df2, fill_value = 0)\n",
    "print(result)"
   ]
  },
  {
   "cell_type": "markdown",
   "id": "81b24b21",
   "metadata": {},
   "source": [
    "DataFrame.div(other, axis='columns', level=None, fill_value=None)</br>\n",
    "DataFrame.rdiv(other, axis='columns', level=None, fill_value=None)</br>\n",
    "\n",
    "other : 데이터프레임이나, Series, 스칼라 등 데이터가 올 수 있습니다. 나눌값입니다.</br>\n",
    "axis : 나눌 레이블을 설정합니다. 0은 행(index), 1은 열 입니다. ※Series일 경우 Index와 일치시킬 축</br>\n",
    "level : multiIndex에서 계산할 Index의 레벨입니다.</br>\n",
    "fill_value : NaN 값등의 누락 요소를 계산 전에 이 값으로 대체합니다.</br>"
   ]
  },
  {
   "cell_type": "code",
   "execution_count": 43,
   "id": "bec54450",
   "metadata": {},
   "outputs": [
    {
     "name": "stdout",
     "output_type": "stream",
     "text": [
      "      col1  col2  col3\n",
      "row1     1    10   100\n",
      "row2     2    20   200\n",
      "row3     3    30   300\n"
     ]
    }
   ],
   "source": [
    "data = [[1,10,100],[2,20,200],[3,30,300]]\n",
    "col = ['col1','col2','col3']\n",
    "row = ['row1','row2','row3']\n",
    "df = pd.DataFrame(data=data,index=row,columns=col)\n",
    "print(df)"
   ]
  },
  {
   "cell_type": "code",
   "execution_count": 44,
   "id": "7e4cba4f",
   "metadata": {},
   "outputs": [
    {
     "name": "stdout",
     "output_type": "stream",
     "text": [
      "      col1  col2   col3\n",
      "row1   0.5   5.0   50.0\n",
      "row2   1.0  10.0  100.0\n",
      "row3   1.5  15.0  150.0\n"
     ]
    }
   ],
   "source": [
    "result = df.div(2)\n",
    "print(result)"
   ]
  },
  {
   "cell_type": "code",
   "execution_count": 46,
   "id": "035783c0",
   "metadata": {},
   "outputs": [
    {
     "name": "stdout",
     "output_type": "stream",
     "text": [
      "      col1  col2   col3\n",
      "row1   0.5   5.0   50.0\n",
      "row2   1.0  10.0  100.0\n",
      "row3   1.5  15.0  150.0\n"
     ]
    }
   ],
   "source": [
    "result = df/2\n",
    "print(result)"
   ]
  },
  {
   "cell_type": "code",
   "execution_count": 47,
   "id": "67938f0f",
   "metadata": {},
   "outputs": [
    {
     "name": "stdout",
     "output_type": "stream",
     "text": [
      "      col1\n",
      "row1     0\n",
      "row2     2\n",
      "row3     3\n"
     ]
    }
   ],
   "source": [
    "data2  = [[0],[2],[3]]\n",
    "df2 = pd.DataFrame(data=data2,index=['row1','row2','row3'],columns=['col1'])\n",
    "print(df2)"
   ]
  },
  {
   "cell_type": "code",
   "execution_count": 48,
   "id": "717c4612",
   "metadata": {},
   "outputs": [
    {
     "name": "stdout",
     "output_type": "stream",
     "text": [
      "      col1  col2  col3\n",
      "row1   inf   NaN   NaN\n",
      "row2   1.0   NaN   NaN\n",
      "row3   1.0   NaN   NaN\n"
     ]
    }
   ],
   "source": [
    "result = df.div(df2)\n",
    "print(result)"
   ]
  },
  {
   "cell_type": "code",
   "execution_count": 49,
   "id": "d45a433b",
   "metadata": {
    "scrolled": true
   },
   "outputs": [
    {
     "name": "stdout",
     "output_type": "stream",
     "text": [
      "      col1  col2   col3\n",
      "row1   inf  10.0  100.0\n",
      "row2   1.0  20.0  200.0\n",
      "row3   1.0  30.0  300.0\n"
     ]
    }
   ],
   "source": [
    "result = df.div(df2,fill_value=1)\n",
    "print(result)"
   ]
  },
  {
   "cell_type": "markdown",
   "id": "4b4f4331",
   "metadata": {},
   "source": [
    "DataFrame.mod(other, axis='columns', level=None, fill_value=None)</br>\n",
    "DataFrame.rmod(other, axis='columns', level=None, fill_value=None)</br>\n",
    "\n",
    "other : 데이터프레임이나, Series, 스칼라 등 데이터가 올 수 있습니다. 나눌값입니다.</br>\n",
    "axis : 나눌 레이블을 설정합니다. 0은 행(index), 1은 열 입니다. ※Series일 경우 Index와 일치시킬 축</br>\n",
    "level : multiIndex에서 계산할 Index의 레벨입니다.</br>\n",
    "fill_value : NaN 값등의 누락 요소를 계산 전에 이 값으로 대체합니다.</br>\n"
   ]
  },
  {
   "cell_type": "code",
   "execution_count": 52,
   "id": "d13c1a7b",
   "metadata": {},
   "outputs": [
    {
     "name": "stdout",
     "output_type": "stream",
     "text": [
      "      col1  col2  col3\n",
      "row1     1     2     3\n",
      "row2     4     5     6\n",
      "row3     7     8     9\n"
     ]
    }
   ],
   "source": [
    "data = [[1,2,3],[4,5,6],[7,8,9]]\n",
    "col = ['col1','col2','col3']\n",
    "row = ['row1','row2','row3']\n",
    "df = pd.DataFrame(data=data,index=row,columns=col)\n",
    "print(df)"
   ]
  },
  {
   "cell_type": "code",
   "execution_count": 53,
   "id": "185762d6",
   "metadata": {},
   "outputs": [
    {
     "name": "stdout",
     "output_type": "stream",
     "text": [
      "      col1  col2  col3\n",
      "row1     1     2     3\n",
      "row2     4     5     6\n",
      "row3     0     1     2\n"
     ]
    }
   ],
   "source": [
    "result = df.mod(7)\n",
    "print(result)"
   ]
  },
  {
   "cell_type": "code",
   "execution_count": 54,
   "id": "3d2ba738",
   "metadata": {},
   "outputs": [
    {
     "name": "stdout",
     "output_type": "stream",
     "text": [
      "      col1  col2  col3\n",
      "row1     1     2     3\n",
      "row2     4     5     6\n",
      "row3     0     1     2\n"
     ]
    }
   ],
   "source": [
    "result = df%7\n",
    "print(result)"
   ]
  },
  {
   "cell_type": "code",
   "execution_count": 55,
   "id": "e69ebf34",
   "metadata": {},
   "outputs": [
    {
     "name": "stdout",
     "output_type": "stream",
     "text": [
      "      col1\n",
      "row1     2\n",
      "row2     3\n",
      "row3     5\n"
     ]
    }
   ],
   "source": [
    "data2  = [[2],[3],[5]]\n",
    "df2 = pd.DataFrame(data=data2,index=['row1','row2','row3'],columns=['col1'])\n",
    "print(df2)"
   ]
  },
  {
   "cell_type": "code",
   "execution_count": 56,
   "id": "783f61e0",
   "metadata": {},
   "outputs": [
    {
     "name": "stdout",
     "output_type": "stream",
     "text": [
      "      col1  col2  col3\n",
      "row1     1   NaN   NaN\n",
      "row2     1   NaN   NaN\n",
      "row3     2   NaN   NaN\n"
     ]
    }
   ],
   "source": [
    "result = df.mod(df2)\n",
    "print(result)"
   ]
  },
  {
   "cell_type": "code",
   "execution_count": 57,
   "id": "cef04221",
   "metadata": {},
   "outputs": [
    {
     "name": "stdout",
     "output_type": "stream",
     "text": [
      "      col1  col2  col3\n",
      "row1     1   0.0   0.0\n",
      "row2     1   0.0   0.0\n",
      "row3     2   0.0   0.0\n"
     ]
    }
   ],
   "source": [
    "result = df.mod(df2,fill_value=1)\n",
    "print(result)"
   ]
  },
  {
   "cell_type": "markdown",
   "id": "c556df41",
   "metadata": {},
   "source": [
    "DataFrame.pow(other, axis='columns', level=None, fill_value=None)</br>\n",
    "DataFrame.rpow(other, axis='columns', level=None, fill_value=None)</br>\n",
    "\n",
    "other : 데이터프레임이나, Series, 스칼라 등 데이터가 올 수 있습니다. 제곱할 값입니다.</br>\n",
    "axis : 제곱할 레이블을 설정합니다. 0은 행(index), 1은 열 입니다. ※Series일 경우 Index와 일치시킬 축</br>\n",
    "level : multiIndex에서 계산할 Index의 레벨입니다.</br>\n",
    "fill_value : NaN 값등의 누락 요소를 계산 전에 이 값으로 대체합니다.</br>"
   ]
  },
  {
   "cell_type": "code",
   "execution_count": 59,
   "id": "c6e1d310",
   "metadata": {},
   "outputs": [
    {
     "name": "stdout",
     "output_type": "stream",
     "text": [
      "      col1  col2  col3\n",
      "row1     1     2     3\n",
      "row2     4     5     6\n",
      "row3     7     8     9\n"
     ]
    }
   ],
   "source": [
    "data = [[1,2,3],[4,5,6],[7,8,9]]\n",
    "col = ['col1','col2','col3']\n",
    "row = ['row1','row2','row3']\n",
    "df = pd.DataFrame(data=data,index=row,columns=col)\n",
    "print(df)"
   ]
  },
  {
   "cell_type": "code",
   "execution_count": 60,
   "id": "0c1662d9",
   "metadata": {},
   "outputs": [
    {
     "name": "stdout",
     "output_type": "stream",
     "text": [
      "      col1  col2  col3\n",
      "row1     1     8    27\n",
      "row2    64   125   216\n",
      "row3   343   512   729\n"
     ]
    }
   ],
   "source": [
    "result = df.pow(3)\n",
    "print(result)"
   ]
  },
  {
   "cell_type": "code",
   "execution_count": 61,
   "id": "3ef1a5ae",
   "metadata": {},
   "outputs": [
    {
     "name": "stdout",
     "output_type": "stream",
     "text": [
      "      col1  col2  col3\n",
      "row1     1     8    27\n",
      "row2    64   125   216\n",
      "row3   343   512   729\n"
     ]
    }
   ],
   "source": [
    "result = df**3\n",
    "print(result)"
   ]
  },
  {
   "cell_type": "code",
   "execution_count": 62,
   "id": "f0897ccf",
   "metadata": {},
   "outputs": [
    {
     "name": "stdout",
     "output_type": "stream",
     "text": [
      "      col1\n",
      "row1     0\n",
      "row2     3\n",
      "row3     5\n"
     ]
    }
   ],
   "source": [
    "data2  = [[0],[3],[5]]\n",
    "df2 = pd.DataFrame(data=data2,index=['row1','row2','row3'],columns=['col1'])\n",
    "print(df2)"
   ]
  },
  {
   "cell_type": "code",
   "execution_count": 63,
   "id": "c40fdb1b",
   "metadata": {},
   "outputs": [
    {
     "name": "stdout",
     "output_type": "stream",
     "text": [
      "       col1  col2  col3\n",
      "row1      1   NaN   NaN\n",
      "row2     64   NaN   NaN\n",
      "row3  16807   NaN   NaN\n"
     ]
    }
   ],
   "source": [
    "result = df.pow(df2)\n",
    "print(result)"
   ]
  },
  {
   "cell_type": "code",
   "execution_count": 64,
   "id": "b7f3fe7b",
   "metadata": {
    "scrolled": true
   },
   "outputs": [
    {
     "name": "stdout",
     "output_type": "stream",
     "text": [
      "       col1  col2  col3\n",
      "row1      1   1.0   1.0\n",
      "row2     64   1.0   1.0\n",
      "row3  16807   1.0   1.0\n"
     ]
    }
   ],
   "source": [
    "result = df.pow(df2,fill_value=0)\n",
    "print(result)"
   ]
  },
  {
   "cell_type": "markdown",
   "id": "d8a58a62",
   "metadata": {},
   "source": [
    "DataFrame.dot(other)\n",
    "other : Series, DataFrame, 배열 등이 올 수 있습니다."
   ]
  },
  {
   "cell_type": "code",
   "execution_count": 68,
   "id": "93bc40cf",
   "metadata": {},
   "outputs": [
    {
     "name": "stdout",
     "output_type": "stream",
     "text": [
      "   0  1\n",
      "0  1  2\n",
      "1  3  4\n",
      "   0  1\n",
      "0  5  6\n",
      "1  7  8\n"
     ]
    }
   ],
   "source": [
    "col = ['col1','col2']\n",
    "row = ['row1','row2']\n",
    "data1 = [[1,2],[3,4]]\n",
    "data2 = [[5,6],[7,8]]\n",
    "df1 = pd.DataFrame(data=data1)\n",
    "df2 = pd.DataFrame(data=data2)\n",
    "print(df1)\n",
    "print(df2)"
   ]
  },
  {
   "cell_type": "code",
   "execution_count": 69,
   "id": "347cea9d",
   "metadata": {},
   "outputs": [
    {
     "name": "stdout",
     "output_type": "stream",
     "text": [
      "    0   1\n",
      "0  19  22\n",
      "1  43  50\n"
     ]
    }
   ],
   "source": [
    "df3 = df1.dot(df2)\n",
    "print(df3)"
   ]
  }
 ],
 "metadata": {
  "kernelspec": {
   "display_name": "Python 3 (ipykernel)",
   "language": "python",
   "name": "python3"
  },
  "language_info": {
   "codemirror_mode": {
    "name": "ipython",
    "version": 3
   },
   "file_extension": ".py",
   "mimetype": "text/x-python",
   "name": "python",
   "nbconvert_exporter": "python",
   "pygments_lexer": "ipython3",
   "version": "3.9.5"
  }
 },
 "nbformat": 4,
 "nbformat_minor": 5
}
