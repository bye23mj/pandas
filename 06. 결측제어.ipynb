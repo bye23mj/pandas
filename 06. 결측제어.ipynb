{
 "cells": [
  {
   "cell_type": "markdown",
   "id": "73545f3c",
   "metadata": {},
   "source": [
    "### 06-01. 결측값 확인 (isna, isnull, notna, notnull)"
   ]
  },
  {
   "cell_type": "markdown",
   "id": "5dc25d35",
   "metadata": {},
   "source": [
    "DataFrame.isna( )\n",
    "※ isnull( )과 완전히 동일합니다.</br>\n",
    "\n",
    "DataFrame.notna( )\n",
    "※ notnull( )과 완전히 동일합니다.</br>\n",
    "\n",
    "isna 메서드와 notna 메서드는 DataFrame내의 결측값을 확인해서 bool형식으로 반환하는 메서드입니다.</br>\n",
    "isna의 경우 결측값이면 True 반환, 정상값이면 False반환이며,\n",
    "notna의 경우 결측값이면False반환, 정상값이면 True를 반환합니다.</br>\n",
    "\n",
    "np.inf나 그냥 ' ' 의경우 결측값으로 판단하지 않습니다.</br>"
   ]
  },
  {
   "cell_type": "code",
   "execution_count": 4,
   "id": "95541402",
   "metadata": {},
   "outputs": [
    {
     "name": "stdout",
     "output_type": "stream",
     "text": [
      "      col1  col2  col3  col4\n",
      "row1   1.0     2  <NA>   4.0\n",
      "row2   NaN     6     7   8.0\n",
      "row3   9.0    10    11   NaN\n"
     ]
    }
   ],
   "source": [
    "import pandas as pd\n",
    "import numpy as np\n",
    "\n",
    "col  = ['col1','col2','col3','col4']\n",
    "row  = ['row1','row2','row3']\n",
    "data = [[1,2,pd.NA,4],\n",
    "        [np.nan,6,7,8],\n",
    "        [9,10,11,None]]\n",
    "df = pd.DataFrame(data,row,col)\n",
    "\n",
    "print(df)"
   ]
  },
  {
   "cell_type": "code",
   "execution_count": 6,
   "id": "7b780361",
   "metadata": {},
   "outputs": [
    {
     "name": "stdout",
     "output_type": "stream",
     "text": [
      "       col1   col2   col3   col4\n",
      "row1  False  False   True  False\n",
      "row2   True  False  False  False\n",
      "row3  False  False  False   True\n"
     ]
    }
   ],
   "source": [
    "print(df.isna())"
   ]
  },
  {
   "cell_type": "code",
   "execution_count": 7,
   "id": "7b5f6bdb",
   "metadata": {},
   "outputs": [
    {
     "name": "stdout",
     "output_type": "stream",
     "text": [
      "       col1  col2   col3   col4\n",
      "row1   True  True  False   True\n",
      "row2  False  True   True   True\n",
      "row3   True  True   True  False\n"
     ]
    }
   ],
   "source": [
    "print(df.notna())"
   ]
  },
  {
   "cell_type": "markdown",
   "id": "39a888bc",
   "metadata": {},
   "source": [
    "### 06-02. 결측값 제거 (dropna)"
   ]
  },
  {
   "cell_type": "markdown",
   "id": "0be09e04",
   "metadata": {},
   "source": [
    "DataFrame.dropna(axis=0, how='any', thresh=None, subset=None, inplace=False)\n",
    "\n",
    "dropna 메서드는 DataFramde내의 결측값이 포함된 레이블을 제거하는 메서드입니다.\n",
    "\n",
    "axis : {0: index / 1: columns} 결측치 제거를 진행 할 레이블입니다.</br>\n",
    "how : {'any' : 존재하면 제거 / 'all' : 모두 결측치면 제거} 제거할 유형입니다. 포함만 시켜도 제거할지, 전무 NA여야 제거할지 정할 수 있습니다.</br>\n",
    "tresh : 결측값이 아닌 값이 몇 개 미만일 경우에만 적용시키는 인수 입니다.</br>\n",
    "예를들어, tresh값이 3이라면 결측값이 아닌 값이 3개 미만일 경우에만 dropna메서드를 수행합니다.</br>\n",
    "subset : dropna메서드를 수행할 레이블을 지정합니다.</br>\n",
    "inplace : 원본을 변경할지의 여부입니다.</br>"
   ]
  },
  {
   "cell_type": "code",
   "execution_count": 8,
   "id": "f2598ead",
   "metadata": {},
   "outputs": [
    {
     "name": "stdout",
     "output_type": "stream",
     "text": [
      "      col1  col2  col3  col4  col5\n",
      "row1     1     2     3  <NA>     5\n",
      "row2     6  <NA>     8  <NA>    10\n",
      "row3    11    12    13    14    15\n",
      "row4  <NA>  <NA>  <NA>  <NA>  <NA>\n"
     ]
    }
   ],
   "source": [
    "col  = ['col1','col2','col3','col4','col5']\n",
    "row  = ['row1','row2','row3','row4']\n",
    "data = [[1,2,3,pd.NA,5],[6,pd.NA,8,pd.NA,10],[11,12,13,14,15],[pd.NA,pd.NA,pd.NA,pd.NA,pd.NA]]\n",
    "df = pd.DataFrame(data,row,col)\n",
    "print(df)"
   ]
  },
  {
   "cell_type": "code",
   "execution_count": 10,
   "id": "38b59a4b",
   "metadata": {},
   "outputs": [
    {
     "name": "stdout",
     "output_type": "stream",
     "text": [
      "     col1 col2 col3 col4 col5\n",
      "row3   11   12   13   14   15\n"
     ]
    }
   ],
   "source": [
    "#axis=0인 경우 결측치가 포함된 모든 행이 제거되었습니다.\n",
    "print(df.dropna(axis=0))"
   ]
  },
  {
   "cell_type": "code",
   "execution_count": 12,
   "id": "90669f13",
   "metadata": {},
   "outputs": [
    {
     "name": "stdout",
     "output_type": "stream",
     "text": [
      "Empty DataFrame\n",
      "Columns: []\n",
      "Index: [row1, row2, row3, row4]\n"
     ]
    }
   ],
   "source": [
    "#axis=1인 경우 결측치가 포함된 모든 열이 제거\n",
    "print(df.dropna(axis=1))"
   ]
  },
  {
   "cell_type": "code",
   "execution_count": 13,
   "id": "42d8d16f",
   "metadata": {},
   "outputs": [
    {
     "name": "stdout",
     "output_type": "stream",
     "text": [
      "     col1 col2 col3 col4 col5\n",
      "row3   11   12   13   14   15\n"
     ]
    }
   ],
   "source": [
    "#기본적으로 how 는 'any'이며 이 경우 한 값이라도 NA를 가진다면 해당 레이블을 제거합니다.\n",
    "print(df.dropna(how='any'))"
   ]
  },
  {
   "cell_type": "code",
   "execution_count": 14,
   "id": "5f3738eb",
   "metadata": {},
   "outputs": [
    {
     "name": "stdout",
     "output_type": "stream",
     "text": [
      "     col1  col2 col3  col4 col5\n",
      "row1    1     2    3  <NA>    5\n",
      "row2    6  <NA>    8  <NA>   10\n",
      "row3   11    12   13    14   15\n"
     ]
    }
   ],
   "source": [
    "#how를 'all'로 할 경우 모든값이 NA인 레이블만 삭제됩니다.\n",
    "print(df.dropna(how='all'))"
   ]
  },
  {
   "cell_type": "code",
   "execution_count": 15,
   "id": "7841d8e3",
   "metadata": {},
   "outputs": [
    {
     "name": "stdout",
     "output_type": "stream",
     "text": [
      "     col1  col2 col3  col4 col5\n",
      "row1    1     2    3  <NA>    5\n",
      "row2    6  <NA>    8  <NA>   10\n",
      "row3   11    12   13    14   15\n"
     ]
    }
   ],
   "source": [
    "#thresh가 3일 경우 정상값이 3개 미만인 경우에 대해서만 결측치 보정을 진행합니다.\n",
    "print(df.dropna(thresh=3))"
   ]
  },
  {
   "cell_type": "code",
   "execution_count": 16,
   "id": "27a69f42",
   "metadata": {},
   "outputs": [
    {
     "name": "stdout",
     "output_type": "stream",
     "text": [
      "     col1 col2 col3  col4 col5\n",
      "row1    1    2    3  <NA>    5\n",
      "row3   11   12   13    14   15\n"
     ]
    }
   ],
   "source": [
    "print(df.dropna(thresh=4))"
   ]
  },
  {
   "cell_type": "code",
   "execution_count": 18,
   "id": "ebb95b1c",
   "metadata": {},
   "outputs": [
    {
     "name": "stdout",
     "output_type": "stream",
     "text": [
      "     col1 col2 col3  col4 col5\n",
      "row1    1    2    3  <NA>    5\n",
      "row3   11   12   13    14   15\n"
     ]
    }
   ],
   "source": [
    "#subset에 리스트형태의 값을 입력함으로써 결측치 제거를 수행할 레이블을 지정할 수 있습니다.\n",
    "print(df.dropna(subset=['col1','col2']))"
   ]
  },
  {
   "cell_type": "code",
   "execution_count": 20,
   "id": "9b076e95",
   "metadata": {},
   "outputs": [
    {
     "name": "stdout",
     "output_type": "stream",
     "text": [
      "     col1 col2 col3 col4 col5\n",
      "row3   11   12   13   14   15\n"
     ]
    }
   ],
   "source": [
    "#Pandas에서 공통적으로 inplace 인수는 원본의 수정을 의미합니다. inplace가 True인 경우 원본이 수정됩니다.\n",
    "df.dropna(inplace=True)\n",
    "print(df)"
   ]
  },
  {
   "cell_type": "markdown",
   "id": "eebe50ae",
   "metadata": {},
   "source": [
    "### 06-03. 결측값 없는 인덱스 확인 (first_valid_index / last_valid_index)"
   ]
  },
  {
   "cell_type": "markdown",
   "id": "825638f3",
   "metadata": {},
   "source": [
    "DataFrame.first_valid_index( )\n",
    "DataFrame.last_valid_index( )\n",
    "\n",
    "first_valid_index메서드의 경우 처음으로 결측치가 아닌값이 나오는 행의 인덱스를 출력합니다.</br>\n",
    "last_valid_index메서드의 경우 마지막으로 결측치가 아닌값이 나오는 행의 인덱스를 출력합니다.</br>"
   ]
  },
  {
   "cell_type": "code",
   "execution_count": 22,
   "id": "bf9e2d7f",
   "metadata": {},
   "outputs": [
    {
     "name": "stdout",
     "output_type": "stream",
     "text": [
      "      col1  col2\n",
      "row1   NaN   NaN\n",
      "row2  <NA>     4\n",
      "row3  <NA>   NaT\n",
      "row4     5     6\n",
      "row5   NaN  <NA>\n"
     ]
    }
   ],
   "source": [
    "col  = ['col1','col2']\n",
    "row  = ['row1','row2','row3','row4','row5']\n",
    "data = [[np.nan,np.nan],[pd.NA,4],[pd.NA,pd.NaT],[5,6],[np.nan,pd.NA]]\n",
    "df = pd.DataFrame(data,row,col)\n",
    "print(df)"
   ]
  },
  {
   "cell_type": "code",
   "execution_count": 23,
   "id": "3aefd5aa",
   "metadata": {},
   "outputs": [
    {
     "name": "stdout",
     "output_type": "stream",
     "text": [
      "row2\n"
     ]
    }
   ],
   "source": [
    "#first_valid_index메서드의 경우 처음으로 결측치가 아닌값이 나오는 행의 인덱스를 출력합니다.\n",
    "print(df.first_valid_index()) "
   ]
  },
  {
   "cell_type": "code",
   "execution_count": 25,
   "id": "ac702b4e",
   "metadata": {},
   "outputs": [
    {
     "name": "stdout",
     "output_type": "stream",
     "text": [
      "row4\n"
     ]
    }
   ],
   "source": [
    "#last_valid_index메서드의 경우 마지막으로 결측치가 아닌값이 나오는 행의 인덱스를 출력합니다.\n",
    "print(df.last_valid_index())"
   ]
  },
  {
   "cell_type": "markdown",
   "id": "aee055fb",
   "metadata": {},
   "source": [
    "### 06-04. 결측값 변경 (fillna / backfill / bfill / pad / ffill)"
   ]
  },
  {
   "cell_type": "markdown",
   "id": "d9819e95",
   "metadata": {},
   "source": [
    "DataFrame.fillna(value=None, method=None, axis=None, inplace=False, limit=None, downcast=None)\n",
    "\n",
    "DataFrame.backfill( ) / DataFrame.bfill : DataFrame.fillna(mathod='bfill')과 동일합니다.</br>\n",
    "DataFrame.pad / DataFrame.ffill : DataFrame.fillna(method='ffill')과 동일합니다.</br>\n",
    "\n",
    "value : 결측값을 대체할 값입니다. dict형태로도 가능합니다.</br>\n",
    "method : 결측값을 변경할 방식입니다. bfill로 할경우 결측값을 바로 아래 값과 동일하게 변경합니다.</br>\n",
    "ffill로 할 경우 결측값을 바로 위 값과 동일하게 변경합니다.</br>\n",
    "axis : {0 : index / 1 : columns} fillna 메서드를 적용할 레이블입니다.</br>\n",
    "inplace : 원본을 변경할지 여부입니다. True일 경우 원본을 변경하게 됩니다.</br>\n",
    "limit : 결측값을 변경할 횟수입니다. 위에서부터 limit로 지정된 갯수만큼만 변경합니다.</br>\n",
    "downcast : 다운캐스트할지 여부입니다. downcast='infer'일 경우 float64를 int64로 변경합니다.</br>"
   ]
  },
  {
   "cell_type": "code",
   "execution_count": 27,
   "id": "2a68eee8",
   "metadata": {},
   "outputs": [
    {
     "name": "stdout",
     "output_type": "stream",
     "text": [
      "      col1  col2  col3  col4  col5\n",
      "row1   NaN   2.0   NaN   4.0   NaN\n",
      "row2   6.0   7.0   NaN   9.0   NaN\n",
      "row3  11.0   NaN   NaN  14.0  15.0\n",
      "row4   NaN  17.0   NaN   NaN  20.0\n",
      "row5   NaN  22.0   NaN   NaN  25.0\n"
     ]
    }
   ],
   "source": [
    "col  = ['col1','col2','col3','col4','col5']\n",
    "row  = ['row1','row2','row3','row4','row5']\n",
    "na = np.nan\n",
    "data = [[na, 2,na, 4,na],\n",
    "        [ 6, 7,na, 9,na],\n",
    "        [11,na,na,14,15],\n",
    "        [na,17,na,na,20],\n",
    "        [na,22,na,na,25]]\n",
    "df = pd.DataFrame(data,row,col)\n",
    "print(df)"
   ]
  },
  {
   "cell_type": "code",
   "execution_count": 29,
   "id": "5aae531f",
   "metadata": {},
   "outputs": [
    {
     "name": "stdout",
     "output_type": "stream",
     "text": [
      "      col1  col2 col3  col4  col5\n",
      "row1     A   2.0    A   4.0     A\n",
      "row2   6.0   7.0    A   9.0     A\n",
      "row3  11.0     A    A  14.0  15.0\n",
      "row4     A  17.0    A     A  20.0\n",
      "row5     A  22.0    A     A  25.0\n"
     ]
    }
   ],
   "source": [
    "print(df.fillna('A'))"
   ]
  },
  {
   "cell_type": "code",
   "execution_count": 30,
   "id": "1ca3e8c0",
   "metadata": {},
   "outputs": [
    {
     "name": "stdout",
     "output_type": "stream",
     "text": [
      "      col1  col2 col3  col4  col5\n",
      "row1     A   2.0    C   4.0     E\n",
      "row2   6.0   7.0    C   9.0     E\n",
      "row3  11.0     B    C  14.0  15.0\n",
      "row4     A  17.0    C     D  20.0\n",
      "row5     A  22.0    C     D  25.0\n"
     ]
    }
   ],
   "source": [
    "dict = {'col1':'A','col2':'B','col3':'C','col4':'D','col5':'E'}\n",
    "print(df.fillna(value=dict))"
   ]
  },
  {
   "cell_type": "code",
   "execution_count": 31,
   "id": "2427ed13",
   "metadata": {},
   "outputs": [
    {
     "name": "stdout",
     "output_type": "stream",
     "text": [
      "      col1  col2  col3  col4  col5\n",
      "row1   6.0   2.0   NaN   4.0  15.0\n",
      "row2   6.0   7.0   NaN   9.0  15.0\n",
      "row3  11.0  17.0   NaN  14.0  15.0\n",
      "row4   NaN  17.0   NaN   NaN  20.0\n",
      "row5   NaN  22.0   NaN   NaN  25.0\n"
     ]
    }
   ],
   "source": [
    "#바로 아래값과 동일하게 설정됩니다.\n",
    "print(df.fillna(method='bfill'))"
   ]
  },
  {
   "cell_type": "code",
   "execution_count": 33,
   "id": "00d9585a",
   "metadata": {},
   "outputs": [
    {
     "name": "stdout",
     "output_type": "stream",
     "text": [
      "      col1  col2  col3  col4  col5\n",
      "row1   NaN   2.0   NaN   4.0   NaN\n",
      "row2   6.0   7.0   NaN   9.0   NaN\n",
      "row3  11.0   7.0   NaN  14.0  15.0\n",
      "row4  11.0  17.0   NaN  14.0  20.0\n",
      "row5  11.0  22.0   NaN  14.0  25.0\n"
     ]
    }
   ],
   "source": [
    "#위값과 동일하게 설정됩니다.\n",
    "print(df.fillna(method='ffill'))"
   ]
  },
  {
   "cell_type": "code",
   "execution_count": 35,
   "id": "79c4d9e1",
   "metadata": {},
   "outputs": [
    {
     "name": "stdout",
     "output_type": "stream",
     "text": [
      "      col1  col2 col3  col4  col5\n",
      "row1     A   2.0    A   4.0     A\n",
      "row2   6.0   7.0    A   9.0     A\n",
      "row3  11.0     A  NaN  14.0  15.0\n",
      "row4     A  17.0  NaN     A  20.0\n",
      "row5   NaN  22.0  NaN     A  25.0\n"
     ]
    }
   ],
   "source": [
    "#limit인수는 각 레이블값에 대해서 결측치 변경을 수행할 횟수입니다.\n",
    "print(df.fillna('A', limit=2))"
   ]
  },
  {
   "cell_type": "code",
   "execution_count": 36,
   "id": "3a823abb",
   "metadata": {},
   "outputs": [
    {
     "name": "stdout",
     "output_type": "stream",
     "text": [
      "      col1  col2  col3  col4  col5\n",
      "row1     0     2     0     4     0\n",
      "row2     6     7     0     9     0\n",
      "row3    11     0     0    14    15\n",
      "row4     0    17     0     0    20\n",
      "row5     0    22     0     0    25\n"
     ]
    }
   ],
   "source": [
    "#downcast 인수를 'infer'로 설정함으로써 float64형태를 int64형태로 변경할 수 있습니다.\n",
    "print(df.fillna(0, downcast='infer'))"
   ]
  },
  {
   "cell_type": "code",
   "execution_count": 38,
   "id": "13544f53",
   "metadata": {},
   "outputs": [
    {
     "name": "stdout",
     "output_type": "stream",
     "text": [
      "      col1  col2 col3  col4  col5\n",
      "row1     A   2.0    A   4.0     A\n",
      "row2   6.0   7.0    A   9.0     A\n",
      "row3  11.0     A    A  14.0  15.0\n",
      "row4     A  17.0    A     A  20.0\n",
      "row5     A  22.0    A     A  25.0\n"
     ]
    }
   ],
   "source": [
    "#inplace는 원본을 덮어씌우는 기능과 유사한 기능알 합니다.\n",
    "df.fillna('A',inplace=True)\n",
    "print(df)"
   ]
  },
  {
   "cell_type": "markdown",
   "id": "010f7cf0",
   "metadata": {},
   "source": [
    "### 06-05. 결측값 없는 마지막 행 반환 (asof)"
   ]
  },
  {
   "cell_type": "markdown",
   "id": "6cba156a",
   "metadata": {},
   "source": [
    "DataFrame.asof(where, subset=None)\n",
    "\n",
    "asof 메서드는 인덱스 기준으로 where이전에 결측치가 없는 마지막 행을 구합니다.</br>\n",
    "\n",
    "where : 기준이 되는 인덱스 값입니다.</br>\n",
    "subset : 기준이 되는 열 입니다.</br>"
   ]
  },
  {
   "cell_type": "code",
   "execution_count": 41,
   "id": "2662cd03",
   "metadata": {},
   "outputs": [
    {
     "name": "stdout",
     "output_type": "stream",
     "text": [
      "      A     B\n",
      "10  1.0   7.0\n",
      "20  NaN   8.0\n",
      "30  NaN   9.0\n",
      "40  4.0  10.0\n",
      "50  5.0   NaN\n",
      "60  6.0  12.0\n"
     ]
    }
   ],
   "source": [
    "row = [10,20,30,40,50,60]\n",
    "data = {'A':[1,na,na,4,5,6],'B':[7,8,9,10,na,12]}\n",
    "df = pd.DataFrame(data=data, index = row)\n",
    "print(df)"
   ]
  },
  {
   "cell_type": "code",
   "execution_count": 42,
   "id": "aa8c5db6",
   "metadata": {},
   "outputs": [
    {
     "name": "stdout",
     "output_type": "stream",
     "text": [
      "A     4.0\n",
      "B    10.0\n",
      "Name: 45, dtype: float64\n"
     ]
    }
   ],
   "source": [
    "print(df.asof(where=45))"
   ]
  },
  {
   "cell_type": "code",
   "execution_count": 44,
   "id": "32c6944f",
   "metadata": {},
   "outputs": [
    {
     "name": "stdout",
     "output_type": "stream",
     "text": [
      "      A     B\n",
      "10  1.0   7.0\n",
      "45  4.0  10.0\n",
      "60  6.0  12.0\n"
     ]
    }
   ],
   "source": [
    "print(df.asof(where=[10,45,60]))"
   ]
  },
  {
   "cell_type": "code",
   "execution_count": 45,
   "id": "8ac58251",
   "metadata": {},
   "outputs": [
    {
     "name": "stdout",
     "output_type": "stream",
     "text": [
      "      A     B\n",
      "10  1.0   7.0\n",
      "35  1.0   7.0\n",
      "60  6.0  12.0\n"
     ]
    }
   ],
   "source": [
    "print(df.asof(where=[10,35,60],subset='A'))"
   ]
  },
  {
   "cell_type": "code",
   "execution_count": 46,
   "id": "0f04333d",
   "metadata": {},
   "outputs": [
    {
     "name": "stdout",
     "output_type": "stream",
     "text": [
      "      A     B\n",
      "10  1.0   7.0\n",
      "35  NaN   9.0\n",
      "60  6.0  12.0\n"
     ]
    }
   ],
   "source": [
    "print(df.asof(where=[10,35,60],subset='B'))"
   ]
  }
 ],
 "metadata": {
  "kernelspec": {
   "display_name": "Python 3 (ipykernel)",
   "language": "python",
   "name": "python3"
  },
  "language_info": {
   "codemirror_mode": {
    "name": "ipython",
    "version": 3
   },
   "file_extension": ".py",
   "mimetype": "text/x-python",
   "name": "python",
   "nbconvert_exporter": "python",
   "pygments_lexer": "ipython3",
   "version": "3.9.5"
  }
 },
 "nbformat": 4,
 "nbformat_minor": 5
}
